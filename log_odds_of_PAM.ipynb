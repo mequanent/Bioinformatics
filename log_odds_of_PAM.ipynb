{
  "nbformat": 4,
  "nbformat_minor": 0,
  "metadata": {
    "colab": {
      "name": "hw1_110761504.ipynb",
      "provenance": [],
      "authorship_tag": "ABX9TyOKo28wJAz7OPsV504k9/Ch",
      "include_colab_link": true
    },
    "kernelspec": {
      "name": "python3",
      "display_name": "Python 3"
    },
    "language_info": {
      "name": "python"
    }
  },
  "cells": [
    {
      "cell_type": "markdown",
      "metadata": {
        "id": "view-in-github",
        "colab_type": "text"
      },
      "source": [
        "<a href=\"https://colab.research.google.com/github/mequanent/Bioinformatics-hws/blob/main/log_odds_of_PAM.ipynb\" target=\"_parent\"><img src=\"https://colab.research.google.com/assets/colab-badge.svg\" alt=\"Open In Colab\"/></a>"
      ]
    },
    {
      "cell_type": "code",
      "source": [
        "# Clone the repository first using the following command\n",
        "!npx degit https://github.com/mequanent/Bioinformatics-Project -f"
      ],
      "metadata": {
        "colab": {
          "base_uri": "https://localhost:8080/"
        },
        "id": "Eim-tkyVaZrg",
        "outputId": "dae527ef-ee76-43aa-8927-f34c6c327f41"
      },
      "execution_count": 1,
      "outputs": [
        {
          "output_type": "stream",
          "name": "stdout",
          "text": [
            "\u001b[K\u001b[?25hnpx: installed 1 in 2.601s\n",
            "\u001b[36m> destination directory is not empty. Using --force, continuing\u001b[39m\n",
            "\u001b[36m> cloned \u001b[1mmequanent/Bioinformatics-Project\u001b[22m#\u001b[1mHEAD\u001b[22m\u001b[39m\n"
          ]
        }
      ]
    },
    {
      "cell_type": "code",
      "execution_count": 15,
      "metadata": {
        "id": "1B09rsfBRCzv",
        "colab": {
          "base_uri": "https://localhost:8080/"
        },
        "outputId": "412ee203-8409-4e23-c5c8-109b4ad02437"
      },
      "outputs": [
        {
          "output_type": "stream",
          "name": "stdout",
          "text": [
            "mut size:  (20, 20)\n"
          ]
        }
      ],
      "source": [
        "import numpy as np\n",
        "np.set_printoptions(suppress=True) # Suppress displaying the scientific notation\n",
        "\n",
        "file = open(\"mut.txt\", \"r\")\n",
        "lines = file.readlines()[2:] # remove the first two lines\n",
        "mut = []\n",
        "for line in lines:\n",
        "  line = line[1:].strip().split() # remove the letters from left and the spaces\n",
        "  mut.append(line)\n",
        "file.close()\n",
        "fi = [0.087, 0.041, 0.040, 0.047, 0.033, 0.038, 0.050, 0.089, 0.034, 0.037, 0.085, 0.081, 0.015, 0.040, 0.051, 0.070, 0.058, 0.010, 0.030, 0.065]\n",
        "mut = np.array(mut).astype(int) # convert the string array into numpy array of integers\n",
        "print('mut size: ', mut.shape) # confirm if we get the right matrix size from the text\n",
        "mut = np.true_divide(mut, 10000) # Change the four digit values into values between 0 & 1\n",
        "#print(np.round(mut, 4))\n",
        "\n",
        "# ************* PAMx Function *********************\n",
        "def pam(x):\n",
        "  PAMx = mut\n",
        "  for i in range(2, x+1):\n",
        "    PAMx = np.matmul(PAMx, mut)\n",
        "  return np.rint(PAMx * 100).astype(int)\n",
        "# ************* End of the PAMx Function ***********\n",
        "PAM250 = pam(250)\n",
        "#print('PAMx')\n",
        "#print(PAM250)"
      ]
    },
    {
      "cell_type": "code",
      "source": [
        "\"A, R, N, D, C, Q, E, G, H, I, L, K, M, F, P, S, T, W, Y, V \"\n",
        "\"Ala, Arg, Asn, Asp, Cys, Gln, Glu, Gly, His, Ile, Leu, Lys, Met, Phe, Pro, Ser, Thr, Trp, Tyr, Val\"\n",
        "\"fi = 0.087, 0.041, 0.040, 0.047, 0.033, 0.038, 0.050, 0.089, 0.034, 0.037, 0.085, 0.081, 0.015, 0.040, 0.051, 0.070, 0.058, 0.010, 0.030, 0.065\"\n",
        "\"Mj = 100, 65, 134, 106, 20, 93, 102, 49, 66, 96, 40, 56, 94, 41, 56, 120, 97, 18, 41, 74\"\n",
        "mj = [100, 65, 134, 106, 20, 93, 102, 49, 66, 96, 40, 56, 94, 41, 56, 120, 97, 18, 41, 74]"
      ],
      "metadata": {
        "id": "BkGrJomscScP"
      },
      "execution_count": 10,
      "outputs": []
    },
    {
      "cell_type": "code",
      "source": [
        "Rij = []\n",
        "for i in range(20):\n",
        "  Rij.append(PAM250[i] / fi[i] / 100)\n",
        "Rij = np.array(Rij)\n",
        "\n",
        "m = np.array([[1., 0], [2, 3]])\n",
        "res = np.log2(m, out=np.zeros_like(m), where=(m!=0))\n",
        "\n",
        "S = Rij\n",
        "for i in range(20):\n",
        "  for j in range(20):\n",
        "    if Rij[i][j] > 0:\n",
        "      S[i][j] = np.rint(10 * np.log10(Rij[i][j]))\n",
        "    else:\n",
        "      S[i][j] = 0\n",
        "\n",
        "for i in range(20):\n",
        "  for j in range(20):\n",
        "    S[i][j] = np.rint((S[i][j] + S[j][i]) / 2)\n",
        "    S[j][i] = S[i][j]\n",
        "print(\"log-odds-of-PAM250\")\n",
        "print(S.astype(int))"
      ],
      "metadata": {
        "id": "Pe0FDknHLqDd",
        "outputId": "90ccb038-8c96-4139-d3f4-b600a00603bb",
        "colab": {
          "base_uri": "https://localhost:8080/"
        }
      },
      "execution_count": 17,
      "outputs": [
        {
          "output_type": "stream",
          "name": "stdout",
          "text": [
            "log-odds-of-PAM250\n",
            "[[ 2 -2  0  0 -2  0  0  1 -2  0 -2 -1 -2 -3  1  1  1 -3 -4  0]\n",
            " [-2  6  0 -2 -2  1 -1 -3  2 -2 -3  3 -1 -3  0  0 -1  2 -6 -2]\n",
            " [ 0  0  2  2 -4  1  2  1  2 -2 -2  1 -2 -3  0  1  1 -2 -2 -2]\n",
            " [ 0 -2  2  4 -6  2  3  1  0 -2 -4  0 -2 -6 -1  0  0 -4 -4 -2]\n",
            " [-2 -2 -4 -6 12 -6 -4 -4 -2 -2 -6 -6 -2 -4 -2  0 -2 -2  0 -2]\n",
            " [ 0  1  1  2 -6  4  3 -1  2 -3 -2  1 -2 -6  0 -1 -1 -3 -6 -2]\n",
            " [ 0 -1  2  3 -4  3  4  0  1 -2 -2  0 -2 -5  0  0  0 -4 -4 -2]\n",
            " [ 1 -3  1  1 -4 -1  0  5 -2 -3 -4 -2 -2 -4  0  1  0 -3 -5 -1]\n",
            " [-2  2  2  0 -2  2  1 -2  6 -2 -2  0 -2 -2  0 -1 -2 -1  0 -2]\n",
            " [ 0 -2 -2 -2 -2 -3 -2 -3 -2  4  2 -2  2  1 -2 -1  0 -3 -2  4]\n",
            " [-2 -3 -2 -4 -6 -2 -2 -4 -2  2  6 -2  4  2 -2 -2 -2 -1  0  2]\n",
            " [-1  3  1  0 -6  1  0 -2  0 -2 -2  5  0 -5 -1  0  0 -2 -4 -2]\n",
            " [-2 -1 -2 -2 -2 -2 -2 -2 -2  2  4  0  6 -1 -2 -2 -2 -1 -2  2]\n",
            " [-3 -3 -3 -6 -4 -6 -5 -4 -2  1  2 -5 -1  9 -5 -4 -3  0  7 -1]\n",
            " [ 1  0  0 -1 -2  0  0  0  0 -2 -2 -1 -2 -5  6  1  1 -4 -4 -1]\n",
            " [ 1  0  1  0  0 -1  0  1 -1 -1 -2  0 -2 -4  1  2  2 -1 -3 -1]\n",
            " [ 1 -1  1  0 -2 -1  0  0 -2  0 -2  0 -2 -3  1  2  3 -2 -2  0]\n",
            " [-3  2 -2 -4 -2 -3 -4 -3 -1 -3 -1 -2 -1  0 -4 -1 -2 17  0 -2]\n",
            " [-4 -6 -2 -4  0 -6 -4 -5  0 -2  0 -4 -2  7 -4 -3 -2  0 10 -2]\n",
            " [ 0 -2 -2 -2 -2 -2 -2 -1 -2  4  2 -2  2 -1 -1 -1  0 -2 -2  4]]\n"
          ]
        }
      ]
    }
  ]
}