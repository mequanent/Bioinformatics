{
  "nbformat": 4,
  "nbformat_minor": 0,
  "metadata": {
    "colab": {
      "name": "hw1_110761504.ipynb",
      "provenance": [],
      "authorship_tag": "ABX9TyM9pv8Ryezbxod6hwUYfpXm",
      "include_colab_link": true
    },
    "kernelspec": {
      "name": "python3",
      "display_name": "Python 3"
    },
    "language_info": {
      "name": "python"
    }
  },
  "cells": [
    {
      "cell_type": "markdown",
      "metadata": {
        "id": "view-in-github",
        "colab_type": "text"
      },
      "source": [
        "<a href=\"https://colab.research.google.com/github/mequanent/Bioinformatics-hw2/blob/main/hw2_110761504.ipynb\" target=\"_parent\"><img src=\"https://colab.research.google.com/assets/colab-badge.svg\" alt=\"Open In Colab\"/></a>"
      ]
    },
    {
      "cell_type": "code",
      "source": [
        "# Clone the repository first using the following command\n",
        "!npx degit https://github.com/mequanent/Bioinformatics-hw2 -f"
      ],
      "metadata": {
        "colab": {
          "base_uri": "https://localhost:8080/"
        },
        "id": "Eim-tkyVaZrg",
        "outputId": "0036ff7d-c875-404f-a1a3-d56ed16e5210"
      },
      "execution_count": 3,
      "outputs": [
        {
          "output_type": "stream",
          "name": "stdout",
          "text": [
            "\u001b[?25l[..................] / rollbackFailedOptional: verb npm-session 728b492b803d710\u001b[0m\u001b[K\r[#######...........] \\ extract:degit: verb lock using /root/.npm/_locks/staging\u001b[0m\u001b[K\r[############......] / refresh-package-json:degit: timing action:finalize Compl\u001b[0m\u001b[K\r\r\u001b[K\u001b[?25hnpx: installed 1 in 1.042s\n",
            "\u001b[36m> destination directory is not empty. Using --force, continuing\u001b[39m\n",
            "\u001b[36m> cloned \u001b[1mmequanent/Bioinformatics-hw2\u001b[22m#\u001b[1mHEAD\u001b[22m\u001b[39m\n"
          ]
        }
      ]
    },
    {
      "cell_type": "code",
      "execution_count": null,
      "metadata": {
        "id": "1B09rsfBRCzv",
        "colab": {
          "base_uri": "https://localhost:8080/"
        },
        "outputId": "afe104dc-79ef-48aa-9562-c391cabb3697"
      },
      "outputs": [
        {
          "output_type": "stream",
          "name": "stdout",
          "text": [
            "mut size:  (20, 20)\n",
            "[[0.9867 0.0002 0.0009 0.001  0.0003 0.0008 0.0017 0.0021 0.0002 0.0006\n",
            "  0.0004 0.0002 0.0006 0.0002 0.0022 0.0035 0.0032 0.     0.0002 0.0018]\n",
            " [0.0001 0.9913 0.0001 0.     0.0001 0.001  0.     0.     0.001  0.0003\n",
            "  0.0001 0.0019 0.0004 0.0001 0.0004 0.0006 0.0001 0.0008 0.     0.0001]\n",
            " [0.0004 0.0001 0.9822 0.0036 0.     0.0004 0.0006 0.0006 0.0021 0.0003\n",
            "  0.0001 0.0013 0.     0.0001 0.0002 0.002  0.0009 0.0001 0.0004 0.0001]\n",
            " [0.0006 0.     0.0042 0.9859 0.     0.0006 0.0053 0.0006 0.0004 0.0001\n",
            "  0.     0.0003 0.     0.     0.0001 0.0005 0.0003 0.     0.     0.0001]\n",
            " [0.0001 0.0001 0.     0.     0.9973 0.     0.     0.     0.0001 0.0001\n",
            "  0.     0.     0.     0.     0.0001 0.0005 0.0001 0.     0.0003 0.0002]\n",
            " [0.0003 0.0009 0.0004 0.0005 0.     0.9876 0.0027 0.0001 0.0023 0.0001\n",
            "  0.0003 0.0006 0.0004 0.     0.0006 0.0002 0.0002 0.     0.     0.0001]\n",
            " [0.001  0.     0.0007 0.0056 0.     0.0035 0.9865 0.0004 0.0002 0.0003\n",
            "  0.0001 0.0004 0.0001 0.     0.0003 0.0004 0.0002 0.     0.0001 0.0002]\n",
            " [0.0021 0.0001 0.0012 0.0011 0.0001 0.0003 0.0007 0.9935 0.0001 0.\n",
            "  0.0001 0.0002 0.0001 0.0001 0.0003 0.0021 0.0003 0.     0.     0.0005]\n",
            " [0.0001 0.0008 0.0018 0.0003 0.0001 0.002  0.0001 0.     0.9912 0.\n",
            "  0.0001 0.0001 0.     0.0002 0.0003 0.0001 0.0001 0.0001 0.0004 0.0001]\n",
            " [0.0002 0.0002 0.0003 0.0001 0.0002 0.0001 0.0002 0.     0.     0.9872\n",
            "  0.0009 0.0002 0.0012 0.0007 0.     0.0001 0.0007 0.     0.0001 0.0033]\n",
            " [0.0003 0.0001 0.0003 0.     0.     0.0006 0.0001 0.0001 0.0004 0.0022\n",
            "  0.9947 0.0002 0.0045 0.0013 0.0003 0.0001 0.0003 0.0004 0.0002 0.0015]\n",
            " [0.0002 0.0037 0.0025 0.0006 0.     0.0012 0.0007 0.0002 0.0002 0.0004\n",
            "  0.0001 0.9926 0.002  0.     0.0003 0.0008 0.0011 0.     0.0001 0.0001]\n",
            " [0.0001 0.0001 0.     0.     0.     0.0002 0.     0.     0.     0.0005\n",
            "  0.0008 0.0004 0.9874 0.0001 0.     0.0001 0.0002 0.     0.     0.0004]\n",
            " [0.0001 0.0001 0.0001 0.     0.     0.     0.     0.0001 0.0002 0.0008\n",
            "  0.0006 0.     0.0004 0.9946 0.     0.0002 0.0001 0.0003 0.0028 0.    ]\n",
            " [0.0013 0.0005 0.0002 0.0001 0.0001 0.0008 0.0003 0.0002 0.0005 0.0001\n",
            "  0.0002 0.0002 0.0001 0.0001 0.9926 0.0012 0.0004 0.     0.     0.0002]\n",
            " [0.0028 0.0011 0.0034 0.0007 0.0011 0.0004 0.0006 0.0016 0.0002 0.0002\n",
            "  0.0001 0.0007 0.0004 0.0003 0.0017 0.984  0.0038 0.0005 0.0002 0.0002]\n",
            " [0.0022 0.0002 0.0013 0.0004 0.0001 0.0003 0.0002 0.0002 0.0001 0.0011\n",
            "  0.0002 0.0008 0.0006 0.0001 0.0005 0.0032 0.9871 0.     0.0002 0.0009]\n",
            " [0.     0.0002 0.     0.     0.     0.     0.     0.     0.     0.\n",
            "  0.     0.     0.     0.0001 0.     0.0001 0.     0.9976 0.0001 0.    ]\n",
            " [0.0001 0.     0.0003 0.     0.0003 0.     0.0001 0.     0.0004 0.0001\n",
            "  0.0001 0.     0.     0.0021 0.     0.0001 0.0001 0.0002 0.9945 0.0001]\n",
            " [0.0013 0.0002 0.0001 0.0001 0.0003 0.0002 0.0002 0.0003 0.0003 0.0057\n",
            "  0.0011 0.0001 0.0017 0.0001 0.0003 0.0002 0.001  0.     0.0002 0.9901]]\n",
            "PAMx\n",
            "[[ 97   0   0   0   0   0   0   0   0   0   0   0   0   0   0   1   1   0\n",
            "    0   0]\n",
            " [  0  98   0   0   0   0   0   0   0   0   0   0   0   0   0   0   0   0\n",
            "    0   0]\n",
            " [  0   0  96   1   0   0   0   0   0   0   0   0   0   0   0   0   0   0\n",
            "    0   0]\n",
            " [  0   0   1  97   0   0   1   0   0   0   0   0   0   0   0   0   0   0\n",
            "    0   0]\n",
            " [  0   0   0   0  99   0   0   0   0   0   0   0   0   0   0   0   0   0\n",
            "    0   0]\n",
            " [  0   0   0   0   0  98   1   0   0   0   0   0   0   0   0   0   0   0\n",
            "    0   0]\n",
            " [  0   0   0   1   0   1  97   0   0   0   0   0   0   0   0   0   0   0\n",
            "    0   0]\n",
            " [  0   0   0   0   0   0   0  99   0   0   0   0   0   0   0   0   0   0\n",
            "    0   0]\n",
            " [  0   0   0   0   0   0   0   0  98   0   0   0   0   0   0   0   0   0\n",
            "    0   0]\n",
            " [  0   0   0   0   0   0   0   0   0  97   0   0   0   0   0   0   0   0\n",
            "    0   1]\n",
            " [  0   0   0   0   0   0   0   0   0   0  99   0   1   0   0   0   0   0\n",
            "    0   0]\n",
            " [  0   1   0   0   0   0   0   0   0   0   0  99   0   0   0   0   0   0\n",
            "    0   0]\n",
            " [  0   0   0   0   0   0   0   0   0   0   0   0  97   0   0   0   0   0\n",
            "    0   0]\n",
            " [  0   0   0   0   0   0   0   0   0   0   0   0   0  99   0   0   0   0\n",
            "    1   0]\n",
            " [  0   0   0   0   0   0   0   0   0   0   0   0   0   0  99   0   0   0\n",
            "    0   0]\n",
            " [  1   0   1   0   0   0   0   0   0   0   0   0   0   0   0  97   1   0\n",
            "    0   0]\n",
            " [  0   0   0   0   0   0   0   0   0   0   0   0   0   0   0   1  97   0\n",
            "    0   0]\n",
            " [  0   0   0   0   0   0   0   0   0   0   0   0   0   0   0   0   0 100\n",
            "    0   0]\n",
            " [  0   0   0   0   0   0   0   0   0   0   0   0   0   0   0   0   0   0\n",
            "   99   0]\n",
            " [  0   0   0   0   0   0   0   0   0   1   0   0   0   0   0   0   0   0\n",
            "    0  98]]\n"
          ]
        }
      ],
      "source": [
        "import numpy as np\n",
        "np.set_printoptions(suppress=True) # Suppress displaying the scientific notation\n",
        "\n",
        "file = open(\"mut.txt\", \"r\")\n",
        "lines = file.readlines()[2:] # remove the first two lines\n",
        "mut = []\n",
        "for line in lines:\n",
        "  line = line[1:].strip().split() # remove the letters from left and the spaces\n",
        "  mut.append(line)\n",
        "file.close()\n",
        "fi = [0.087, 0.041, 0.040, 0.047, 0.033, 0.038, 0.050, 0.089, 0.034, 0.037, 0.085, 0.081, 0.015, 0.040, 0.051, 0.070, 0.058, 0.010, 0.030, 0.065]\n",
        "mut = np.array(mut).astype(int) # convert the string array into numpy array of integers\n",
        "print('mut size: ', mut.shape) # confirm if we get the right matrix size from the text\n",
        "mut = np.true_divide(mut, 10000) # Change the four digit values into values between 0 & 1\n",
        "print(np.round(mut, 4))\n",
        "\n",
        "print('PAMx')\n",
        "# ************* PAMx Function *********************\n",
        "def pam(x):\n",
        "  PAMx = mut\n",
        "  for i in range(2, x+1):\n",
        "    #PAMx = np.matmul(mut, PAMx)\n",
        "    PAMx = np.matmul(PAMx, mut)\n",
        "    #PAMx = np.rint(PAMx * 100)\n",
        "    #PAMx = PAMx * 100\n",
        "  return np.rint(PAMx * 100).astype(int)\n",
        "# ************* End of the PAMx Function ***********\n",
        "PAM250 = pam(2)\n",
        "print(PAM250)"
      ]
    },
    {
      "cell_type": "code",
      "source": [
        ""
      ],
      "metadata": {
        "id": "aUlneMyU61QK"
      },
      "execution_count": null,
      "outputs": []
    },
    {
      "cell_type": "code",
      "source": [
        "\"A, R, N, D, C, Q, E, G, H, I, L, K, M, F, P, S, T, W, Y, V \"\n",
        "\"Ala, Arg, Asn, Asp, Cys, Gln, Glu, Gly, His, Ile, Leu, Lys, Met, Phe, Pro, Ser, Thr, Trp, Tyr, Val\"\n",
        "\"fi = 0.087, 0.041, 0.040, 0.047, 0.033, 0.038, 0.050, 0.089, 0.034, 0.037, 0.085, 0.081, 0.015, 0.040, 0.051, 0.070, 0.058, 0.010, 0.030, 0.065\"\n",
        "\"Mj = 100, 65, 134, 106, 20, 93, 102, 49, 66, 96, 40, 56, 94, 41, 56, 120, 97, 18, 41, 74\"\n",
        "mj = [100, 65, 134, 106, 20, 93, 102, 49, 66, 96, 40, 56, 94, 41, 56, 120, 97, 18, 41, 74]"
      ],
      "metadata": {
        "id": "BkGrJomscScP"
      },
      "execution_count": null,
      "outputs": []
    },
    {
      "cell_type": "code",
      "source": [
        "Rij = []\n",
        "for i in range(20):\n",
        "  Rij.append(PAM250[i] / fi[i] / 100)\n",
        "Rij = np.array(Rij)"
      ],
      "metadata": {
        "id": "UVgIer0_KrRo"
      },
      "execution_count": null,
      "outputs": []
    },
    {
      "cell_type": "code",
      "source": [
        "m = np.array([[1., 0], [2, 3]])\n",
        "res = np.log2(m, out=np.zeros_like(m), where=(m!=0))\n",
        "res"
      ],
      "metadata": {
        "colab": {
          "base_uri": "https://localhost:8080/"
        },
        "id": "bAkW0-ZPMbBd",
        "outputId": "a7e105d8-5fc4-453e-ddcc-4fb4e61c455f"
      },
      "execution_count": null,
      "outputs": [
        {
          "output_type": "execute_result",
          "data": {
            "text/plain": [
              "array([[0.       , 0.       ],\n",
              "       [1.       , 1.5849625]])"
            ]
          },
          "metadata": {},
          "execution_count": 34
        }
      ]
    },
    {
      "cell_type": "code",
      "source": [
        "S = Rij\n",
        "for i in range(20):\n",
        "  for j in range(20):\n",
        "    if Rij[i][j] > 0:\n",
        "      S[i][j] = np.rint(10 * np.log10(Rij[i][j]))\n",
        "    else:\n",
        "      S[i][j] = 0\n",
        "\n",
        "for i in range(20):\n",
        "  for j in range(20):\n",
        "    S[i][j] = np.rint((S[i][j] + S[j][i]) / 2)\n",
        "    S[j][i] = S[i][j]\n",
        "\n",
        "print(S.astype(int))"
      ],
      "metadata": {
        "id": "Pe0FDknHLqDd",
        "outputId": "121c6523-e8a9-4b3c-ee9d-feed2052bd96",
        "colab": {
          "base_uri": "https://localhost:8080/"
        }
      },
      "execution_count": null,
      "outputs": [
        {
          "output_type": "stream",
          "name": "stdout",
          "text": [
            "[[ 2 -2  0  0 -2  0  0  1 -2  0 -2 -1 -2 -3  1  1  1 -3 -4  0]\n",
            " [-2  6  0 -2 -2  1 -1 -3  2 -2 -3  3 -1 -3  0  0 -1  2 -6 -2]\n",
            " [ 0  0  2  2 -4  1  2  1  2 -2 -2  1 -2 -3  0  1  1 -2 -2 -2]\n",
            " [ 0 -2  2  4 -6  2  3  1  0 -2 -4  0 -2 -6 -1  0  0 -4 -4 -2]\n",
            " [-2 -2 -4 -6 12 -6 -4 -4 -2 -2 -6 -6 -2 -4 -2  0 -2 -2  0 -2]\n",
            " [ 0  1  1  2 -6  4  3 -1  2 -3 -2  1 -2 -6  0 -1 -1 -3 -6 -2]\n",
            " [ 0 -1  2  3 -4  3  4  0  1 -2 -2  0 -2 -5  0  0  0 -4 -4 -2]\n",
            " [ 1 -3  1  1 -4 -1  0  5 -2 -3 -4 -2 -2 -4  0  1  0 -3 -5 -1]\n",
            " [-2  2  2  0 -2  2  1 -2  6 -2 -2  0 -2 -2  0 -1 -2 -1  0 -2]\n",
            " [ 0 -2 -2 -2 -2 -3 -2 -3 -2  4  2 -2  2  1 -2 -1  0 -3 -2  4]\n",
            " [-2 -3 -2 -4 -6 -2 -2 -4 -2  2  6 -2  4  2 -2 -2 -2 -1  0  2]\n",
            " [-1  3  1  0 -6  1  0 -2  0 -2 -2  5  0 -5 -1  0  0 -2 -4 -2]\n",
            " [-2 -1 -2 -2 -2 -2 -2 -2 -2  2  4  0  6 -1 -2 -2 -2 -1 -2  2]\n",
            " [-3 -3 -3 -6 -4 -6 -5 -4 -2  1  2 -5 -1  9 -5 -4 -3  0  7 -1]\n",
            " [ 1  0  0 -1 -2  0  0  0  0 -2 -2 -1 -2 -5  6  1  1 -4 -4 -1]\n",
            " [ 1  0  1  0  0 -1  0  1 -1 -1 -2  0 -2 -4  1  2  2 -1 -3 -1]\n",
            " [ 1 -1  1  0 -2 -1  0  0 -2  0 -2  0 -2 -3  1  2  3 -2 -2  0]\n",
            " [-3  2 -2 -4 -2 -3 -4 -3 -1 -3 -1 -2 -1  0 -4 -1 -2 17  0 -2]\n",
            " [-4 -6 -2 -4  0 -6 -4 -5  0 -2  0 -4 -2  7 -4 -3 -2  0 10 -2]\n",
            " [ 0 -2 -2 -2 -2 -2 -2 -1 -2  4  2 -2  2 -1 -1 -1  0 -2 -2  4]]\n"
          ]
        }
      ]
    },
    {
      "cell_type": "code",
      "source": [
        "# hw1_110761504.py\n",
        "# Mequanent Argaw Muluneh\n",
        "# python D:\\Academics\\PhD\\TIGP\\Class\\Bioinformatics\\Assignments\\hw1-mequanent-master\\hw1_110761504.py >D:\\Academics\\PhD\\TIGP\\Class\\Bioinformatics\\Assignments\\hw1-mequanent-master\\output.txt\n",
        "\n",
        "import os\n",
        "import sys\n",
        "\n",
        "##fn = sys.argv[1]\n",
        "##if os.path.exists(fn):\n",
        "##    print(os.path.basename(fn))\n",
        "\n",
        "import numpy as np\n",
        "np.set_printoptions(suppress=True) # Suppress displaying the scientific notation\n",
        "\n",
        "path = \"D:\\Academics\\PhD\\TIGP\\Class\\Bioinformatics\\Assignments\\hw1-mequanent-master\\mut.txt\"\n",
        "file = open(path, \"r\")\n",
        "lines = file.readlines()[2:] # remove the first two lines\n",
        "file.close()\n",
        "\n",
        "mut = []\n",
        "for line in lines:\n",
        "  line = line[1:].strip().split() # remove the letters from left and the white spaces\n",
        "  mut.append(line)\n",
        "\n",
        "fi = [0.087, 0.041, 0.040, 0.047, 0.033, 0.038, 0.050, 0.089, 0.034, 0.037, 0.085, 0.081, 0.015, 0.040, 0.051, 0.070, 0.058, 0.010, 0.030, 0.065]\n",
        "mut = np.array(mut).astype(int) # convert the string array into numpy array of integers\n",
        "print('\\nChecking input mut size: ', mut.shape) # confirm if we get the right matrix size from the text\n",
        "PAM1 = np.true_divide(mut, 10000) # Change the four digit values into values between 0 & 1\n",
        "\n",
        "def display(values):\n",
        "  print(\"********************************************\")\n",
        "  print(\"********************************************\")\n",
        "  print(values)\n",
        "\n",
        "print(\"\\n****************** PAM1 ********************\")\n",
        "display(PAM1)\n",
        "\n",
        "# ************* PAMx Function *********************\n",
        "def pam(x):\n",
        "  PAM_str = \"PAM\" + str(x) # To make x in the PAMx flexible when displaying\n",
        "  if x < 1:\n",
        "    return \"Please enter a number >= 1\"\n",
        "  elif x == 1:\n",
        "    return PAM1\n",
        "  else:\n",
        "    PAMx = PAM1\n",
        "    for i in range(2, x+1):\n",
        "      PAMx = np.matmul(PAMx, PAM1) # np.matmul(mut, PAMx) also works the same\n",
        "    return PAMx, PAM_str\n",
        "# ************* End of the PAMx Function ***********\n",
        "\n",
        "PAM250, PAM_str = pam(250)\n",
        "\n",
        "\n",
        "print(\"\\n********************************************\")\n",
        "print(\"****************** {} ******************\".format(PAM_str))\n",
        "print(\"********************************************\\n\")\n",
        "# Better to display the PAM values rounded to the nearest integer\n",
        "print(np.rint(PAM250 * 100).astype(int))\n",
        "\n",
        "def log_odds():\n",
        "  S = []\n",
        "  for i in range(20):\n",
        "    S.append(PAM250[i] / fi[i])\n",
        "  S = np.array(S)\n",
        "\n",
        "  for i in range(20):\n",
        "    for j in range(20):\n",
        "      if S[i][j] > 0:\n",
        "        S[i][j] = 10 * np.log10(S[i][j])\n",
        "      else:\n",
        "        S[i][j] = 0\n",
        "\n",
        "  # The log odds matrix should be made symmetric\n",
        "  for i in range(20):\n",
        "    for j in range(20):\n",
        "      S[i][j] = (S[i][j] + S[j][i]) / 2\n",
        "      S[j][i] = S[i][j]\n",
        "\n",
        "  return np.rint(S).astype(int)\n",
        "\n",
        "print(\"\\n********************************************\")\n",
        "print(\"****** Log odds matrix for {} ***********\".format(PAM_str))\n",
        "print(\"********************************************\")\n",
        "print(log_odds())\n",
        "\n"
      ],
      "metadata": {
        "id": "L5dvbPvY6LlR"
      },
      "execution_count": null,
      "outputs": []
    }
  ]
}