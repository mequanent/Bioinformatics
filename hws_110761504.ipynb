{
  "nbformat": 4,
  "nbformat_minor": 0,
  "metadata": {
    "colab": {
      "name": "hw1_110761504.ipynb",
      "provenance": [],
      "authorship_tag": "ABX9TyNNejPYIMa47pWRRNd/DeFC",
      "include_colab_link": true
    },
    "kernelspec": {
      "name": "python3",
      "display_name": "Python 3"
    },
    "language_info": {
      "name": "python"
    }
  },
  "cells": [
    {
      "cell_type": "markdown",
      "metadata": {
        "id": "view-in-github",
        "colab_type": "text"
      },
      "source": [
        "<a href=\"https://colab.research.google.com/github/mequanent/Bioinformatics-hw2/blob/main/hws_110761504.ipynb\" target=\"_parent\"><img src=\"https://colab.research.google.com/assets/colab-badge.svg\" alt=\"Open In Colab\"/></a>"
      ]
    },
    {
      "cell_type": "code",
      "source": [
        "# Clone the repository first using the following command\n",
        "!npx degit https://github.com/mequanent/Bioinformatics-hw2 -f"
      ],
      "metadata": {
        "colab": {
          "base_uri": "https://localhost:8080/"
        },
        "id": "Eim-tkyVaZrg",
        "outputId": "c67a5be2-d3c1-4c22-a70f-0091289da995"
      },
      "execution_count": 1,
      "outputs": [
        {
          "output_type": "stream",
          "name": "stdout",
          "text": [
            "\u001b[K\u001b[?25hnpx: installed 1 in 2.328s\n",
            "\u001b[36m> destination directory is not empty. Using --force, continuing\u001b[39m\n",
            "\u001b[36m> cloned \u001b[1mmequanent/Bioinformatics-hw2\u001b[22m#\u001b[1mHEAD\u001b[22m\u001b[39m\n"
          ]
        }
      ]
    },
    {
      "cell_type": "markdown",
      "source": [
        "**Homework 2**"
      ],
      "metadata": {
        "id": "GCOZucxBv9DA"
      }
    },
    {
      "cell_type": "code",
      "source": [
        "#pip install Bio   # Please uncomment for every start in colab"
      ],
      "metadata": {
        "id": "Tba1tOZ5vhIb"
      },
      "execution_count": 3,
      "outputs": []
    },
    {
      "cell_type": "code",
      "source": [
        "import numpy as np\n",
        "import pandas as pd\n",
        "\n",
        "#To install the Bio library into my IDLE python editor I used the following two steps.\n",
        "#    1. cd C:\\Users\\USER\\AppData\\Local\\Programs\\Python\\Python39\\Scripts\n",
        "#    2. pip install Bio\n",
        "#pip install Bio\n",
        "\n",
        "# Read fasta and parse the seq_names and the sequences\n",
        "# Reference for parsing the fasta is the original biopython library documentation\n",
        "# (https://biopython.org/DIST/docs/tutorial/Tutorial.html#htoc11 section 2.4.1)\n",
        "\n",
        "from Bio import SeqIO\n",
        "seq_name = []\n",
        "sequence = []\n",
        "# Remember to customize as --input from CLI args\n",
        "for seq_record in SeqIO.parse(\"test.fasta\", \"fasta\"):\n",
        "  seq_name.append(seq_record.id)\n",
        "  #sequence.append(repr(seq_record.seq))\n",
        "  sequence.append(seq_record.seq)\n",
        "  #print(len(seq_record))\n",
        "print(sequence[1])\n",
        "print(sequence[2])\n",
        "\n",
        "def preprocess_score(score):\n",
        "  file = open(score, 'r')\n",
        "  lines = file.readlines()\n",
        "  file.close()\n",
        "  columns = []\n",
        "  mut = []\n",
        "  for line in lines:\n",
        "    if line.startswith(\"#\") or line.startswith(\" \"):\n",
        "      continue\n",
        "    columns.append(line[0]) # Amino acid alphabets stored for row & column indexing\n",
        "    line = line[1:].strip().split() # remove the letters from left and the spaces\n",
        "    mut.append(line)\n",
        "  mut = np.array(mut).astype(int) # change the string numbers into type int\n",
        "  \n",
        "  return pd.DataFrame(mut, index = columns, columns = columns)\n",
        "\n",
        "score = \"pam250.txt\" # score from command line args\n",
        "score = preprocess_score(score) # score made a data frame to access its values with \n",
        "                  # alphabet indices\n",
        "#print(score)\n",
        "\n",
        "gop = -10\n",
        "gex = -2\n",
        "# A function to determine pairwise alignment score\n",
        "def pairwise(x, y):\n",
        "  pair_sum = 0\n",
        "  x_prev = '' # x_prev and y_prev are used to store immediate previous alphabets\n",
        "  y_prev = '' # so that extension gaps will be identified\n",
        "  for i in range(len(x)): # Considering that both x and y have the same length\n",
        "    x_prev = x_prev == '-' and x[i] == '-' # status of extension gap in the first paired sequence\n",
        "    y_prev = y_prev == '-' and y[i] == '-' # status of extension gap in second paired sequence\n",
        "    curr = x[i] == '-' or y[i] == '-' # status of open gap in the paired sequence\n",
        "    if x_prev or y_prev: # extension gap value will be taken if holds\n",
        "      pair_sum = pair_sum + gex\n",
        "    elif curr: # open gap value will be taken if holds\n",
        "      pair_sum = pair_sum + gop\n",
        "    else: # score matrix value will be taken otherwise\n",
        "      pair_sum = pair_sum + score.loc[x[i]][y[i]] \n",
        "    x_prev = x[i]\n",
        "    y_prev = y[i]\n",
        "  return pair_sum\n",
        "\n",
        "#pairwise(sequence[0], sequence[1])\n",
        "\n",
        "# A function to find the total sum of pairs score.\n",
        "def sumOfPairs(seq):\n",
        "  sop = 0 # to store sum of pairs value\n",
        "  for i in range(len(seq)-1): # i iterates as long as there is j in seq as its next sequence\n",
        "    for j in range(i+1, len(seq)): # j will be the next seq index to be compared with seq[i]\n",
        "      sop = sop + pairwise(seq[i], seq[j])\n",
        "  return sop\n",
        "print(sumOfPairs(sequence))"
      ],
      "metadata": {
        "id": "UlUbMGY6cAcx",
        "outputId": "cc15c5f5-06ce-4337-d52e-aa4ce40fd506",
        "colab": {
          "base_uri": "https://localhost:8080/"
        }
      },
      "execution_count": 4,
      "outputs": [
        {
          "output_type": "stream",
          "name": "stdout",
          "text": [
            "KGVIYALWDYEPQNDDELPMKEGDCMTIIHREDEDEIEWWWARLNDKEGYVPRNLLGLYP\n",
            "KGVIYALWDYEPQNDDELPMKEGDCMTIIHREDEDEI--WWARLNDKEGYVPRNLLGLYP\n",
            "1047\n"
          ]
        }
      ]
    },
    {
      "cell_type": "markdown",
      "source": [
        "**Homework 3**"
      ],
      "metadata": {
        "id": "whhnJvDTvyh4"
      }
    },
    {
      "cell_type": "code",
      "source": [
        "import numpy as np\n",
        "import pandas as pd\n",
        "\n",
        "from Bio import SeqIO\n",
        "seq_name = []\n",
        "sequence = []\n",
        "# Remember to customize as --input from CLI args\n",
        "for seq_record in SeqIO.parse(\"test3.fasta\", \"fasta\"):\n",
        "  seq_name.append(seq_record.id)\n",
        "  sequence.append(seq_record.seq)\n",
        "\n",
        "seq1 = sequence[0]\n",
        "seq2 = sequence[1]\n",
        "\n",
        "print(\"+----- Given Sequences with their respective lengthes ---------+\")\n",
        "print(seq1, len(seq1))\n",
        "print(seq2, len(seq2))\n",
        "print(\"****************************************************************\")\n",
        "gap = -10\n",
        "score = \"pam250.txt\" # score from command line args\n",
        "aln = 'global' # Alignment choice argument from command line interface\n",
        "\n",
        "TOP = gap\n",
        "DIAGONAL = 0\n",
        "LEFT = gap\n",
        "col = '-' + seq1 # This if for simplicity to avoid repeated use of (len(seq1) + 1)\n",
        "row = '-' + seq2 # For the same reason\n",
        "\n",
        "def preprocess_score(score):\n",
        "  file = open(score, 'r')\n",
        "  lines = file.readlines()\n",
        "  file.close()\n",
        "  columns = []\n",
        "  mut = []\n",
        "  for line in lines:\n",
        "    if line.startswith(\"#\") or line.startswith(\" \"):\n",
        "      continue\n",
        "    columns.append(line[0]) # Amino acid alphabets stored for row & column indexing\n",
        "    line = line[1:].strip().split() # remove the letters from left and the spaces\n",
        "    mut.append(line)\n",
        "  mut = np.array(mut).astype(int) # change the string numbers into type int\n",
        "  return pd.DataFrame(mut, index = columns, columns = columns)\n",
        "\n",
        "score = preprocess_score(score) # score made a data frame to access its values  \n",
        "                  # with alphabet indices\n",
        "\n",
        "# *************************** Global Alignment Section *************************\n",
        "# Filling score_m and keeping track of the direction for each cell\n",
        "def globalAlignment(score):\n",
        "  score_m = np.zeros((len(row), len(col))) # score matrix for global alignment \n",
        "  direction_m = np.empty((len(row), len(col)), dtype = object)\n",
        "  for i in range(len(col)):\n",
        "    score_m[0][i] = i * gap\n",
        "  for j in range(len(row)):\n",
        "    score_m[j][0] = j * gap\n",
        "\n",
        "  for i in range(1, len(row)):\n",
        "    for j in range(1, len(col)):\n",
        "      TOP = score_m[i-1,j] + gap\n",
        "      DIAGONAL = score_m[i-1][j-1] + score.loc[row[i]][col[j]]\n",
        "      LEFT = score_m[i,j-1] + gap\n",
        "      score_m[i][j] = max(TOP, DIAGONAL, LEFT) \n",
        "      # ------ Let the direction for each cell be saved as follows \n",
        "      if score_m[i][j] == TOP:\n",
        "        direction_m[i][j] = 'ins'\n",
        "      elif score_m[i][j] == DIAGONAL:\n",
        "        direction_m[i][j] = 'sub' \n",
        "      else:\n",
        "        direction_m[i][j] = 'del'\n",
        "\n",
        "  score_m = score_m.astype(int)\n",
        "  return score_m, direction_m\n",
        "\n",
        "# Trace back section for global alignment\n",
        "def traceBackGlobal():\n",
        "  score_m, direction_m = globalAlignment(score)\n",
        "  i = len(seq1)\n",
        "  j = len(seq2)\n",
        "  aln1 = ''\n",
        "  aln2 = ''\n",
        "\n",
        "  while(not (i == 0 and j == 0)):\n",
        "    if(direction_m[j][i] == 'sub'):\n",
        "      aln1 = col[i] + aln1\n",
        "      aln2 = row[j] + aln2\n",
        "      i, j = i - 1, j - 1\n",
        "    elif(direction_m[j][i] == 'del'):\n",
        "      aln1 = col[i] + aln1\n",
        "      aln2 = '-' + aln2\n",
        "      i = i - 1\n",
        "    else:\n",
        "      aln1 = '-' + aln1\n",
        "      aln2 = row[j] + aln2\n",
        "      j = j - 1\n",
        "  return aln1, aln2\n",
        "# End of Trace Back for the Global Alignment\n",
        "# --------------------------------------------\n",
        "\n",
        "def showMatched(x, y): # A function to help proper display of the alignments\n",
        "  between = ''\n",
        "  for i in range(len(x)):\n",
        "    if x[i] == y[i]:\n",
        "      between = between + '|'\n",
        "    elif x[i] == '-' or y[i] == '-':\n",
        "      between = between + ' '\n",
        "    else:\n",
        "      between = between + '.'\n",
        "  return between\n",
        "\n",
        "def displayAlignment(x, y): # A function to display the aligned sequences with their SoP score\n",
        "  print(\"+----- You wanted {} alignment and here is the result -----+\".format(aln))\n",
        "  print(x)\n",
        "  print(showMatched(x, y))\n",
        "  print(y)\n",
        "  print(\"Sum of pairs (SoP) score for the {a} alignment is: {b}\".format(a = aln, b = pairwise(x, y)))\n",
        "# The SoP value verifies the correctness of our alignment\n",
        "                # if it becomes equal to the right bottom value.\n",
        "# ************* End of Global Alignment ************************************\n",
        "\n",
        "# ************* Local Alignment ********************************************\n",
        "def localAlignment(score):\n",
        "  score_local = np.zeros((len(row), len(col))).astype(int) # score matrix for local alignment\n",
        "  direction_l = np.zeros((len(row), len(col)), dtype = object) # to trace direction\n",
        "  bestScore = 0\n",
        "  bestScoreCell = (0, 0)\n",
        "\n",
        "  for i in range(1, len(row)):\n",
        "    for j in range(1, len(col)):\n",
        "      TOP = score_local[i-1,j] + gap\n",
        "      DIAGONAL = score_local[i-1][j-1] + score.loc[row[i]][col[j]]\n",
        "      LEFT = score_local[i,j-1] + gap\n",
        "      score_local[i][j] = max(TOP, DIAGONAL, LEFT, 0)\n",
        "\n",
        "      if score_local[i][j] >= bestScore:\n",
        "        bestScore = score_local[i][j]\n",
        "        bestScoreCell = (i, j)\n",
        "      \n",
        "      if score_local[i][j] == TOP:\n",
        "        direction_l[i][j] = 'ins'\n",
        "      elif score_local[i][j] == DIAGONAL:\n",
        "        direction_l[i][j] = 'sub' \n",
        "      else:\n",
        "        direction_l[i][j] = 'del'\n",
        "  return score_local, direction_l, bestScore, bestScoreCell\n",
        "\n",
        "# Trace back the local alignment\n",
        "def traceBackLocal():\n",
        "  score_local, direction_l, bestScore, bestScoreCell = localAlignment(score)\n",
        "  i = bestScoreCell[0]\n",
        "  j = bestScoreCell[1]\n",
        "\n",
        "  al1 = ''\n",
        "  al2 = ''\n",
        "  between = ''\n",
        "  while(score_local[i][j]> 0):\n",
        "    if(direction_l[i][j] == 'sub'):\n",
        "      al1 = col[j] + al1\n",
        "      al2 = row[i] + al2\n",
        "      i, j = i - 1, j - 1\n",
        "    elif(direction_l[i][j] == 'del'):\n",
        "      al1 = col[j] + al1\n",
        "      al2 = '-' + al2\n",
        "      j = j - 1\n",
        "    else:\n",
        "      al1 = '-' + al1\n",
        "      al2 = row[i] + al2\n",
        "      i = i - 1\n",
        "  return al1, al2\n",
        "\n",
        "if aln == 'global':\n",
        "  aln1, aln2 = traceBackGlobal()\n",
        "  displayAlignment(aln1, aln2) \n",
        "elif aln == 'local':\n",
        "  al1, al2 = traceBackLocal()\n",
        "  displayAlignment(al1, al2)\n",
        "else:\n",
        "  print(\"Please selected the alignment type.\")"
      ],
      "metadata": {
        "id": "e_YVQGnpvxOa",
        "outputId": "862847a9-88a7-43b6-9913-274f7e066adf",
        "colab": {
          "base_uri": "https://localhost:8080/"
        }
      },
      "execution_count": 7,
      "outputs": [
        {
          "output_type": "stream",
          "name": "stdout",
          "text": [
            "+----- Given Sequences with their respective lengthes ---------+\n",
            "NLFVALYDFVASGDNTLSITKGEKLRVLGYNHNGEWCEAQTKNGQGWVPSNYITPVN 57\n",
            "KGVIYALWDYEPQNDDELPMKEGDCMTIIHREDEDEIEWWWARLNDKEGYVPRNLLGLYP 60\n",
            "****************************************************************\n",
            "+----- You wanted global alignment and here is the result -----+\n",
            "N-LFVALYDFVASGDNTLSITKGEKLRVLGY-NHNG-EWCEAQTKNGQGWVPSNYITPVN\n",
            ". ...||.|.....|..|....|........ .... ||..|......|.||.|......\n",
            "KGVIYALWDYEPQNDDELPMKEGDCMTIIHREDEDEIEWWWARLNDKEGYVPRNLLGLYP\n",
            "Sum of pairs (SoP) score for the global alignment is: 38\n"
          ]
        }
      ]
    },
    {
      "cell_type": "code",
      "source": [
        "  score_local, direction_l, bestScore, bestScoreCell = localAlignment(score)\n",
        "  r, c = score_local.shape\n",
        "  bestLoc = []\n",
        "  loc = (0, 0)\n",
        "  for i in range(1, r):\n",
        "    for j in range(1, c):\n",
        "      if score_local[i][j] == bestScore:\n",
        "        loc = (i, j)\n",
        "        bestLoc.append(loc)\n",
        "  i, j = bestLoc[0]\n",
        "  j"
      ],
      "metadata": {
        "id": "7lU2n7peOTTH",
        "outputId": "5615828b-e63b-4e7e-9328-42ca027c451b",
        "colab": {
          "base_uri": "https://localhost:8080/"
        }
      },
      "execution_count": 10,
      "outputs": [
        {
          "output_type": "execute_result",
          "data": {
            "text/plain": [
              "53"
            ]
          },
          "metadata": {},
          "execution_count": 10
        }
      ]
    },
    {
      "cell_type": "code",
      "source": [
        "def localAlignmen(score):\n",
        "  score_local = np.zeros((len(row), len(col))).astype(int) # score matrix for local alignment\n",
        "  direction_l = np.zeros((len(row), len(col)), dtype = object) # to trace direction\n",
        "  bestScore = 0\n",
        "  bestScoreCell = (0, 0)\n",
        "\n",
        "  for i in range(1, len(row)):\n",
        "    for j in range(1, len(col)):\n",
        "      TOP = score_local[i-1,j] + gap\n",
        "      DIAGONAL = score_local[i-1][j-1] + score.loc[row[i]][col[j]]\n",
        "      LEFT = score_local[i,j-1] + gap\n",
        "      score_local[i][j] = max(TOP, DIAGONAL, LEFT, 0)\n",
        "\n",
        "      if score_local[i][j] >= bestScore:\n",
        "        bestScore = score_local[i][j]\n",
        "        bestScoreCell = (i, j)\n",
        "      \n",
        "      if score_local[i][j] == TOP:\n",
        "        direction_l[i][j] = 'ins'\n",
        "      elif score_local[i][j] == DIAGONAL:\n",
        "        direction_l[i][j] = 'sub' \n",
        "      else:\n",
        "        direction_l[i][j] = 'del'\n",
        "  return score_local, direction_l, bestScore\n",
        "\n",
        "# To find all locations of the best score from the local alignment score matrix\n",
        "\n",
        "# Trace back the local alignment\n",
        "def traceBackLoca():\n",
        "  score_local, direction_l, bestScore = localAlignmen(score)\n",
        "\n",
        "  r, c = score_local.shape\n",
        "  bestLoc = []\n",
        "  pairs = []\n",
        "\n",
        "  loc = (0, 0)\n",
        "  for i in range(1, r):\n",
        "    for j in range(1, c):\n",
        "      if score_local[i][j] == bestScore:\n",
        "        loc = (i, j)\n",
        "        bestLoc.append(loc)\n",
        "  bestLoc\n",
        "\n",
        "  \n",
        "  for i in range(len(bestLoc)):\n",
        "    i, j = bestLoc[i]\n",
        "\n",
        "    al1 = ''\n",
        "    al2 = ''\n",
        "    between = ''\n",
        "    while(score_local[i][j]> 0):\n",
        "      if(direction_l[i][j] == 'sub'):\n",
        "        al1 = col[j] + al1\n",
        "        al2 = row[i] + al2\n",
        "        i, j = i - 1, j - 1\n",
        "      elif(direction_l[i][j] == 'del'):\n",
        "        al1 = col[j] + al1\n",
        "        al2 = '-' + al2\n",
        "        j = j - 1\n",
        "      else:\n",
        "        al1 = '-' + al1\n",
        "        al2 = row[i] + al2\n",
        "        i = i - 1\n",
        "    pairs.append((al1, al2))\n",
        "  return pairs\n",
        "traceBackLoca()"
      ],
      "metadata": {
        "id": "mSOxl5KMf3Ly",
        "outputId": "ac32d7a7-5e86-490e-c9a7-08f5b7055b41",
        "colab": {
          "base_uri": "https://localhost:8080/"
        }
      },
      "execution_count": 11,
      "outputs": [
        {
          "output_type": "execute_result",
          "data": {
            "text/plain": [
              "[('LFVALYDFVASGDNTLSITKGEKLRVLGY-NHNG-EWCEAQTKNGQGWVPSNYI',\n",
              "  'VIYALWDYEPQNDDELPMKEGDCMTIIHREDEDEIEWWWARLNDKEGYVPRNLL'),\n",
              " ('LFVALYDFVASGDNTLSITKGEKLRVLGY-NHNG-EWCEAQTKNGQGWVPSNYIT',\n",
              "  'VIYALWDYEPQNDDELPMKEGDCMTIIHREDEDEIEWWWARLNDKEGYVPRNLLG')]"
            ]
          },
          "metadata": {},
          "execution_count": 11
        }
      ]
    },
    {
      "cell_type": "code",
      "source": [
        "for i in traceBackLoca():\n",
        "  print(\">protien 1\")\n",
        "  print(i[0])\n",
        "  print(\">protien 2\")\n",
        "  print(i[1])"
      ],
      "metadata": {
        "id": "bobonIpUKM_1",
        "outputId": "c64fa466-7b6c-498d-c92f-d5b983b5d82f",
        "colab": {
          "base_uri": "https://localhost:8080/"
        }
      },
      "execution_count": 12,
      "outputs": [
        {
          "output_type": "stream",
          "name": "stdout",
          "text": [
            ">protien 1\n",
            "LFVALYDFVASGDNTLSITKGEKLRVLGY-NHNG-EWCEAQTKNGQGWVPSNYI\n",
            ">protien 2\n",
            "VIYALWDYEPQNDDELPMKEGDCMTIIHREDEDEIEWWWARLNDKEGYVPRNLL\n",
            ">protien 1\n",
            "LFVALYDFVASGDNTLSITKGEKLRVLGY-NHNG-EWCEAQTKNGQGWVPSNYIT\n",
            ">protien 2\n",
            "VIYALWDYEPQNDDELPMKEGDCMTIIHREDEDEIEWWWARLNDKEGYVPRNLLG\n"
          ]
        }
      ]
    },
    {
      "cell_type": "code",
      "source": [
        "import Bio.Align as align\n",
        "\n",
        "aligner = align.PairwiseAligner()\n",
        "aligner.mode = 'local'\n",
        "aligner.substitution_matrix = align.substitution_matrices.load(\"PAM250\")\n",
        "aligner.open_gap_score = -10\n",
        "alignments = aligner.align(seq1, seq2)\n",
        "alignments = list(alignments)\n",
        "print(\"Number of alignments: %d\" % len(alignments))\n",
        "alignment = alignments[0]\n",
        "print(\"Score = %.1f\" % alignment.score)\n",
        "print(alignment)"
      ],
      "metadata": {
        "id": "rWyRdjVjw_-c",
        "outputId": "0ff1d7a4-83df-4cbf-e967-19d6a9385c66",
        "colab": {
          "base_uri": "https://localhost:8080/"
        }
      },
      "execution_count": null,
      "outputs": [
        {
          "output_type": "stream",
          "name": "stdout",
          "text": [
            "Number of alignments: 1\n",
            "Score = 66.0\n",
            " NLFVALYDFVASGDNTLSITKGEKLRVLGYNHNGE----WCEAQTKNGQGWVPSNYITPVN\n",
            "  ...||.|.....|..|....|............|----|--|......|.||.|..\n",
            "KGVIYALWDYEPQNDDELPMKEGDCMTIIHREDEDEIEWWW--ARLNDKEGYVPRNLLGLYP\n",
            "\n"
          ]
        }
      ]
    },
    {
      "cell_type": "code",
      "source": [
        "print(localAlignment(score)[0])"
      ],
      "metadata": {
        "id": "uUQHlP7-SEDj",
        "outputId": "d5232260-d26c-4355-9d59-9fa4ceff9820",
        "colab": {
          "base_uri": "https://localhost:8080/"
        }
      },
      "execution_count": null,
      "outputs": [
        {
          "output_type": "stream",
          "name": "stdout",
          "text": [
            "[[ 0  0  0 ...  0  0  0]\n",
            " [ 0  1  0 ...  0  0  1]\n",
            " [ 0  0  0 ...  0  0  0]\n",
            " ...\n",
            " [ 0  0  6 ... 49 44 34]\n",
            " [ 0  0  0 ... 39 47 42]\n",
            " [ 0  0  0 ... 38 38 47]]\n"
          ]
        }
      ]
    },
    {
      "cell_type": "code",
      "source": [
        ""
      ],
      "metadata": {
        "id": "TxfYaYuqUvx7"
      },
      "execution_count": null,
      "outputs": []
    }
  ]
}