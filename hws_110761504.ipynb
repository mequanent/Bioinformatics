{
  "nbformat": 4,
  "nbformat_minor": 0,
  "metadata": {
    "colab": {
      "name": "hw1_110761504.ipynb",
      "provenance": [],
      "authorship_tag": "ABX9TyP8rSpjQ3K83pWsfqV1U45Z",
      "include_colab_link": true
    },
    "kernelspec": {
      "name": "python3",
      "display_name": "Python 3"
    },
    "language_info": {
      "name": "python"
    }
  },
  "cells": [
    {
      "cell_type": "markdown",
      "metadata": {
        "id": "view-in-github",
        "colab_type": "text"
      },
      "source": [
        "<a href=\"https://colab.research.google.com/github/mequanent/Bioinformatics-hw2/blob/main/hws_110761504.ipynb\" target=\"_parent\"><img src=\"https://colab.research.google.com/assets/colab-badge.svg\" alt=\"Open In Colab\"/></a>"
      ]
    },
    {
      "cell_type": "code",
      "source": [
        "# Clone the repository first using the following command\n",
        "!npx degit https://github.com/mequanent/Bioinformatics-hw2 -f"
      ],
      "metadata": {
        "colab": {
          "base_uri": "https://localhost:8080/"
        },
        "id": "Eim-tkyVaZrg",
        "outputId": "795945cd-d3c3-4edc-d7c3-627a8828efe7"
      },
      "execution_count": 5,
      "outputs": [
        {
          "output_type": "stream",
          "name": "stdout",
          "text": [
            "\u001b[?25l[..................] / rollbackFailedOptional: verb npm-session 95f1a07cf601150\u001b[0m\u001b[K\r[#######...........] \\ extract:degit: verb lock using /root/.npm/_locks/staging\u001b[0m\u001b[K\r[############......] / refresh-package-json:degit: timing action:finalize Compl\u001b[0m\u001b[K\r\r\u001b[K\u001b[?25hnpx: installed 1 in 0.926s\n",
            "\u001b[36m> destination directory is not empty. Using --force, continuing\u001b[39m\n",
            "\u001b[36m> cloned \u001b[1mmequanent/Bioinformatics-hw2\u001b[22m#\u001b[1mHEAD\u001b[22m\u001b[39m\n"
          ]
        }
      ]
    },
    {
      "cell_type": "markdown",
      "source": [
        "**Homework 2**"
      ],
      "metadata": {
        "id": "GCOZucxBv9DA"
      }
    },
    {
      "cell_type": "code",
      "source": [
        "#pip install Bio   # Please uncomment for the .py format"
      ],
      "metadata": {
        "id": "Tba1tOZ5vhIb"
      },
      "execution_count": 7,
      "outputs": []
    },
    {
      "cell_type": "code",
      "source": [
        "import numpy as np\n",
        "import pandas as pd\n",
        "np.set_printoptions(suppress=True) # Suppress displaying the scientific notation\n",
        "\n",
        "#To install the Bio library into my IDLE python editor I used the following two steps.\n",
        "#    1. cd C:\\Users\\USER\\AppData\\Local\\Programs\\Python\\Python39\\Scripts\n",
        "#    2. pip install Bio\n",
        "#pip install Bio\n",
        "\n",
        "# Read fasta and parse the seq_names and the sequences\n",
        "# Reference for parsing the fasta is the original biopython library documentation\n",
        "# (https://biopython.org/DIST/docs/tutorial/Tutorial.html#htoc11 section 2.4.1)\n",
        "\n",
        "from Bio import SeqIO\n",
        "seq_name = []\n",
        "sequence = []\n",
        "# Remember to customize as --input from CLI args\n",
        "for seq_record in SeqIO.parse(\"test.fasta\", \"fasta\"):\n",
        "  seq_name.append(seq_record.id)\n",
        "  #sequence.append(repr(seq_record.seq))\n",
        "  sequence.append(seq_record.seq)\n",
        "  #print(len(seq_record))\n",
        "print(sequence[1])\n",
        "print(sequence[2])\n",
        "\n",
        "def preprocess_score(score):\n",
        "  file = open(score, 'r')\n",
        "  lines = file.readlines()#[10:] # The first 10 lines are strings\n",
        "  file.close()\n",
        "  columns = []\n",
        "  mut = []\n",
        "  for line in lines:\n",
        "    if line.startswith(\"#\") or line.startswith(\" \"):\n",
        "      continue\n",
        "    columns.append(line[0]) # Amino acid alphabets stored for row & column indexing\n",
        "    line = line[1:].strip().split() # remove the letters from left and the spaces\n",
        "    mut.append(line)\n",
        "  mut = np.array(mut).astype(int) # change the string numbers into type int\n",
        "  print(mut.shape)\n",
        "  size = len(mut) # save the size of the array for future usages to come below\n",
        "  return pd.DataFrame(mut, index = columns, columns = columns)\n",
        "\n",
        "score = \"pam250.txt\" # score from command line args\n",
        "score = preprocess_score(score) # score made a data frame to access its values with \n",
        "                  # alphabet indices\n",
        "print(score)\n",
        "\n",
        "gop = -10\n",
        "gex = -2\n",
        "# A function to determine pairwise alignment score\n",
        "def pairwise(x, y):\n",
        "  pair_sum = 0\n",
        "  x_prev = '' # x_prev and y_prev are used to store immediate previous alphabets\n",
        "  y_prev = '' # so that extension gaps will be identified\n",
        "  for i in range(len(x)): # Considering that both x and y have the same length\n",
        "    x_prev = x_prev == '-' and x[i] == '-' # status of extension gap in the first paired sequence\n",
        "    y_prev = y_prev == '-' and y[i] == '-' # status of extension gap in second paired sequence\n",
        "    curr = x[i] == '-' or y[i] == '-' # status of open gap in the paired sequence\n",
        "    if x_prev or y_prev: # extension gap value will be taken if holds\n",
        "      pair_sum = pair_sum + gex\n",
        "    elif curr: # open gap value will be taken if holds\n",
        "      pair_sum = pair_sum + gop\n",
        "    else: # score matrix value will be taken otherwise\n",
        "      pair_sum = pair_sum + score.loc[x[i]][y[i]] \n",
        "    x_prev = x[i]\n",
        "    y_prev = y[i]\n",
        "  return pair_sum\n",
        "\n",
        "pairwise(sequence[0], sequence[1])\n",
        "\n",
        "# A function to find the total sum of pairs score.\n",
        "def sumOfPairs(seq):\n",
        "  sop = 0 # to store sum of pairs value\n",
        "  for i in range(len(seq)-1): # i iterates as long as there is j in seq as its next sequence\n",
        "    for j in range(i+1, len(seq)): # j will be the next seq index to be compared with seq[i]\n",
        "      sop = sop + pairwise(seq[i], seq[j])\n",
        "  return sop\n",
        "print(sumOfPairs(sequence))"
      ],
      "metadata": {
        "id": "UlUbMGY6cAcx",
        "outputId": "ace9f6b7-5138-46df-dcf8-1baee865c945",
        "colab": {
          "base_uri": "https://localhost:8080/"
        }
      },
      "execution_count": 8,
      "outputs": [
        {
          "output_type": "stream",
          "name": "stdout",
          "text": [
            "KGVIYALWDYEPQNDDELPMKEGDCMTIIHREDEDEIEWWWARLNDKEGYVPRNLLGLYP\n",
            "KGVIYALWDYEPQNDDELPMKEGDCMTIIHREDEDEI--WWARLNDKEGYVPRNLLGLYP\n",
            "(24, 24)\n",
            "   A  R  N  D   C  Q  E  G  H  I  ...  P  S  T   W   Y  V  B  Z  X  *\n",
            "A  2 -2  0  0  -2  0  0  1 -1 -1  ...  1  1  1  -6  -3  0  0  0  0 -8\n",
            "R -2  6  0 -1  -4  1 -1 -3  2 -2  ...  0  0 -1   2  -4 -2 -1  0 -1 -8\n",
            "N  0  0  2  2  -4  1  1  0  2 -2  ...  0  1  0  -4  -2 -2  2  1  0 -8\n",
            "D  0 -1  2  4  -5  2  3  1  1 -2  ... -1  0  0  -7  -4 -2  3  3 -1 -8\n",
            "C -2 -4 -4 -5  12 -5 -5 -3 -3 -2  ... -3  0 -2  -8   0 -2 -4 -5 -3 -8\n",
            "Q  0  1  1  2  -5  4  2 -1  3 -2  ...  0 -1 -1  -5  -4 -2  1  3 -1 -8\n",
            "E  0 -1  1  3  -5  2  4  0  1 -2  ... -1  0  0  -7  -4 -2  3  3 -1 -8\n",
            "G  1 -3  0  1  -3 -1  0  5 -2 -3  ...  0  1  0  -7  -5 -1  0  0 -1 -8\n",
            "H -1  2  2  1  -3  3  1 -2  6 -2  ...  0 -1 -1  -3   0 -2  1  2 -1 -8\n",
            "I -1 -2 -2 -2  -2 -2 -2 -3 -2  5  ... -2 -1  0  -5  -1  4 -2 -2 -1 -8\n",
            "L -2 -3 -3 -4  -6 -2 -3 -4 -2  2  ... -3 -3 -2  -2  -1  2 -3 -3 -1 -8\n",
            "K -1  3  1  0  -5  1  0 -2  0 -2  ... -1  0  0  -3  -4 -2  1  0 -1 -8\n",
            "M -1  0 -2 -3  -5 -1 -2 -3 -2  2  ... -2 -2 -1  -4  -2  2 -2 -2 -1 -8\n",
            "F -3 -4 -3 -6  -4 -5 -5 -5 -2  1  ... -5 -3 -3   0   7 -1 -4 -5 -2 -8\n",
            "P  1  0  0 -1  -3  0 -1  0  0 -2  ...  6  1  0  -6  -5 -1 -1  0 -1 -8\n",
            "S  1  0  1  0   0 -1  0  1 -1 -1  ...  1  2  1  -2  -3 -1  0  0  0 -8\n",
            "T  1 -1  0  0  -2 -1  0  0 -1  0  ...  0  1  3  -5  -3  0  0 -1  0 -8\n",
            "W -6  2 -4 -7  -8 -5 -7 -7 -3 -5  ... -6 -2 -5  17   0 -6 -5 -6 -4 -8\n",
            "Y -3 -4 -2 -4   0 -4 -4 -5  0 -1  ... -5 -3 -3   0  10 -2 -3 -4 -2 -8\n",
            "V  0 -2 -2 -2  -2 -2 -2 -1 -2  4  ... -1 -1  0  -6  -2  4 -2 -2 -1 -8\n",
            "B  0 -1  2  3  -4  1  3  0  1 -2  ... -1  0  0  -5  -3 -2  3  2 -1 -8\n",
            "Z  0  0  1  3  -5  3  3  0  2 -2  ...  0  0 -1  -6  -4 -2  2  3 -1 -8\n",
            "X  0 -1  0 -1  -3 -1 -1 -1 -1 -1  ... -1  0  0  -4  -2 -1 -1 -1 -1 -8\n",
            "* -8 -8 -8 -8  -8 -8 -8 -8 -8 -8  ... -8 -8 -8  -8  -8 -8 -8 -8 -8  1\n",
            "\n",
            "[24 rows x 24 columns]\n",
            "1047\n"
          ]
        }
      ]
    },
    {
      "cell_type": "markdown",
      "source": [
        "**Homework 3**"
      ],
      "metadata": {
        "id": "whhnJvDTvyh4"
      }
    },
    {
      "cell_type": "code",
      "source": [
        "import numpy as np\n",
        "\n",
        "from Bio import SeqIO\n",
        "seq_name = []\n",
        "sequence = []\n",
        "# Remember to customize as --input from CLI args\n",
        "for seq_record in SeqIO.parse(\"test3.fasta\", \"fasta\"):\n",
        "  seq_name.append(seq_record.id)\n",
        "  sequence.append(seq_record.seq)\n",
        "print(\"----- Given Sequences ---------\")\n",
        "print(sequence[0], len(sequence[0]))\n",
        "print(sequence[1], len(sequence[1]))\n",
        "\n",
        "def preprocess_score(score):\n",
        "  file = open(score, 'r')\n",
        "  lines = file.readlines()#[10:] # The first 10 lines are strings\n",
        "  file.close()\n",
        "  columns = []\n",
        "  mut = []\n",
        "  for line in lines:\n",
        "    if line.startswith(\"#\") or line.startswith(\" \"):\n",
        "      continue\n",
        "    columns.append(line[0]) # Amino acid alphabets stored for row & column indexing\n",
        "    line = line[1:].strip().split() # remove the letters from left and the spaces\n",
        "    mut.append(line)\n",
        "  mut = np.array(mut).astype(int) # change the string numbers into type int\n",
        "  return pd.DataFrame(mut, index = columns, columns = columns)\n",
        "\n",
        "score = \"pam250.txt\" # score from command line args\n",
        "score = preprocess_score(score) # score made a data frame to access its values with \n",
        "                  # alphabet indices\n",
        "print(\"----- PAM Score Matrix ---------\")\n",
        "#print(score)"
      ],
      "metadata": {
        "id": "e_YVQGnpvxOa",
        "outputId": "10ed1693-f564-44f8-b8c5-c81b071a0b66",
        "colab": {
          "base_uri": "https://localhost:8080/"
        }
      },
      "execution_count": 20,
      "outputs": [
        {
          "output_type": "stream",
          "name": "stdout",
          "text": [
            "----- Given Sequences ---------\n",
            "NLFVALYDFVASGDNTLSITKGEKLRVLGYNHNGEWCEAQTKNGQGWVPSNYITPVN 57\n",
            "KGVIYALWDYEPQNDDELPMKEGDCMTIIHREDEDEIEWWWARLNDKEGYVPRNLLGLYP 60\n",
            "----- PAM Score Matrix ---------\n"
          ]
        }
      ]
    },
    {
      "cell_type": "code",
      "source": [
        "seq1 = sequence[0]\n",
        "seq2 = sequence[1]\n",
        "gap = -10\n",
        "# Find score_m\n",
        "score_m = np.zeros((len(seq1) + 1, len(seq2) + 1))\n",
        "for i in range(len(seq1) + 1):\n",
        "  score_m[i][0] = i * gap\n",
        "for j in range(len(seq2) + 1):\n",
        "  score_m[0][j] = j * gap#score.loc[seq1[i]][seq2[j]]\n",
        "score_m"
      ],
      "metadata": {
        "id": "sc0XdEO5I3dA",
        "outputId": "e98257c3-e507-4fdd-ee7c-a505edf0d188",
        "colab": {
          "base_uri": "https://localhost:8080/"
        }
      },
      "execution_count": 23,
      "outputs": [
        {
          "output_type": "execute_result",
          "data": {
            "text/plain": [
              "array([[   0.,  -10.,  -20., ..., -580., -590., -600.],\n",
              "       [ -10.,    0.,    0., ...,    0.,    0.,    0.],\n",
              "       [ -20.,    0.,    0., ...,    0.,    0.,    0.],\n",
              "       ...,\n",
              "       [-550.,    0.,    0., ...,    0.,    0.,    0.],\n",
              "       [-560.,    0.,    0., ...,    0.,    0.,    0.],\n",
              "       [-570.,    0.,    0., ...,    0.,    0.,    0.]])"
            ]
          },
          "metadata": {},
          "execution_count": 23
        }
      ]
    },
    {
      "cell_type": "code",
      "source": [
        "\n",
        "match_mismatch = np.zeros((len(seq1), len(seq2)))\n",
        "for i in range(len(seq1)):\n",
        "  for j in range(len(seq2)):\n",
        "    if seq1[i] == seq2[j]:\n",
        "      match_mismatch[i][j] = 1\n",
        "    else:\n",
        "      match_mismatch [i][j] = -1\n",
        "match_mismatch"
      ],
      "metadata": {
        "id": "aUlneMyU61QK",
        "outputId": "b1b05937-ba2c-4bc2-ea31-d0c9df40aa7f",
        "colab": {
          "base_uri": "https://localhost:8080/"
        }
      },
      "execution_count": 16,
      "outputs": [
        {
          "output_type": "execute_result",
          "data": {
            "text/plain": [
              "array([[-1., -1., -1., ..., -1., -1., -1.],\n",
              "       [-1., -1., -1., ...,  1., -1., -1.],\n",
              "       [-1., -1., -1., ..., -1., -1., -1.],\n",
              "       ...,\n",
              "       [-1., -1., -1., ..., -1., -1.,  1.],\n",
              "       [-1., -1.,  1., ..., -1., -1., -1.],\n",
              "       [-1., -1., -1., ..., -1., -1., -1.]])"
            ]
          },
          "metadata": {},
          "execution_count": 16
        }
      ]
    },
    {
      "cell_type": "code",
      "source": [
        "align = np.zeros((len(seq1) + 1, len(seq2) + 1))\n",
        "\n",
        "for i in range(len(seq1)):\n",
        "  align[]\n",
        "for j in range(len(seq2)):\n",
        "    if seq1[] == seq2[j]:"
      ],
      "metadata": {
        "id": "LfGW6jI-EaUf"
      },
      "execution_count": null,
      "outputs": []
    }
  ]
}