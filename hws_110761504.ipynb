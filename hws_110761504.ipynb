{
  "nbformat": 4,
  "nbformat_minor": 0,
  "metadata": {
    "colab": {
      "name": "hw1_110761504.ipynb",
      "provenance": [],
      "authorship_tag": "ABX9TyPS9H9gf50XFAgq43zmF23W",
      "include_colab_link": true
    },
    "kernelspec": {
      "name": "python3",
      "display_name": "Python 3"
    },
    "language_info": {
      "name": "python"
    }
  },
  "cells": [
    {
      "cell_type": "markdown",
      "metadata": {
        "id": "view-in-github",
        "colab_type": "text"
      },
      "source": [
        "<a href=\"https://colab.research.google.com/github/mequanent/Bioinformatics-hw2/blob/main/hws_110761504.ipynb\" target=\"_parent\"><img src=\"https://colab.research.google.com/assets/colab-badge.svg\" alt=\"Open In Colab\"/></a>"
      ]
    },
    {
      "cell_type": "code",
      "source": [
        "# Clone the repository first using the following command\n",
        "!npx degit https://github.com/mequanent/Bioinformatics-hw2 -f"
      ],
      "metadata": {
        "colab": {
          "base_uri": "https://localhost:8080/"
        },
        "id": "Eim-tkyVaZrg",
        "outputId": "302c9103-ba36-4e0c-c8b4-738e4a44e136"
      },
      "execution_count": 2,
      "outputs": [
        {
          "output_type": "stream",
          "name": "stdout",
          "text": [
            "\u001b[K\u001b[?25hnpx: installed 1 in 2.761s\n",
            "\u001b[36m> destination directory is not empty. Using --force, continuing\u001b[39m\n",
            "\u001b[36m> cloned \u001b[1mmequanent/Bioinformatics-hw2\u001b[22m#\u001b[1mHEAD\u001b[22m\u001b[39m\n"
          ]
        }
      ]
    },
    {
      "cell_type": "markdown",
      "source": [
        "**Homework 2**"
      ],
      "metadata": {
        "id": "GCOZucxBv9DA"
      }
    },
    {
      "cell_type": "code",
      "source": [
        "pip install Bio -q "
      ],
      "metadata": {
        "id": "Tba1tOZ5vhIb",
        "outputId": "d97d5567-0c23-4fc9-a551-6951c65534e9",
        "colab": {
          "base_uri": "https://localhost:8080/"
        }
      },
      "execution_count": 3,
      "outputs": [
        {
          "output_type": "stream",
          "name": "stdout",
          "text": [
            "\u001b[K     |████████████████████████████████| 269 kB 4.4 MB/s \n",
            "\u001b[K     |████████████████████████████████| 2.3 MB 44.0 MB/s \n",
            "\u001b[?25h"
          ]
        }
      ]
    },
    {
      "cell_type": "code",
      "source": [
        "import numpy as np\n",
        "import pandas as pd\n",
        "\n",
        "#To install the Bio library into my IDLE python editor I used the following two steps.\n",
        "#    1. cd C:\\Users\\USER\\AppData\\Local\\Programs\\Python\\Python39\\Scripts\n",
        "#    2. pip install Bio\n",
        "\n",
        "# Read fasta and parse the seq_names and the sequences\n",
        "# Reference for parsing the fasta is the original biopython library documentation\n",
        "# (https://biopython.org/DIST/docs/tutorial/Tutorial.html#htoc11 section 2.4.1)\n",
        "\n",
        "from Bio import SeqIO\n",
        "seq_name = []\n",
        "sequence = []\n",
        "# Remember to customize as --input from CLI args\n",
        "for seq_record in SeqIO.parse(\"test.fasta\", \"fasta\"):\n",
        "  seq_name.append(seq_record.id)\n",
        "  #sequence.append(repr(seq_record.seq))\n",
        "  sequence.append(seq_record.seq)\n",
        "  #print(len(seq_record))\n",
        "print(sequence[1])\n",
        "print(sequence[2])\n",
        "\n",
        "def preprocess_score(score):\n",
        "  file = open(score, 'r')\n",
        "  lines = file.readlines()\n",
        "  file.close()\n",
        "  columns = []\n",
        "  mut = []\n",
        "  for line in lines:\n",
        "    if line.startswith(\"#\") or line.startswith(\" \"):\n",
        "      continue\n",
        "    columns.append(line[0]) # Amino acid alphabets stored for row & column indexing\n",
        "    line = line[1:].strip().split() # remove the letters from left and the spaces\n",
        "    mut.append(line)\n",
        "  mut = np.array(mut).astype(int) # change the string numbers into type int\n",
        "  \n",
        "  return pd.DataFrame(mut, index = columns, columns = columns)\n",
        "\n",
        "score = \"pam250.txt\" # score from command line args\n",
        "score = preprocess_score(score) # score made a data frame to access its values with \n",
        "                  # alphabet indices\n",
        "#print(score)\n",
        "\n",
        "gop = -10\n",
        "gex = -2\n",
        "# A function to determine pairwise alignment score\n",
        "def pairwise(x, y):\n",
        "  pair_sum = 0\n",
        "  x_prev = '' # x_prev and y_prev are used to store immediate previous alphabets\n",
        "  y_prev = '' # so that extension gaps will be identified\n",
        "  for i in range(len(x)): # Considering that both x and y have the same length\n",
        "    x_prev = x_prev == '-' and x[i] == '-' # status of extension gap in the first paired sequence\n",
        "    y_prev = y_prev == '-' and y[i] == '-' # status of extension gap in second paired sequence\n",
        "    curr = x[i] == '-' or y[i] == '-' # status of open gap in the paired sequence\n",
        "    if x_prev or y_prev: # extension gap value will be taken if holds\n",
        "      pair_sum = pair_sum + gex\n",
        "    elif curr: # open gap value will be taken if holds\n",
        "      pair_sum = pair_sum + gop\n",
        "    else: # score matrix value will be taken otherwise\n",
        "      pair_sum = pair_sum + score.loc[x[i]][y[i]] \n",
        "    x_prev = x[i]\n",
        "    y_prev = y[i]\n",
        "  return pair_sum\n",
        "\n",
        "#pairwise(sequence[0], sequence[1])\n",
        "\n",
        "# A function to find the total sum of pairs score.\n",
        "def sumOfPairs(seq):\n",
        "  sop = 0 # to store sum of pairs value\n",
        "  for i in range(len(seq)-1): # i iterates as long as there is j in seq as its next sequence\n",
        "    for j in range(i+1, len(seq)): # j will be the next seq index to be compared with seq[i]\n",
        "      sop = sop + pairwise(seq[i], seq[j])\n",
        "  return sop\n",
        "print(sumOfPairs(sequence))"
      ],
      "metadata": {
        "id": "UlUbMGY6cAcx",
        "outputId": "cd34c5e7-fd8a-497c-ccba-cb624b6ceecd",
        "colab": {
          "base_uri": "https://localhost:8080/"
        }
      },
      "execution_count": 4,
      "outputs": [
        {
          "output_type": "stream",
          "name": "stdout",
          "text": [
            "KGVIYALWDYEPQNDDELPMKEGDCMTIIHREDEDEIEWWWARLNDKEGYVPRNLLGLYP\n",
            "KGVIYALWDYEPQNDDELPMKEGDCMTIIHREDEDEI--WWARLNDKEGYVPRNLLGLYP\n",
            "1047\n"
          ]
        }
      ]
    },
    {
      "cell_type": "markdown",
      "source": [
        "**Homework 3**"
      ],
      "metadata": {
        "id": "whhnJvDTvyh4"
      }
    },
    {
      "cell_type": "code",
      "source": [
        "import numpy as np\n",
        "import pandas as pd\n",
        "\n",
        "from Bio import SeqIO\n",
        "from Bio.Seq import Seq\n",
        "from Bio.SeqRecord import SeqRecord\n",
        "\n",
        "seq_name = []\n",
        "sequence = []\n",
        "# Remember to customize as --input from CLI args\n",
        "for seq_record in SeqIO.parse(\"test3.fasta\", \"fasta\"):\n",
        "  seq_name.append(seq_record.id)\n",
        "  sequence.append(seq_record.seq)\n",
        "\n",
        "seq1 = sequence[0]\n",
        "seq2 = sequence[1]\n",
        "\n",
        "print(\"+----- Given Sequences with their respective lengthes ---------+\")\n",
        "print(seq1, len(seq1))\n",
        "print(seq2, len(seq2))\n",
        "print(\"****************************************************************\")\n",
        "gap = -10\n",
        "score = \"pam250.txt\" # score from command line args\n",
        "aln = 'local' # Alignment choice argument from command line interface\n",
        "\n",
        "TOP = gap\n",
        "DIAGONAL = 0\n",
        "LEFT = gap\n",
        "col = '-' + seq1 # This if for simplicity to avoid repeated use of (len(seq1) + 1)\n",
        "row = '-' + seq2 # For the same reason\n",
        "\n",
        "def preprocess_score(score):\n",
        "  file = open(score, 'r')\n",
        "  lines = file.readlines()\n",
        "  file.close()\n",
        "  columns = []\n",
        "  mut = []\n",
        "  for line in lines:\n",
        "    if line.startswith(\"#\") or line.startswith(\" \"):\n",
        "      continue\n",
        "    columns.append(line[0]) # Amino acid alphabets stored for row & column indexing\n",
        "    line = line[1:].strip().split() # remove the letters from left and the spaces\n",
        "    mut.append(line)\n",
        "  mut = np.array(mut).astype(int) # change the string numbers into type int\n",
        "  return pd.DataFrame(mut, index = columns, columns = columns)\n",
        "\n",
        "score = preprocess_score(score) # score made a data frame to access its values  \n",
        "                  # with alphabet indices\n",
        "\n",
        "# *************************** Global Alignment Section *************************\n",
        "# Filling score_m and keeping track of the direction for each cell\n",
        "def globalAlignment(score):\n",
        "  score_m = np.zeros((len(row), len(col))) # score matrix for global alignment \n",
        "  direction_m = np.empty((len(row), len(col)), dtype = object)\n",
        "  for i in range(len(col)):\n",
        "    score_m[0][i] = i * gap\n",
        "  for j in range(len(row)):\n",
        "    score_m[j][0] = j * gap\n",
        "\n",
        "  for i in range(1, len(row)):\n",
        "    for j in range(1, len(col)):\n",
        "      TOP = score_m[i-1,j] + gap\n",
        "      DIAGONAL = score_m[i-1][j-1] + score.loc[row[i]][col[j]]\n",
        "      LEFT = score_m[i,j-1] + gap\n",
        "      score_m[i][j] = max(TOP, DIAGONAL, LEFT) \n",
        "      # ------ Let the direction for each cell be saved as follows \n",
        "      if score_m[i][j] == TOP:\n",
        "        direction_m[i][j] = 'ins'\n",
        "      elif score_m[i][j] == DIAGONAL:\n",
        "        direction_m[i][j] = 'sub' \n",
        "      else:\n",
        "        direction_m[i][j] = 'del'\n",
        "\n",
        "  score_m = score_m.astype(int)\n",
        "  return score_m, direction_m\n",
        "\n",
        "# Trace back section for global alignment\n",
        "def traceBackGlobal():\n",
        "  score_m, direction_m = globalAlignment(score)\n",
        "  i = len(seq1)\n",
        "  j = len(seq2)\n",
        "  aln1 = ''\n",
        "  aln2 = ''\n",
        "\n",
        "  while(not (i == 0 and j == 0)):\n",
        "    if(direction_m[j][i] == 'sub'):\n",
        "      aln1 = col[i] + aln1\n",
        "      aln2 = row[j] + aln2\n",
        "      i, j = i - 1, j - 1\n",
        "    elif(direction_m[j][i] == 'del'):\n",
        "      aln1 = col[i] + aln1\n",
        "      aln2 = '-' + aln2\n",
        "      i = i - 1\n",
        "    else:\n",
        "      aln1 = '-' + aln1\n",
        "      aln2 = row[j] + aln2\n",
        "      j = j - 1\n",
        "  return aln1, aln2\n",
        "# End of Trace Back for the Global Alignment\n",
        "# --------------------------------------------\n",
        "# ************* End of Global Alignment ************************************\n",
        "\n",
        "def showMatched(x, y): # A function to help proper display of the alignments\n",
        "  between = ''\n",
        "  for i in range(len(x)):\n",
        "    if x[i] == y[i]:\n",
        "      between = between + '|'\n",
        "    elif x[i] == '-' or y[i] == '-':\n",
        "      between = between + ' '\n",
        "    else:\n",
        "      between = between + '.'\n",
        "  return between\n",
        "\n",
        "def displayAlignment(x, y): # A function to display the aligned sequences with their SoP score\n",
        "  print(\"+----- You wanted {} alignment and here is the result -----+\".format(aln))\n",
        "  print(x)\n",
        "  print(showMatched(x, y))\n",
        "  print(y)\n",
        "  print(\"Sum of pairs (SoP) score for the {a} alignment is: {b}\".format(a = aln, b = pairwise(x, y)))\n",
        "# The SoP value verifies the correctness of our alignment\n",
        "                # if it becomes equal to the right bottom value.\n",
        "\n",
        "# ************* Local Alignment ********************************************\n",
        "def localAlignment(score):\n",
        "  score_local = np.zeros((len(row), len(col))).astype(int) # score matrix for local alignment\n",
        "  direction_l = np.zeros((len(row), len(col)), dtype = object) # to trace direction\n",
        "  bestScore = 0\n",
        "  \n",
        "  for i in range(1, len(row)):\n",
        "    for j in range(1, len(col)):\n",
        "      TOP = score_local[i-1,j] + gap\n",
        "      DIAGONAL = score_local[i-1][j-1] + score.loc[row[i]][col[j]]\n",
        "      LEFT = score_local[i,j-1] + gap\n",
        "      score_local[i][j] = max(TOP, DIAGONAL, LEFT, 0)\n",
        "\n",
        "      if score_local[i][j] >= bestScore:\n",
        "        bestScore = score_local[i][j]\n",
        "        \n",
        "      if score_local[i][j] == DIAGONAL:\n",
        "        direction_l[i][j] = 'sub'\n",
        "      elif score_local[i][j] == TOP:\n",
        "        direction_l[i][j] = 'ins' \n",
        "      else:\n",
        "        direction_l[i][j] = 'del'\n",
        "  return score_local, direction_l, bestScore\n",
        "\n",
        "# Trace back all possible optimal local alignment\n",
        "def traceBackLocal():\n",
        "  score_local, direction_l, bestScore = localAlignment(score)\n",
        "\n",
        "  r, c = score_local.shape # row and col lengths to track best score locations\n",
        "  bestLoc = [] # list of best score cells\n",
        "  pairs = [] # list of local pairs\n",
        "  \n",
        "  # Find all locations of the best score from the local alignment score matrix\n",
        "  for i in range(1, r):\n",
        "    for j in range(1, c):\n",
        "      if score_local[i][j] == bestScore:\n",
        "        bestLoc.append((i, j))\n",
        "  \n",
        "  for k in range(len(bestLoc)): # loop over all optimal local alignments\n",
        "    i, j = bestLoc[k]\n",
        "    al1 = ''\n",
        "    al2 = ''\n",
        "    between = ''\n",
        "    while(score_local[i][j]> 0):\n",
        "      if(direction_l[i][j] == 'sub'):\n",
        "        al1 = col[j] + al1\n",
        "        al2 = row[i] + al2\n",
        "        i, j = i - 1, j - 1\n",
        "      elif(direction_l[i][j] == 'del'):\n",
        "        al1 = col[j] + al1\n",
        "        al2 = '-' + al2\n",
        "        j = j - 1\n",
        "      else:\n",
        "        al1 = '-' + al1\n",
        "        al2 = row[i] + al2\n",
        "        i = i - 1\n",
        "    pairs.append((al1, al2))\n",
        "  return pairs\n",
        "\n",
        "alignments = []\n",
        "if aln == 'global':\n",
        "  aln1, aln2 = traceBackGlobal()\n",
        "  displayAlignment(aln1, aln2)\n",
        "  alignments.append(SeqRecord(Seq(aln1), id=\"protien 1\"))\n",
        "  alignments.append(SeqRecord(Seq(aln2), id=\"protien 2\"))\n",
        "elif aln == 'local':\n",
        "  for i in traceBackLocal():\n",
        "    displayAlignment(i[0], i[1])\n",
        "    alignments.append(SeqRecord(Seq(i[0]), id=\"protien 1\"))\n",
        "    alignments.append(SeqRecord(Seq(i[1]), id=\"protien 2\"))\n",
        "else:\n",
        "  print(\"Please selected the alignment type.\")\n",
        "\n",
        "SeqIO.write(alignments, \"result.fasta\", \"fasta\")"
      ],
      "metadata": {
        "id": "e_YVQGnpvxOa",
        "colab": {
          "base_uri": "https://localhost:8080/"
        },
        "outputId": "eff6ff9b-ce38-4fe4-ce3c-83ef3134a4d8"
      },
      "execution_count": 5,
      "outputs": [
        {
          "output_type": "stream",
          "name": "stdout",
          "text": [
            "+----- Given Sequences with their respective lengthes ---------+\n",
            "NLFVALYDFVASGDNTLSITKGEKLRVLGYNHNGEWCEAQTKNGQGWVPSNYITPVN 57\n",
            "KGVIYALWDYEPQNDDELPMKEGDCMTIIHREDEDEIEWWWARLNDKEGYVPRNLLGLYP 60\n",
            "****************************************************************\n",
            "+----- You wanted local alignment and here is the result -----+\n",
            "LFVALYDFVASGDNTLSITKGEKLRVLG-YNHNG-EWCEAQTKNGQGWVPSNYI\n",
            "...||.|.....|..|....|....... ..... ||..|......|.||.|..\n",
            "VIYALWDYEPQNDDELPMKEGDCMTIIHREDEDEIEWWWARLNDKEGYVPRNLL\n",
            "Sum of pairs (SoP) score for the local alignment is: 52\n",
            "+----- You wanted local alignment and here is the result -----+\n",
            "LFVALYDFVASGDNTLSITKGEKLRVLG-YNHNG-EWCEAQTKNGQGWVPSNYIT\n",
            "...||.|.....|..|....|....... ..... ||..|......|.||.|...\n",
            "VIYALWDYEPQNDDELPMKEGDCMTIIHREDEDEIEWWWARLNDKEGYVPRNLLG\n",
            "Sum of pairs (SoP) score for the local alignment is: 52\n"
          ]
        },
        {
          "output_type": "execute_result",
          "data": {
            "text/plain": [
              "4"
            ]
          },
          "metadata": {},
          "execution_count": 5
        }
      ]
    },
    {
      "cell_type": "markdown",
      "source": [
        "**H4 pre**"
      ],
      "metadata": {
        "id": "z7C25q8Op5_o"
      }
    },
    {
      "cell_type": "code",
      "source": [
        "M = np.zeros((len(row), len(col))) # score matrix for global alignment \n",
        "Ix = np.zeros((len(row), len(col)))\n",
        "Iy = np.zeros((len(row), len(col)))\n",
        "\n",
        "traceM = np.zeros((len(row), len(col)), dtype = object)\n",
        "traceIx = np.zeros((len(row), len(col)), dtype = object)\n",
        "traceIy = np.zeros((len(row), len(col)), dtype = object)\n",
        "\n",
        "#direction_m = np.empty((len(row), len(col)), dtype = object)\n",
        "# Initializing the first column and first row\n",
        "Ix[0][0] = Iy[0][0] = gop\n",
        "for i in range(1, len(row)):\n",
        "  M[i][0] = Iy[i][0] = np.NINF\n",
        "  Ix[i][0] = gop + i * gex \n",
        "for j in range(1, len(col)):\n",
        "  M[0][j] = Ix[0][j] = np.NINF\n",
        "  Iy[0][j] = gop + j * gex\n",
        "Ix.shape"
      ],
      "metadata": {
        "colab": {
          "base_uri": "https://localhost:8080/"
        },
        "id": "2ZVmDZi_qV3S",
        "outputId": "aef18f50-800b-4ff3-9eaa-0e1aa33103da"
      },
      "execution_count": 6,
      "outputs": [
        {
          "output_type": "execute_result",
          "data": {
            "text/plain": [
              "(61, 58)"
            ]
          },
          "metadata": {},
          "execution_count": 6
        }
      ]
    },
    {
      "cell_type": "code",
      "source": [
        "for i in range(1, len(row)):\n",
        "  for j in range(1, len(col)):\n",
        "    mat = score.loc[row[i]][col[j]]\n",
        "    #DIAGONAL = M[i-1][j-1] + score.loc[row[i]][col[j]]\n",
        "    #TOP = Ix[i-1][j-1] + score.loc[row[i]][col[j]]\n",
        "    #LEFT = Iy[i-1][j-1] + score.loc[row[i]][col[j]]\n",
        "    M[i][j] = max((M[i-1][j-1] + mat), (Ix[i-1][j-1] + mat), (Iy[i-1][j-1] + mat)) \n",
        "    Ix[i,j] = max((M[i - 1, j] + gop), (Ix[i - 1, j] + gex))\n",
        "    Iy[i,j] = max((M[i, j - 1] + gop), (Iy[i, j - 1] + gex))\n",
        "\n",
        "    if M[i][j] == (M[i-1][j-1] + mat):\n",
        "      traceM[i][j] = 'm'\n",
        "    elif M[i][j] == (Ix[i-1][j-1] + mat):\n",
        "      traceM[i][j] = 'x'\n",
        "    elif M[i][j] == (Iy[i-1][j-1] + mat):\n",
        "      traceM[i][j] = 'y'\n",
        "\n",
        "    if Ix[i][j] == (M[i-1][j] + gop):\n",
        "      traceIx[i][j] = 'm'\n",
        "    else:\n",
        "      traceIx[i][j] = 'x'\n",
        "    \n",
        "    if Iy[i][j] == (M[i][j-1] + gop):\n",
        "      traceIy[i][j] = 'm'\n",
        "    else:\n",
        "      traceIy[i][j] = 'y'    "
      ],
      "metadata": {
        "id": "j1Ef5PD6xmAe"
      },
      "execution_count": 29,
      "outputs": []
    },
    {
      "cell_type": "code",
      "source": [
        "print(\"************* Main Score: *****************\")\n",
        "print(M)\n",
        "print(\"************* Ix: *************************\")\n",
        "print(Ix)\n",
        "print(\"************* Iy: *************************\")\n",
        "print(Iy)\n",
        "traceM"
      ],
      "metadata": {
        "id": "aEEMrLSZz8Ik"
      },
      "execution_count": null,
      "outputs": []
    },
    {
      "cell_type": "code",
      "source": [
        "print(col)\n",
        "print(row)"
      ],
      "metadata": {
        "id": "m70of9XOsxe9",
        "outputId": "f5a55582-c2e5-41e4-c70b-cc2fcd82bbef",
        "colab": {
          "base_uri": "https://localhost:8080/"
        }
      },
      "execution_count": 9,
      "outputs": [
        {
          "output_type": "stream",
          "name": "stdout",
          "text": [
            "-NLFVALYDFVASGDNTLSITKGEKLRVLGYNHNGEWCEAQTKNGQGWVPSNYITPVN\n",
            "-KGVIYALWDYEPQNDDELPMKEGDCMTIIHREDEDEIEWWWARLNDKEGYVPRNLLGLYP\n"
          ]
        }
      ]
    },
    {
      "cell_type": "code",
      "source": [
        ""
      ],
      "metadata": {
        "id": "tiLGdqGPzBZl"
      },
      "execution_count": null,
      "outputs": []
    },
    {
      "cell_type": "code",
      "source": [
        "# Trace back section for global alignment\n",
        "def traceBack():\n",
        "  j = len(seq1)\n",
        "  i = len(seq2)\n",
        "  aln1 = ''\n",
        "  aln2 = ''\n",
        "  mxm = max(M[i][j], Ix[i][j], Iy[i][j])\n",
        "  tracer = ''\n",
        "  if mxm == M[i][j]:\n",
        "    tracer = 'm'\n",
        "  elif mxm == Ix[i][j]:\n",
        "    tracer = 'x'\n",
        "  else:\n",
        "    tracer = 'y'\n",
        "    \n",
        "  while (i > 0 and j > 0):\n",
        "    if tracer == 'm':\n",
        "      if traceM[i][j] == 'm':\n",
        "        aln1 = col[j] + aln1\n",
        "        aln2 = row[i] + aln2\n",
        "        i, j = i - 1, j - 1\n",
        "        tracer = 'm'\n",
        "      elif traceM[i][j] == 'x':\n",
        "        #i, j = i - 1, j - 1\n",
        "        aln1 = '-' + aln1\n",
        "        aln2 = row[i] + aln2\n",
        "        i = i - 1\n",
        "        tracer = 'x'\n",
        "      else:\n",
        "        #i, j = i - 1, j - 1\n",
        "        aln1 = col[j] + aln1\n",
        "        aln2 = '-' + aln2\n",
        "        j = j - 1\n",
        "        tracer = 'y'\n",
        "    \n",
        "    elif tracer == 'x':\n",
        "      if traceIx[i][j] == 'm':\n",
        "        aln1 = col[j] + aln1\n",
        "        aln2 = row[i] + aln2\n",
        "        i, j = i - 1, j - 1\n",
        "        tracer = 'm'\n",
        "#        i = i - 1\n",
        "        \n",
        "      else:\n",
        "        aln1 = '-' + aln1\n",
        "        aln2 = row[i] + aln2\n",
        "        i = i - 1\n",
        "        tracer = 'x'\n",
        "    else:\n",
        "      if traceIy[i][j] == 'm':\n",
        "        #tracer = 'm'\n",
        "        #j = j - 1\n",
        "        aln1 = col[j] + aln1\n",
        "        aln2 = row[i] + aln2\n",
        "        i, j = i - 1, j - 1\n",
        "        tracer = 'm'\n",
        "      else:\n",
        "        aln1 = col[j] + aln1\n",
        "        aln2 = '-' + aln2\n",
        "        j = j - 1\n",
        "        tracer = 'y'\n",
        "    \n",
        "    #print(aln1)\n",
        "    #print(aln2)\n",
        "    #print(\"*\" * 50)\n",
        "  return aln1, aln2\n",
        "# End of Trace Back for the Global Alignment\n",
        "# --------------------------------------------"
      ],
      "metadata": {
        "id": "sDcRyjkDA3cE"
      },
      "execution_count": 23,
      "outputs": []
    },
    {
      "cell_type": "code",
      "source": [
        "# Working Best\n",
        "# Trace back section for global alignment\n",
        "def traceBack():\n",
        "  j = len(seq1)\n",
        "  i = len(seq2)\n",
        "  aln1 = ''\n",
        "  aln2 = ''\n",
        "  mxm = max(M[i][j], Ix[i][j], Iy[i][j])\n",
        "  tracer = ''\n",
        "  if mxm == M[i][j]:\n",
        "    tracer = 'm'\n",
        "  elif mxm == Ix[i][j]:\n",
        "    tracer = 'x'\n",
        "  else:\n",
        "    tracer = 'y'\n",
        "    \n",
        "  while (i > 0 and j > 0):\n",
        "    if tracer == 'm':\n",
        "      aln1 = col[j] + aln1\n",
        "      aln2 = row[i] + aln2\n",
        "      i, j = i - 1, j - 1\n",
        "      if traceM[i][j] == 'm':\n",
        "        tracer = 'm'\n",
        "      elif traceM[i][j] == 'x':\n",
        "        tracer = 'x'\n",
        "      elif traceM[i][j] == 'y':\n",
        "        tracer = 'y'\n",
        "      \n",
        "      continue\n",
        "    \n",
        "    elif tracer == 'x':\n",
        "      aln1 = '-' + aln1\n",
        "      aln2 = row[i] + aln2\n",
        "      if traceIx[i][j] == 'm':\n",
        "        tracer = 'm'    \n",
        "      elif traceIx[i][j] == 'x':\n",
        "        tracer = 'x'\n",
        "      i = i - 1\n",
        "      \n",
        "    elif traceIy[i][j] == 'y':\n",
        "      aln1 = col[j] + aln1\n",
        "      aln2 = '-' + aln2\n",
        "      if traceIy[i][j] == 'm':\n",
        "        tracer = 'm'\n",
        "      elif traceIy[i][j] == 'y':\n",
        "        tracer = 'y'\n",
        "      j = j - 1\n",
        "      \n",
        "  return aln1, aln2\n",
        "# End of Trace Back for the Global Alignment\n",
        "# --------------------------------------------\n",
        "traceBack()"
      ],
      "metadata": {
        "id": "XN2yZ04HI_Nd",
        "outputId": "5f32eb52-61fb-4d86-e04d-bdec5348127a",
        "colab": {
          "base_uri": "https://localhost:8080/"
        }
      },
      "execution_count": 71,
      "outputs": [
        {
          "output_type": "execute_result",
          "data": {
            "text/plain": [
              "('NL-FVALYDFVASGDNTLSITKGEKLRVLGYNHNGE--WCEAQTKNGQGWVPSNYITPVN',\n",
              " 'KGVIYALWDYEPQNDDELPMKEGDCMTIIHREDEDEIEWWWARLNDKEGYVPRNLLGLYP')"
            ]
          },
          "metadata": {},
          "execution_count": 71
        }
      ]
    },
    {
      "cell_type": "code",
      "source": [
        "# Working Better\n",
        "# Trace back section for global alignment\n",
        "def traceBack():\n",
        "  j = len(seq1)\n",
        "  i = len(seq2)\n",
        "  aln1 = ''\n",
        "  aln2 = ''\n",
        "  mxm = max(M[i][j], Ix[i][j], Iy[i][j])\n",
        "  tracer = ''\n",
        "  if mxm == M[i][j]:\n",
        "    tracer = 'm'\n",
        "  elif mxm == Ix[i][j]:\n",
        "    tracer = 'x'\n",
        "  else:\n",
        "    tracer = 'y'\n",
        "    \n",
        "  while (i > 0 and j > 0):\n",
        "    if tracer == 'm':\n",
        "      aln1 = col[j] + aln1\n",
        "      aln2 = row[i] + aln2\n",
        "      i, j = i - 1, j - 1\n",
        "      if traceM[i][j] == 'm':\n",
        "        tracer = 'm'\n",
        "      elif traceM[i][j] == 'x':\n",
        "        tracer = 'x'\n",
        "      elif traceM[i][j] == 'y':\n",
        "        tracer = 'y'\n",
        "      continue\n",
        "    \n",
        "    elif tracer == 'x':\n",
        "      aln1 = '-' + aln1\n",
        "      aln2 = row[i] + aln2\n",
        "      if traceIx[i][j] == 'm':\n",
        "        tracer = 'm'    \n",
        "      elif traceIx[i][j] == 'x':\n",
        "        tracer = 'x'\n",
        "      i = i - 1\n",
        "      \n",
        "    elif traceIy[i][j] == 'y':\n",
        "      aln1 = col[j] + aln1\n",
        "      aln2 = '-' + aln2\n",
        "      if traceIy[i][j] == 'm':\n",
        "        tracer = 'm'\n",
        "      elif traceIy[i][j] == 'y':\n",
        "        tracer = 'y'\n",
        "      j = j - 1\n",
        "      \n",
        "  return aln1, aln2\n",
        "# End of Trace Back for the Global Alignment\n",
        "# --------------------------------------------"
      ],
      "metadata": {
        "id": "Ry2nldOP2R3Z"
      },
      "execution_count": 93,
      "outputs": []
    },
    {
      "cell_type": "code",
      "source": [
        "traceBack()"
      ],
      "metadata": {
        "id": "Y6oRNuBCSCIN",
        "outputId": "bbccb7a3-deff-4c9c-ac0c-12f6c11e3964",
        "colab": {
          "base_uri": "https://localhost:8080/"
        }
      },
      "execution_count": 94,
      "outputs": [
        {
          "output_type": "execute_result",
          "data": {
            "text/plain": [
              "('NL-FVALYDFVASGDNTLSITKGEKLRVLGYNHNGE--WCEAQTKNGQGWVPSNYITPVN',\n",
              " 'KGVIYALWDYEPQNDDELPMKEGDCMTIIHREDEDEIEWWWARLNDKEGYVPRNLLGLYP')"
            ]
          },
          "metadata": {},
          "execution_count": 94
        }
      ]
    },
    {
      "cell_type": "code",
      "source": [
        "# Expected Output \n",
        "# N-LFVALYDFVASGDNTLSITKGEKLRVLGYNHNGE--WCEAQTKNGQGWVPSNYITPVN\n",
        "# KGVIYALWDYEPQNDDELPMKEGDCMTIIHREDEDEIEWWWARLNDKEGYVPRNLLGLYP"
      ],
      "metadata": {
        "id": "cdrBTJk44z9D"
      },
      "execution_count": 8,
      "outputs": []
    },
    {
      "cell_type": "code",
      "source": [
        "a, b = traceBack()\n",
        "print(a[0:4])\n",
        "print(b[0:4])\n",
        "\n",
        "for i in range(5):\n",
        "  l = []\n",
        "  for j in range(4):\n",
        "    l.append((M[i][j], Ix[i][j], Iy[i][j]))\n",
        "  print(l)\n",
        "for i in range(5):\n",
        "  l = []\n",
        "  for j in range(4):\n",
        "    l.append((traceM[i][j], traceIx[i][j], traceIy[i][j]))\n",
        "  print(l)"
      ],
      "metadata": {
        "id": "ZeaTlAKqVbRw",
        "outputId": "5838c659-865f-46e6-bcb5-c34aa08e326c",
        "colab": {
          "base_uri": "https://localhost:8080/"
        }
      },
      "execution_count": 81,
      "outputs": [
        {
          "output_type": "stream",
          "name": "stdout",
          "text": [
            "NL-F\n",
            "KGVI\n",
            "[({0.0: 0}, {-10.0: 0}, {-10.0: 0}), ({-inf: 0}, {-inf: 0}, {-12.0: 0}), ({-inf: 0}, {-inf: 0}, {-14.0: 0}), ({-inf: 0}, {-inf: 0}, {-16.0: 0})]\n",
            "[({-inf: 0}, {-12.0: 0}, {-inf: 0}), ({1.0: 'm'}, {-inf: 'm'}, {-inf: 'm'}), ({-15.0: 'y'}, {-inf: 'm'}, {-9.0: 'm'}), ({-19.0: 'y'}, {-inf: 'm'}, {-11.0: 'y'})]\n",
            "[({-inf: 0}, {-14.0: 0}, {-inf: 0}), ({-12.0: 'x'}, {-9.0: 'm'}, {-inf: 'm'}), ({-3.0: 'm'}, {-25.0: 'm'}, {-22.0: 'm'}), ({-14.0: 'y'}, {-29.0: 'm'}, {-13.0: 'm'})]\n",
            "[({-inf: 0}, {-16.0: 0}, {-inf: 0}), ({-16.0: 'x'}, {-11.0: 'x'}, {-inf: 'm'}), ({-7.0: 'x'}, {-13.0: 'm'}, {-26.0: 'm'}), ({-4.0: 'm'}, {-24.0: 'm'}, {-17.0: 'm'})]\n",
            "[({-inf: 0}, {-18.0: 0}, {-inf: 0}), ({-18.0: 'x'}, {-13.0: 'x'}, {-inf: 'm'}), ({-9.0: 'x'}, {-15.0: 'x'}, {-28.0: 'm'}), ({-6.0: 'm'}, {-14.0: 'm'}, {-19.0: 'm'})]\n",
            "[(0.0, -10.0, -10.0), (-inf, -inf, -12.0), (-inf, -inf, -14.0), (-inf, -inf, -16.0)]\n",
            "[(-inf, -12.0, -inf), (1.0, -inf, -inf), (-15.0, -inf, -9.0), (-19.0, -inf, -11.0)]\n",
            "[(-inf, -14.0, -inf), (-12.0, -9.0, -inf), (-3.0, -25.0, -22.0), (-14.0, -29.0, -13.0)]\n",
            "[(-inf, -16.0, -inf), (-16.0, -11.0, -inf), (-7.0, -13.0, -26.0), (-4.0, -24.0, -17.0)]\n",
            "[(-inf, -18.0, -inf), (-18.0, -13.0, -inf), (-9.0, -15.0, -28.0), (-6.0, -14.0, -19.0)]\n",
            "[(0, 0, 0), (0, 0, 0), (0, 0, 0), (0, 0, 0)]\n",
            "[(0, 0, 0), ('m', 'm', 'm'), ('y', 'm', 'm'), ('y', 'm', 'y')]\n",
            "[(0, 0, 0), ('x', 'm', 'm'), ('m', 'm', 'm'), ('y', 'm', 'm')]\n",
            "[(0, 0, 0), ('x', 'x', 'm'), ('x', 'm', 'm'), ('m', 'm', 'm')]\n",
            "[(0, 0, 0), ('x', 'x', 'm'), ('x', 'x', 'm'), ('m', 'm', 'm')]\n"
          ]
        }
      ]
    },
    {
      "cell_type": "code",
      "source": [
        "score.loc['N']['K']"
      ],
      "metadata": {
        "id": "W-LoNKUnSpRq",
        "outputId": "aecf39eb-5a4d-4970-9f3b-3b5f211a68ce",
        "colab": {
          "base_uri": "https://localhost:8080/"
        }
      },
      "execution_count": 68,
      "outputs": [
        {
          "output_type": "execute_result",
          "data": {
            "text/plain": [
              "1"
            ]
          },
          "metadata": {},
          "execution_count": 68
        }
      ]
    },
    {
      "cell_type": "code",
      "source": [
        "GE-W\n",
        "EIEW\n",
        "a, b = traceBack()\n",
        "print(a)\n",
        "print(b)"
      ],
      "metadata": {
        "id": "seaIiWe4YOi9",
        "outputId": "64ddba17-237d-472d-8e46-50913586ee6d",
        "colab": {
          "base_uri": "https://localhost:8080/"
        }
      },
      "execution_count": 44,
      "outputs": [
        {
          "output_type": "stream",
          "name": "stdout",
          "text": [
            "NL-FVALYDFVASGDNTLSITKGEKLRVLGY-NHNGE-WCEAQTKNGQGWVPSNYITPVN\n",
            "KGVIYALWDYEPQNDDELPMKEGDCMTIIHREDEDEIEWWWARLNDKEGYVPRNLLGLYP\n"
          ]
        }
      ]
    },
    {
      "cell_type": "code",
      "source": [
        "print(a[36:39])\n",
        "print(b[36:39])"
      ],
      "metadata": {
        "id": "zpuf2F5wZEqV",
        "outputId": "a5160d82-35f8-4f93-8786-85c5c1aa68c3",
        "colab": {
          "base_uri": "https://localhost:8080/"
        }
      },
      "execution_count": 55,
      "outputs": [
        {
          "output_type": "stream",
          "name": "stdout",
          "text": [
            "E-W\n",
            "IEW\n"
          ]
        }
      ]
    },
    {
      "cell_type": "markdown",
      "source": [
        "[['m' 'm' 'y' 'y' 'y']\n",
        " ['m' 'm' 'y' 'y' 'y']\n",
        " ['m' 'm' 'm' 'y' 'y']\n",
        " ['m' 'm' 'y' 'm' 'm']\n",
        " ['m' 'm' 'm' 'y' 'y']]"
      ],
      "metadata": {
        "id": "566gLx7yXvtK"
      }
    },
    {
      "cell_type": "code",
      "source": [
        "#np.set_printoptions(threshold=np.nan)\n",
        "np.set_printoptions(threshold=np.inf, linewidth=np.nan)\n",
        "print(M)\n",
        "print(\"*Ix*\" * 20)\n",
        "print(Ix)\n",
        "print(\"*Iy*\" * 20)\n",
        "print(Iy)\n",
        "print(\"*TM*\" * 20)\n",
        "print(traceM)\n",
        "print(\"*TIx*\" * 20)\n",
        "print(traceIx)\n",
        "print(\"TIy*\" * 50)\n",
        "print(traceIy)"
      ],
      "metadata": {
        "id": "XTrsCvjjU3dW"
      },
      "execution_count": null,
      "outputs": []
    },
    {
      "cell_type": "code",
      "source": [
        "import sys, math\n",
        "\n",
        "seq1 = \"NLFVALYDFVASGDNTLSITKGEKLRVLGYNHNGEWCEAQTKNGQGWVPSNYITPVN\"\n",
        "seq2 = \"KGVIYALWDYEPQNDDELPMKEGDCMTIIHREDEDEIEWWWARLNDKEGYVPRNLLGLYP\"\n",
        "\n",
        "def affine_gap(score):\n",
        "\n",
        "    #### default gap value\n",
        "    gap_open = -10.\n",
        "    gap_extend = -2\n",
        "    #gap_open = -1.\n",
        "    #gap_extend = -0.1\n",
        "    match = 1.\n",
        "    mismatch = -1.\n",
        "    \n",
        "    #### initiate and calculate value\n",
        "    lseq1 = len(seq1); lseq2 = len(seq2)\n",
        "    row = lseq2+1; col = lseq1+1\n",
        "\n",
        "    xval = [[0. for j in range(col)] for i in range(row)]\n",
        "    yval = [[0. for j in range(col)] for i in range(row)]\n",
        "    val = [[0. for j in range(col)] for i in range(row)]\n",
        "    \n",
        "    for i in range(row):\n",
        "        val[i][0] = gap_open + i*gap_extend\n",
        "        yval[i][0] = -10000. \n",
        "    \n",
        "    for j in range(col):\n",
        "        val[0][j] = gap_open + j*gap_extend\n",
        "        xval[0][j] = -10000.  # assign -INF\n",
        "    \n",
        "    val[0][0] = 0.\n",
        "     \n",
        "    for i in range(1,row):\n",
        "        for j in range(1,col):\n",
        "            xval[i][j] = max(xval[i-1][j] + gap_extend, val[i-1][j] + gap_open + gap_extend)\n",
        "            yval[i][j] = max(yval[i][j-1] + gap_extend, val[i][j-1] + gap_open + gap_extend)\n",
        "            cople = 0.\n",
        "            cople = val[i-1][j-1] + score.loc[seq2[i]][seq1[j]]\n",
        "            #if (seq1[j-1] == seq2[i-1]):\n",
        "            #    cople = val[i-1][j-1] + match\n",
        "            #else:\n",
        "            #    cople = val[i-1][j-1] + mismatch\n",
        "            \n",
        "            val[i][j] = max(cople, xval[i][j], yval[i][j])\n",
        "\n",
        "\n",
        "    #### print value\n",
        "    for i in range(row):\n",
        "        for j in range(col):\n",
        "            print(val[i][j], '\\t',)\n",
        "        print('')\n",
        "    \n",
        "    #### traceback\n",
        "    sequ1 = ''\n",
        "    sequ2 = ''\n",
        "    i = lseq2\n",
        "    j = lseq1\n",
        "    ITER_MAX = 1000000\n",
        "    iteration = 0\n",
        "    while ((i>0 or j>0) and iteration < ITER_MAX): \n",
        "        if (i>0 and j>0 and (val[i][j] == (val[i-1][j-1] + score.loc[seq1[i]][seq2[j]]))):  \n",
        "        #if (i>0 and j>0 and val[i][j] == val[i-1][j-1] + (match if seq2[i-1] == seq1[j-1] else mismatch)):\n",
        "            sequ1 += seq1[j-1]\n",
        "            sequ2 += seq2[i-1]\n",
        "            i -= 1; j -= 1\n",
        "        elif (i>0 and val[i][j] == xval[i][j]):\n",
        "            sequ1 += '_'\n",
        "            sequ2 += seq2[i-1]\n",
        "            i -= 1\n",
        "        elif (j>0 and val[i][j] == yval[i][j]):\n",
        "            sequ1 += seq1[j-1]\n",
        "            sequ2 += '_'\n",
        "            j -= 1\n",
        "        \n",
        "        iteration += 1\n",
        "     \n",
        "    sequ1r = ' '.join([sequ1[j] for j in range(-1, -(len(sequ1)+1), -1)])\n",
        "    sequ2r = ' '.join([sequ2[j] for j in range(-1, -(len(sequ2)+1), -1)])\n",
        "     \n",
        "    score = 0.\n",
        "    for j in range(len(sequ1)):\n",
        "        if (sequ1[j] == sequ2[j]):\n",
        "            score += match\n",
        "        else:\n",
        "            score += mismatch\n",
        " \n",
        "    print(\"Sequence 1: \", sequ1r)\n",
        "    print(\"Sequence 2: \", sequ2r)\n",
        "    print(\"Score     : \", score)\n",
        "\n",
        "if __name__ == \"__main__\":\n",
        "    affine_gap(score)"
      ],
      "metadata": {
        "id": "MrofG3JpR7FE",
        "outputId": "17995f43-25da-4b5d-ebeb-f83c0de326d6",
        "colab": {
          "base_uri": "https://localhost:8080/",
          "height": 333
        }
      },
      "execution_count": null,
      "outputs": [
        {
          "output_type": "error",
          "ename": "IndexError",
          "evalue": "ignored",
          "traceback": [
            "\u001b[0;31m---------------------------------------------------------------------------\u001b[0m",
            "\u001b[0;31mIndexError\u001b[0m                                Traceback (most recent call last)",
            "\u001b[0;32m<ipython-input-15-e28b5bf7de87>\u001b[0m in \u001b[0;36m<module>\u001b[0;34m()\u001b[0m\n\u001b[1;32m     91\u001b[0m \u001b[0;34m\u001b[0m\u001b[0m\n\u001b[1;32m     92\u001b[0m \u001b[0;32mif\u001b[0m \u001b[0m__name__\u001b[0m \u001b[0;34m==\u001b[0m \u001b[0;34m\"__main__\"\u001b[0m\u001b[0;34m:\u001b[0m\u001b[0;34m\u001b[0m\u001b[0;34m\u001b[0m\u001b[0m\n\u001b[0;32m---> 93\u001b[0;31m     \u001b[0maffine_gap\u001b[0m\u001b[0;34m(\u001b[0m\u001b[0mscore\u001b[0m\u001b[0;34m)\u001b[0m\u001b[0;34m\u001b[0m\u001b[0;34m\u001b[0m\u001b[0m\n\u001b[0m",
            "\u001b[0;32m<ipython-input-15-e28b5bf7de87>\u001b[0m in \u001b[0;36maffine_gap\u001b[0;34m(score)\u001b[0m\n\u001b[1;32m     37\u001b[0m             \u001b[0myval\u001b[0m\u001b[0;34m[\u001b[0m\u001b[0mi\u001b[0m\u001b[0;34m]\u001b[0m\u001b[0;34m[\u001b[0m\u001b[0mj\u001b[0m\u001b[0;34m]\u001b[0m \u001b[0;34m=\u001b[0m \u001b[0mmax\u001b[0m\u001b[0;34m(\u001b[0m\u001b[0myval\u001b[0m\u001b[0;34m[\u001b[0m\u001b[0mi\u001b[0m\u001b[0;34m]\u001b[0m\u001b[0;34m[\u001b[0m\u001b[0mj\u001b[0m\u001b[0;34m-\u001b[0m\u001b[0;36m1\u001b[0m\u001b[0;34m]\u001b[0m \u001b[0;34m+\u001b[0m \u001b[0mgap_extend\u001b[0m\u001b[0;34m,\u001b[0m \u001b[0mval\u001b[0m\u001b[0;34m[\u001b[0m\u001b[0mi\u001b[0m\u001b[0;34m]\u001b[0m\u001b[0;34m[\u001b[0m\u001b[0mj\u001b[0m\u001b[0;34m-\u001b[0m\u001b[0;36m1\u001b[0m\u001b[0;34m]\u001b[0m \u001b[0;34m+\u001b[0m \u001b[0mgap_open\u001b[0m \u001b[0;34m+\u001b[0m \u001b[0mgap_extend\u001b[0m\u001b[0;34m)\u001b[0m\u001b[0;34m\u001b[0m\u001b[0;34m\u001b[0m\u001b[0m\n\u001b[1;32m     38\u001b[0m             \u001b[0mcople\u001b[0m \u001b[0;34m=\u001b[0m \u001b[0;36m0.\u001b[0m\u001b[0;34m\u001b[0m\u001b[0;34m\u001b[0m\u001b[0m\n\u001b[0;32m---> 39\u001b[0;31m             \u001b[0mcople\u001b[0m \u001b[0;34m=\u001b[0m \u001b[0mval\u001b[0m\u001b[0;34m[\u001b[0m\u001b[0mi\u001b[0m\u001b[0;34m-\u001b[0m\u001b[0;36m1\u001b[0m\u001b[0;34m]\u001b[0m\u001b[0;34m[\u001b[0m\u001b[0mj\u001b[0m\u001b[0;34m-\u001b[0m\u001b[0;36m1\u001b[0m\u001b[0;34m]\u001b[0m \u001b[0;34m+\u001b[0m \u001b[0mscore\u001b[0m\u001b[0;34m.\u001b[0m\u001b[0mloc\u001b[0m\u001b[0;34m[\u001b[0m\u001b[0mseq2\u001b[0m\u001b[0;34m[\u001b[0m\u001b[0mi\u001b[0m\u001b[0;34m]\u001b[0m\u001b[0;34m]\u001b[0m\u001b[0;34m[\u001b[0m\u001b[0mseq1\u001b[0m\u001b[0;34m[\u001b[0m\u001b[0mj\u001b[0m\u001b[0;34m]\u001b[0m\u001b[0;34m]\u001b[0m\u001b[0;34m\u001b[0m\u001b[0;34m\u001b[0m\u001b[0m\n\u001b[0m\u001b[1;32m     40\u001b[0m             \u001b[0;31m#if (seq1[j-1] == seq2[i-1]):\u001b[0m\u001b[0;34m\u001b[0m\u001b[0;34m\u001b[0m\u001b[0;34m\u001b[0m\u001b[0m\n\u001b[1;32m     41\u001b[0m             \u001b[0;31m#    cople = val[i-1][j-1] + match\u001b[0m\u001b[0;34m\u001b[0m\u001b[0;34m\u001b[0m\u001b[0;34m\u001b[0m\u001b[0m\n",
            "\u001b[0;31mIndexError\u001b[0m: string index out of range"
          ]
        }
      ]
    },
    {
      "cell_type": "code",
      "source": [
        "# *************************** Global Alignment Section *************************\n",
        "# Filling score_m and keeping track of the direction for each cell\n",
        "def globalAlignment(score):\n",
        "  score_m = np.zeros((len(row), len(col))) # score matrix for global alignment \n",
        "  direction_m = np.empty((len(row), len(col)), dtype = object)\n",
        "  for i in range(len(col)):\n",
        "    score_m[0][i] = i * gap\n",
        "  for j in range(len(row)):\n",
        "    score_m[j][0] = j * gap\n",
        "\n",
        "  for i in range(1, len(row)):\n",
        "    for j in range(1, len(col)):\n",
        "      TOP = score_m[i-1,j] + gap\n",
        "      DIAGONAL = score_m[i-1][j-1] + score.loc[row[i]][col[j]]\n",
        "      LEFT = score_m[i,j-1] + gap\n",
        "      score_m[i][j] = max(TOP, DIAGONAL, LEFT) \n",
        "      # ------ Let the direction for each cell be saved as follows \n",
        "      if score_m[i][j] == TOP:\n",
        "        direction_m[i][j] = 'ins'\n",
        "      elif score_m[i][j] == DIAGONAL:\n",
        "        direction_m[i][j] = 'sub' \n",
        "      else:\n",
        "        direction_m[i][j] = 'del'\n",
        "\n",
        "  score_m = score_m.astype(int)\n",
        "  return score_m, direction_m\n",
        "\n",
        "# Trace back section for global alignment\n",
        "def traceBackGlobal():\n",
        "  score_m, direction_m = globalAlignment(score)\n",
        "  i = len(seq1)\n",
        "  j = len(seq2)\n",
        "  aln1 = ''\n",
        "  aln2 = ''\n",
        "\n",
        "  while(not (i == 0 and j == 0)):\n",
        "    if(direction_m[j][i] == 'sub'):\n",
        "      aln1 = col[i] + aln1\n",
        "      aln2 = row[j] + aln2\n",
        "      i, j = i - 1, j - 1\n",
        "    elif(direction_m[j][i] == 'del'):\n",
        "      aln1 = col[i] + aln1\n",
        "      aln2 = '-' + aln2\n",
        "      i = i - 1\n",
        "    else:\n",
        "      aln1 = '-' + aln1\n",
        "      aln2 = row[j] + aln2\n",
        "      j = j - 1\n",
        "  return aln1, aln2\n",
        "# End of Trace Back for the Global Alignment\n",
        "# --------------------------------------------\n",
        "# ************* End of Global Alignment ************************************"
      ],
      "metadata": {
        "id": "tol2py4vp4OI"
      },
      "execution_count": null,
      "outputs": []
    },
    {
      "cell_type": "markdown",
      "source": [
        "***HW4***"
      ],
      "metadata": {
        "id": "FqM152ET55WU"
      }
    },
    {
      "cell_type": "code",
      "source": [
        "import numpy as np\n",
        "import pandas as pd\n",
        "\n",
        "from Bio import SeqIO\n",
        "from Bio.Seq import Seq\n",
        "from Bio.SeqRecord import SeqRecord\n",
        "\n",
        "seq_name = []\n",
        "sequence = []\n",
        "# Remember to customize as --input from CLI args\n",
        "for seq_record in SeqIO.parse(\"test3.fasta\", \"fasta\"):\n",
        "  seq_name.append(seq_record.id)\n",
        "  sequence.append(seq_record.seq)\n",
        "\n",
        "seq1 = sequence[0]\n",
        "seq2 = sequence[1]\n",
        "\n",
        "print(\"+----- Given Sequences with their respective lengthes ---------+\")\n",
        "print(seq1, len(seq1))\n",
        "print(seq2, len(seq2))\n",
        "print(\"****************************************************************\")\n",
        "gop= -10\n",
        "gex = -2\n",
        "score = \"pam250.txt\" # score from command line args\n",
        "aln = 'local' # Alignment choice argument from command line interface\n",
        "\n",
        "TOP = gap\n",
        "DIAGONAL = 0\n",
        "LEFT = gap\n",
        "col = '-' + seq1 # This if for simplicity to avoid repeated use of (len(seq1) + 1)\n",
        "row = '-' + seq2 # For the same reason\n",
        "\n",
        "def preprocess_score(score):\n",
        "  file = open(score, 'r')\n",
        "  lines = file.readlines()\n",
        "  file.close()\n",
        "  columns = []\n",
        "  mut = []\n",
        "  for line in lines:\n",
        "    if line.startswith(\"#\") or line.startswith(\" \"):\n",
        "      continue\n",
        "    columns.append(line[0]) # Amino acid alphabets stored for row & column indexing\n",
        "    line = line[1:].strip().split() # remove the letters from left and the spaces\n",
        "    mut.append(line)\n",
        "  mut = np.array(mut).astype(int) # change the string numbers into type int\n",
        "  return pd.DataFrame(mut, index = columns, columns = columns)\n",
        "\n",
        "score = preprocess_score(score) # score made a data frame to access its values  \n",
        "                  # with alphabet indices\n",
        "\n",
        "# *************************** Global Alignment Section *************************\n",
        "# Filling score_m and keeping track of the direction for each cell\n",
        "def globalAlignment(score):\n",
        "  score_m = np.zeros((len(row), len(col))) # score matrix for global alignment \n",
        "  direction_m = np.empty((len(row), len(col)), dtype = object)\n",
        "  for i in range(len(col)):\n",
        "    score_m[0][i] = i * gap\n",
        "  for j in range(len(row)):\n",
        "    score_m[j][0] = j * gap\n",
        "\n",
        "  for i in range(1, len(row)):\n",
        "    for j in range(1, len(col)):\n",
        "      TOP = score_m[i-1,j] + gap\n",
        "      DIAGONAL = score_m[i-1][j-1] + score.loc[row[i]][col[j]]\n",
        "      LEFT = score_m[i,j-1] + gap\n",
        "      score_m[i][j] = max(TOP, DIAGONAL, LEFT) \n",
        "      # ------ Let the direction for each cell be saved as follows \n",
        "      if score_m[i][j] == TOP:\n",
        "        direction_m[i][j] = 'ins'\n",
        "      elif score_m[i][j] == DIAGONAL:\n",
        "        direction_m[i][j] = 'sub' \n",
        "      else:\n",
        "        direction_m[i][j] = 'del'\n",
        "\n",
        "  score_m = score_m.astype(int)\n",
        "  return score_m, direction_m\n",
        "\n",
        "# Trace back section for global alignment\n",
        "def traceBackGlobal():\n",
        "  score_m, direction_m = globalAlignment(score)\n",
        "  i = len(seq1)\n",
        "  j = len(seq2)\n",
        "  aln1 = ''\n",
        "  aln2 = ''\n",
        "\n",
        "  while(not (i == 0 and j == 0)):\n",
        "    if(direction_m[j][i] == 'sub'):\n",
        "      aln1 = col[i] + aln1\n",
        "      aln2 = row[j] + aln2\n",
        "      i, j = i - 1, j - 1\n",
        "    elif(direction_m[j][i] == 'del'):\n",
        "      aln1 = col[i] + aln1\n",
        "      aln2 = '-' + aln2\n",
        "      i = i - 1\n",
        "    else:\n",
        "      aln1 = '-' + aln1\n",
        "      aln2 = row[j] + aln2\n",
        "      j = j - 1\n",
        "  return aln1, aln2\n",
        "# End of Trace Back for the Global Alignment\n",
        "# --------------------------------------------\n",
        "# ************* End of Global Alignment ************************************\n",
        "\n",
        "def showMatched(x, y): # A function to help proper display of the alignments\n",
        "  between = ''\n",
        "  for i in range(len(x)):\n",
        "    if x[i] == y[i]:\n",
        "      between = between + '|'\n",
        "    elif x[i] == '-' or y[i] == '-':\n",
        "      between = between + ' '\n",
        "    else:\n",
        "      between = between + '.'\n",
        "  return between\n",
        "\n",
        "def displayAlignment(x, y): # A function to display the aligned sequences with their SoP score\n",
        "  print(\"+----- You wanted {} alignment and here is the result -----+\".format(aln))\n",
        "  print(x)\n",
        "  print(showMatched(x, y))\n",
        "  print(y)\n",
        "  print(\"Sum of pairs (SoP) score for the {a} alignment is: {b}\".format(a = aln, b = pairwise(x, y)))\n",
        "# The SoP value verifies the correctness of our alignment\n",
        "                # if it becomes equal to the right bottom value.\n",
        "\n",
        "# ************* Local Alignment ********************************************\n",
        "def localAlignment(score):\n",
        "  score_local = np.zeros((len(row), len(col))).astype(int) # score matrix for local alignment\n",
        "  direction_l = np.zeros((len(row), len(col)), dtype = object) # to trace direction\n",
        "  bestScore = 0\n",
        "  \n",
        "  for i in range(1, len(row)):\n",
        "    for j in range(1, len(col)):\n",
        "      TOP = score_local[i-1,j] + gap\n",
        "      DIAGONAL = score_local[i-1][j-1] + score.loc[row[i]][col[j]]\n",
        "      LEFT = score_local[i,j-1] + gap\n",
        "      score_local[i][j] = max(TOP, DIAGONAL, LEFT, 0)\n",
        "\n",
        "      if score_local[i][j] >= bestScore:\n",
        "        bestScore = score_local[i][j]\n",
        "        \n",
        "      if score_local[i][j] == DIAGONAL:\n",
        "        direction_l[i][j] = 'sub'\n",
        "      elif score_local[i][j] == TOP:\n",
        "        direction_l[i][j] = 'ins' \n",
        "      else:\n",
        "        direction_l[i][j] = 'del'\n",
        "  return score_local, direction_l, bestScore\n",
        "\n",
        "# Trace back all possible optimal local alignment\n",
        "def traceBackLocal():\n",
        "  score_local, direction_l, bestScore = localAlignment(score)\n",
        "\n",
        "  r, c = score_local.shape # row and col lengths to track best score locations\n",
        "  bestLoc = [] # list of best score cells\n",
        "  pairs = [] # list of local pairs\n",
        "  \n",
        "  # Find all locations of the best score from the local alignment score matrix\n",
        "  for i in range(1, r):\n",
        "    for j in range(1, c):\n",
        "      if score_local[i][j] == bestScore:\n",
        "        bestLoc.append((i, j))\n",
        "  \n",
        "  for k in range(len(bestLoc)): # loop over all optimal local alignments\n",
        "    i, j = bestLoc[k]\n",
        "    al1 = ''\n",
        "    al2 = ''\n",
        "    between = ''\n",
        "    while(score_local[i][j]> 0):\n",
        "      if(direction_l[i][j] == 'sub'):\n",
        "        al1 = col[j] + al1\n",
        "        al2 = row[i] + al2\n",
        "        i, j = i - 1, j - 1\n",
        "      elif(direction_l[i][j] == 'del'):\n",
        "        al1 = col[j] + al1\n",
        "        al2 = '-' + al2\n",
        "        j = j - 1\n",
        "      else:\n",
        "        al1 = '-' + al1\n",
        "        al2 = row[i] + al2\n",
        "        i = i - 1\n",
        "    pairs.append((al1, al2))\n",
        "  return pairs\n",
        "\n",
        "alignments = []\n",
        "if aln == 'global':\n",
        "  aln1, aln2 = traceBackGlobal()\n",
        "  displayAlignment(aln1, aln2)\n",
        "  alignments.append(SeqRecord(Seq(aln1), id=\"protien 1\"))\n",
        "  alignments.append(SeqRecord(Seq(aln2), id=\"protien 2\"))\n",
        "elif aln == 'local':\n",
        "  for i in traceBackLocal():\n",
        "    displayAlignment(i[0], i[1])\n",
        "    alignments.append(SeqRecord(Seq(i[0]), id=\"protien 1\"))\n",
        "    alignments.append(SeqRecord(Seq(i[1]), id=\"protien 2\"))\n",
        "else:\n",
        "  print(\"Please selected the alignment type.\")\n",
        "\n",
        "SeqIO.write(alignments, \"result.fasta\", \"fasta\")"
      ],
      "metadata": {
        "id": "TxfYaYuqUvx7"
      },
      "execution_count": null,
      "outputs": []
    }
  ]
}