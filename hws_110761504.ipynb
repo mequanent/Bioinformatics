{
  "nbformat": 4,
  "nbformat_minor": 0,
  "metadata": {
    "colab": {
      "name": "hw1_110761504.ipynb",
      "provenance": [],
      "authorship_tag": "ABX9TyNuGm5nXFPW8OnKLQmZ6GjB",
      "include_colab_link": true
    },
    "kernelspec": {
      "name": "python3",
      "display_name": "Python 3"
    },
    "language_info": {
      "name": "python"
    }
  },
  "cells": [
    {
      "cell_type": "markdown",
      "metadata": {
        "id": "view-in-github",
        "colab_type": "text"
      },
      "source": [
        "<a href=\"https://colab.research.google.com/github/mequanent/Bioinformatics-hw2/blob/main/hws_110761504.ipynb\" target=\"_parent\"><img src=\"https://colab.research.google.com/assets/colab-badge.svg\" alt=\"Open In Colab\"/></a>"
      ]
    },
    {
      "cell_type": "code",
      "source": [
        "# Clone the repository first using the following command\n",
        "!npx degit https://github.com/mequanent/Bioinformatics-hw2 -f"
      ],
      "metadata": {
        "colab": {
          "base_uri": "https://localhost:8080/"
        },
        "id": "Eim-tkyVaZrg",
        "outputId": "176be056-fa30-4a54-8674-3b6d81265347"
      },
      "execution_count": 1,
      "outputs": [
        {
          "output_type": "stream",
          "name": "stdout",
          "text": [
            "\u001b[K\u001b[?25hnpx: installed 1 in 1.962s\n",
            "\u001b[36m> destination directory is not empty. Using --force, continuing\u001b[39m\n",
            "\u001b[36m> cloned \u001b[1mmequanent/Bioinformatics-hw2\u001b[22m#\u001b[1mHEAD\u001b[22m\u001b[39m\n"
          ]
        }
      ]
    },
    {
      "cell_type": "markdown",
      "source": [
        "**Homework 2**"
      ],
      "metadata": {
        "id": "GCOZucxBv9DA"
      }
    },
    {
      "cell_type": "code",
      "source": [
        "#pip install Bio   # Please uncomment for the .py format"
      ],
      "metadata": {
        "id": "Tba1tOZ5vhIb"
      },
      "execution_count": 3,
      "outputs": []
    },
    {
      "cell_type": "code",
      "source": [
        "import numpy as np\n",
        "import pandas as pd\n",
        "np.set_printoptions(suppress=True) # Suppress displaying the scientific notation\n",
        "\n",
        "#To install the Bio library into my IDLE python editor I used the following two steps.\n",
        "#    1. cd C:\\Users\\USER\\AppData\\Local\\Programs\\Python\\Python39\\Scripts\n",
        "#    2. pip install Bio\n",
        "#pip install Bio\n",
        "\n",
        "# Read fasta and parse the seq_names and the sequences\n",
        "# Reference for parsing the fasta is the original biopython library documentation\n",
        "# (https://biopython.org/DIST/docs/tutorial/Tutorial.html#htoc11 section 2.4.1)\n",
        "\n",
        "from Bio import SeqIO\n",
        "seq_name = []\n",
        "sequence = []\n",
        "# Remember to customize as --input from CLI args\n",
        "for seq_record in SeqIO.parse(\"test.fasta\", \"fasta\"):\n",
        "  seq_name.append(seq_record.id)\n",
        "  #sequence.append(repr(seq_record.seq))\n",
        "  sequence.append(seq_record.seq)\n",
        "  #print(len(seq_record))\n",
        "print(sequence[1])\n",
        "print(sequence[2])\n",
        "\n",
        "def preprocess_score(score):\n",
        "  file = open(score, 'r')\n",
        "  lines = file.readlines()#[10:] # The first 10 lines are strings\n",
        "  file.close()\n",
        "  columns = []\n",
        "  mut = []\n",
        "  for line in lines:\n",
        "    if line.startswith(\"#\") or line.startswith(\" \"):\n",
        "      continue\n",
        "    columns.append(line[0]) # Amino acid alphabets stored for row & column indexing\n",
        "    line = line[1:].strip().split() # remove the letters from left and the spaces\n",
        "    mut.append(line)\n",
        "  mut = np.array(mut).astype(int) # change the string numbers into type int\n",
        "  print(mut.shape)\n",
        "  size = len(mut) # save the size of the array for future usages to come below\n",
        "  return pd.DataFrame(mut, index = columns, columns = columns)\n",
        "\n",
        "score = \"pam250.txt\" # score from command line args\n",
        "score = preprocess_score(score) # score made a data frame to access its values with \n",
        "                  # alphabet indices\n",
        "print(score)\n",
        "\n",
        "gop = -10\n",
        "gex = -2\n",
        "# A function to determine pairwise alignment score\n",
        "def pairwise(x, y):\n",
        "  pair_sum = 0\n",
        "  x_prev = '' # x_prev and y_prev are used to store immediate previous alphabets\n",
        "  y_prev = '' # so that extension gaps will be identified\n",
        "  for i in range(len(x)): # Considering that both x and y have the same length\n",
        "    x_prev = x_prev == '-' and x[i] == '-' # status of extension gap in the first paired sequence\n",
        "    y_prev = y_prev == '-' and y[i] == '-' # status of extension gap in second paired sequence\n",
        "    curr = x[i] == '-' or y[i] == '-' # status of open gap in the paired sequence\n",
        "    if x_prev or y_prev: # extension gap value will be taken if holds\n",
        "      pair_sum = pair_sum + gex\n",
        "    elif curr: # open gap value will be taken if holds\n",
        "      pair_sum = pair_sum + gop\n",
        "    else: # score matrix value will be taken otherwise\n",
        "      pair_sum = pair_sum + score.loc[x[i]][y[i]] \n",
        "    x_prev = x[i]\n",
        "    y_prev = y[i]\n",
        "  return pair_sum\n",
        "\n",
        "pairwise(sequence[0], sequence[1])\n",
        "\n",
        "# A function to find the total sum of pairs score.\n",
        "def sumOfPairs(seq):\n",
        "  sop = 0 # to store sum of pairs value\n",
        "  for i in range(len(seq)-1): # i iterates as long as there is j in seq as its next sequence\n",
        "    for j in range(i+1, len(seq)): # j will be the next seq index to be compared with seq[i]\n",
        "      sop = sop + pairwise(seq[i], seq[j])\n",
        "  return sop\n",
        "print(sumOfPairs(sequence))"
      ],
      "metadata": {
        "id": "UlUbMGY6cAcx",
        "outputId": "4afdbede-0bff-4444-aaea-91ec66be5280",
        "colab": {
          "base_uri": "https://localhost:8080/"
        }
      },
      "execution_count": 4,
      "outputs": [
        {
          "output_type": "stream",
          "name": "stdout",
          "text": [
            "KGVIYALWDYEPQNDDELPMKEGDCMTIIHREDEDEIEWWWARLNDKEGYVPRNLLGLYP\n",
            "KGVIYALWDYEPQNDDELPMKEGDCMTIIHREDEDEI--WWARLNDKEGYVPRNLLGLYP\n",
            "(24, 24)\n",
            "   A  R  N  D   C  Q  E  G  H  I  ...  P  S  T   W   Y  V  B  Z  X  *\n",
            "A  2 -2  0  0  -2  0  0  1 -1 -1  ...  1  1  1  -6  -3  0  0  0  0 -8\n",
            "R -2  6  0 -1  -4  1 -1 -3  2 -2  ...  0  0 -1   2  -4 -2 -1  0 -1 -8\n",
            "N  0  0  2  2  -4  1  1  0  2 -2  ...  0  1  0  -4  -2 -2  2  1  0 -8\n",
            "D  0 -1  2  4  -5  2  3  1  1 -2  ... -1  0  0  -7  -4 -2  3  3 -1 -8\n",
            "C -2 -4 -4 -5  12 -5 -5 -3 -3 -2  ... -3  0 -2  -8   0 -2 -4 -5 -3 -8\n",
            "Q  0  1  1  2  -5  4  2 -1  3 -2  ...  0 -1 -1  -5  -4 -2  1  3 -1 -8\n",
            "E  0 -1  1  3  -5  2  4  0  1 -2  ... -1  0  0  -7  -4 -2  3  3 -1 -8\n",
            "G  1 -3  0  1  -3 -1  0  5 -2 -3  ...  0  1  0  -7  -5 -1  0  0 -1 -8\n",
            "H -1  2  2  1  -3  3  1 -2  6 -2  ...  0 -1 -1  -3   0 -2  1  2 -1 -8\n",
            "I -1 -2 -2 -2  -2 -2 -2 -3 -2  5  ... -2 -1  0  -5  -1  4 -2 -2 -1 -8\n",
            "L -2 -3 -3 -4  -6 -2 -3 -4 -2  2  ... -3 -3 -2  -2  -1  2 -3 -3 -1 -8\n",
            "K -1  3  1  0  -5  1  0 -2  0 -2  ... -1  0  0  -3  -4 -2  1  0 -1 -8\n",
            "M -1  0 -2 -3  -5 -1 -2 -3 -2  2  ... -2 -2 -1  -4  -2  2 -2 -2 -1 -8\n",
            "F -3 -4 -3 -6  -4 -5 -5 -5 -2  1  ... -5 -3 -3   0   7 -1 -4 -5 -2 -8\n",
            "P  1  0  0 -1  -3  0 -1  0  0 -2  ...  6  1  0  -6  -5 -1 -1  0 -1 -8\n",
            "S  1  0  1  0   0 -1  0  1 -1 -1  ...  1  2  1  -2  -3 -1  0  0  0 -8\n",
            "T  1 -1  0  0  -2 -1  0  0 -1  0  ...  0  1  3  -5  -3  0  0 -1  0 -8\n",
            "W -6  2 -4 -7  -8 -5 -7 -7 -3 -5  ... -6 -2 -5  17   0 -6 -5 -6 -4 -8\n",
            "Y -3 -4 -2 -4   0 -4 -4 -5  0 -1  ... -5 -3 -3   0  10 -2 -3 -4 -2 -8\n",
            "V  0 -2 -2 -2  -2 -2 -2 -1 -2  4  ... -1 -1  0  -6  -2  4 -2 -2 -1 -8\n",
            "B  0 -1  2  3  -4  1  3  0  1 -2  ... -1  0  0  -5  -3 -2  3  2 -1 -8\n",
            "Z  0  0  1  3  -5  3  3  0  2 -2  ...  0  0 -1  -6  -4 -2  2  3 -1 -8\n",
            "X  0 -1  0 -1  -3 -1 -1 -1 -1 -1  ... -1  0  0  -4  -2 -1 -1 -1 -1 -8\n",
            "* -8 -8 -8 -8  -8 -8 -8 -8 -8 -8  ... -8 -8 -8  -8  -8 -8 -8 -8 -8  1\n",
            "\n",
            "[24 rows x 24 columns]\n",
            "1047\n"
          ]
        }
      ]
    },
    {
      "cell_type": "markdown",
      "source": [
        "**Homework 3**"
      ],
      "metadata": {
        "id": "whhnJvDTvyh4"
      }
    },
    {
      "cell_type": "code",
      "source": [
        "import numpy as np\n",
        "import pandas as pd\n",
        "\n",
        "from Bio import SeqIO\n",
        "seq_name = []\n",
        "sequence = []\n",
        "# Remember to customize as --input from CLI args\n",
        "for seq_record in SeqIO.parse(\"test3.fasta\", \"fasta\"):\n",
        "  seq_name.append(seq_record.id)\n",
        "  sequence.append(seq_record.seq)\n",
        "print(\"----- Given Sequences ---------\")\n",
        "print(sequence[0], len(sequence[0]))\n",
        "print(sequence[1], len(sequence[1]))\n",
        "\n",
        "gap = -10\n",
        "score = \"pam250.txt\" # score from command line args\n",
        "\n",
        "def preprocess_score(score):\n",
        "  file = open(score, 'r')\n",
        "  lines = file.readlines()\n",
        "  file.close()\n",
        "  columns = []\n",
        "  mut = []\n",
        "  for line in lines:\n",
        "    if line.startswith(\"#\") or line.startswith(\" \"):\n",
        "      continue\n",
        "    columns.append(line[0]) # Amino acid alphabets stored for row & column indexing\n",
        "    line = line[1:].strip().split() # remove the letters from left and the spaces\n",
        "    mut.append(line)\n",
        "  mut = np.array(mut).astype(int) # change the string numbers into type int\n",
        "  return pd.DataFrame(mut, index = columns, columns = columns)\n",
        "\n",
        "score = preprocess_score(score) # score made a data frame to access its values with \n",
        "                  # alphabet indices\n",
        "#print(\"----- PAM Score Matrix ---------\")\n",
        "#print(score)"
      ],
      "metadata": {
        "id": "e_YVQGnpvxOa",
        "outputId": "7f2fc6a7-2531-4f23-a52e-f5506e9dbd52",
        "colab": {
          "base_uri": "https://localhost:8080/"
        }
      },
      "execution_count": 5,
      "outputs": [
        {
          "output_type": "stream",
          "name": "stdout",
          "text": [
            "----- Given Sequences ---------\n",
            "NLFVALYDFVASGDNTLSITKGEKLRVLGYNHNGEWCEAQTKNGQGWVPSNYITPVN 57\n",
            "KGVIYALWDYEPQNDDELPMKEGDCMTIIHREDEDEIEWWWARLNDKEGYVPRNLLGLYP 60\n",
            "----- PAM Score Matrix ---------\n"
          ]
        }
      ]
    },
    {
      "cell_type": "code",
      "source": [
        "seq1 = sequence[0]\n",
        "seq2 = sequence[1]\n",
        "\n",
        "TOP = gap\n",
        "DIAGONAL = 0\n",
        "LEFT = gap\n",
        "col = '-' + seq1 # This if for simplicity to avoid repeated use of (len(seq1) + 1)\n",
        "row = '-' + seq2 # For the same reason"
      ],
      "metadata": {
        "id": "sc0XdEO5I3dA"
      },
      "execution_count": 26,
      "outputs": []
    },
    {
      "cell_type": "code",
      "source": [
        "# Find score_m\n",
        "score_m = np.zeros((len(row), len(col)))\n",
        "direction_m = np.empty((len(row), len(col)), dtype = object)\n",
        "for i in range(len(col)):\n",
        "  score_m[0][i] = i * gap\n",
        "for j in range(len(row)):\n",
        "  score_m[j][0] = j * gap\n",
        "\n",
        "for i in range(1, len(row)):\n",
        "  for j in range(1, len(col)):\n",
        "    TOP = score_m[i-1,j] + gap\n",
        "    DIAGONAL = score_m[i-1][j-1] + score.loc[row[i]][col[j]]\n",
        "    LEFT = score_m[i,j-1] + gap\n",
        "    score_m[i][j] = max(TOP, DIAGONAL, LEFT) \n",
        "    # ------ Let the direction for each cell be saved as follows \n",
        "    if score_m[i][j] == TOP:\n",
        "      direction_m[i][j] = 'ins'\n",
        "    elif score_m[i][j] == DIAGONAL:\n",
        "      direction_m[i][j] = 'sub' \n",
        "    else:\n",
        "      direction_m[i][j] = 'del'\n",
        "\n",
        "score_m = score_m.astype(int)\n",
        "F = pd.DataFrame(score_m, index = row, columns = col)\n",
        "# End of filling the scoring matrix and tracking the direction"
      ],
      "metadata": {
        "id": "TLZFq7i3Hzx-"
      },
      "execution_count": 27,
      "outputs": []
    },
    {
      "cell_type": "code",
      "source": [
        "# Trace back section for global alignment\n",
        "i = len(seq1)\n",
        "j = len(seq2)\n",
        "aln1 = ''\n",
        "aln2 = ''\n",
        "\n",
        "while(not (i == 0 and j == 0)):\n",
        "  if(direction_m[j][i] == 'sub'):\n",
        "    aln1 = col[i] + aln1\n",
        "    aln2 = row[j] + aln2\n",
        "    i = i - 1\n",
        "    j = j - 1\n",
        "  elif(direction_m[j][i] == 'del'):\n",
        "    aln1 = col[i] + aln1\n",
        "    aln2 = '-' + aln2\n",
        "    i = i - 1\n",
        "  else:\n",
        "    aln1 = '-' + aln1\n",
        "    aln2 = row[j] + aln2\n",
        "    j = j - 1\n",
        "# End of Trace Back for the Global Alignment\n",
        "# --------------------------------------------\n",
        "# Displaying Section for the Global alignment\n",
        "print(\"+------- Given sequences ------------+\")\n",
        "print(seq1)\n",
        "print(seq2)\n",
        "print(\"+------- Global Alignment -----------+\")\n",
        "print(aln1)\n",
        "print(aln2)\n",
        "print(\"Sum of pairs (SoP) score of the alignment: \", pairwise(aln1, aln2)) \n",
        "# The SoP value verifies the correctness of our alignment\n",
        "                            # if it becomes equal to the right bottom value."
      ],
      "metadata": {
        "id": "OHnh-tyecNN7"
      },
      "execution_count": 28,
      "outputs": []
    },
    {
      "cell_type": "markdown",
      "source": [
        "**Local Alignment**"
      ],
      "metadata": {
        "id": "V59YILM5EoxQ"
      }
    },
    {
      "cell_type": "code",
      "source": [
        "score_local = np.zeros((len(seq2) + 1, len(seq1) + 1))\n",
        "\n",
        "TOP = gap\n",
        "DIAGONAL = 0\n",
        "LEFT = gap\n",
        "col = '-' + seq1\n",
        "row = '-' + seq2\n",
        "\n"
      ],
      "metadata": {
        "id": "LfGW6jI-EaUf",
        "colab": {
          "base_uri": "https://localhost:8080/"
        },
        "outputId": "9221c77f-66c3-4ab7-b30b-64095d0e6805"
      },
      "execution_count": 16,
      "outputs": [
        {
          "output_type": "execute_result",
          "data": {
            "text/plain": [
              "array([[   0.,  -10.,  -20., ..., -550., -560., -570.],\n",
              "       [ -10.,    0.,    0., ...,    0.,    0.,    0.],\n",
              "       [ -20.,    0.,    0., ...,    0.,    0.,    0.],\n",
              "       ...,\n",
              "       [-580.,    0.,    0., ...,    0.,    0.,    0.],\n",
              "       [-590.,    0.,    0., ...,    0.,    0.,    0.],\n",
              "       [-600.,    0.,    0., ...,    0.,    0.,    0.]])"
            ]
          },
          "metadata": {},
          "execution_count": 16
        }
      ]
    },
    {
      "cell_type": "code",
      "source": [
        ""
      ],
      "metadata": {
        "id": "e-G5P65DFDU_"
      },
      "execution_count": null,
      "outputs": []
    }
  ]
}