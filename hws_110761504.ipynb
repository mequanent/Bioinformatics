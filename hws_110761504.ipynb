{
  "nbformat": 4,
  "nbformat_minor": 0,
  "metadata": {
    "colab": {
      "name": "hw1_110761504.ipynb",
      "provenance": [],
      "authorship_tag": "ABX9TyMlMTxyNhuRsmOjydsQIdQO",
      "include_colab_link": true
    },
    "kernelspec": {
      "name": "python3",
      "display_name": "Python 3"
    },
    "language_info": {
      "name": "python"
    }
  },
  "cells": [
    {
      "cell_type": "markdown",
      "metadata": {
        "id": "view-in-github",
        "colab_type": "text"
      },
      "source": [
        "<a href=\"https://colab.research.google.com/github/mequanent/Bioinformatics-hw2/blob/main/hws_110761504.ipynb\" target=\"_parent\"><img src=\"https://colab.research.google.com/assets/colab-badge.svg\" alt=\"Open In Colab\"/></a>"
      ]
    },
    {
      "cell_type": "code",
      "source": [
        "# Clone the repository first using the following command\n",
        "!npx degit https://github.com/mequanent/Bioinformatics-hw2 -f"
      ],
      "metadata": {
        "colab": {
          "base_uri": "https://localhost:8080/"
        },
        "id": "Eim-tkyVaZrg",
        "outputId": "a00a89b9-84f8-452b-c4f0-24f71bc1044e"
      },
      "execution_count": 2,
      "outputs": [
        {
          "output_type": "stream",
          "name": "stdout",
          "text": [
            "\u001b[K\u001b[?25hnpx: installed 1 in 2.286s\n",
            "\u001b[36m> destination directory is not empty. Using --force, continuing\u001b[39m\n",
            "\u001b[36m> cloned \u001b[1mmequanent/Bioinformatics-hw2\u001b[22m#\u001b[1mHEAD\u001b[22m\u001b[39m\n"
          ]
        }
      ]
    },
    {
      "cell_type": "markdown",
      "source": [
        "**Homework 2**"
      ],
      "metadata": {
        "id": "GCOZucxBv9DA"
      }
    },
    {
      "cell_type": "code",
      "source": [
        "#pip install Bio   # Please uncomment for the .py format"
      ],
      "metadata": {
        "id": "Tba1tOZ5vhIb"
      },
      "execution_count": 4,
      "outputs": []
    },
    {
      "cell_type": "code",
      "source": [
        "import numpy as np\n",
        "import pandas as pd\n",
        "np.set_printoptions(suppress=True) # Suppress displaying the scientific notation\n",
        "\n",
        "#To install the Bio library into my IDLE python editor I used the following two steps.\n",
        "#    1. cd C:\\Users\\USER\\AppData\\Local\\Programs\\Python\\Python39\\Scripts\n",
        "#    2. pip install Bio\n",
        "#pip install Bio\n",
        "\n",
        "# Read fasta and parse the seq_names and the sequences\n",
        "# Reference for parsing the fasta is the original biopython library documentation\n",
        "# (https://biopython.org/DIST/docs/tutorial/Tutorial.html#htoc11 section 2.4.1)\n",
        "\n",
        "from Bio import SeqIO\n",
        "seq_name = []\n",
        "sequence = []\n",
        "# Remember to customize as --input from CLI args\n",
        "for seq_record in SeqIO.parse(\"test.fasta\", \"fasta\"):\n",
        "  seq_name.append(seq_record.id)\n",
        "  #sequence.append(repr(seq_record.seq))\n",
        "  sequence.append(seq_record.seq)\n",
        "  #print(len(seq_record))\n",
        "print(sequence[1])\n",
        "print(sequence[2])\n",
        "\n",
        "def preprocess_score(score):\n",
        "  file = open(score, 'r')\n",
        "  lines = file.readlines()#[10:] # The first 10 lines are strings\n",
        "  file.close()\n",
        "  columns = []\n",
        "  mut = []\n",
        "  for line in lines:\n",
        "    if line.startswith(\"#\") or line.startswith(\" \"):\n",
        "      continue\n",
        "    columns.append(line[0]) # Amino acid alphabets stored for row & column indexing\n",
        "    line = line[1:].strip().split() # remove the letters from left and the spaces\n",
        "    mut.append(line)\n",
        "  mut = np.array(mut).astype(int) # change the string numbers into type int\n",
        "  print(mut.shape)\n",
        "  size = len(mut) # save the size of the array for future usages to come below\n",
        "  return pd.DataFrame(mut, index = columns, columns = columns)\n",
        "\n",
        "score = \"pam250.txt\" # score from command line args\n",
        "score = preprocess_score(score) # score made a data frame to access its values with \n",
        "                  # alphabet indices\n",
        "print(score)\n",
        "\n",
        "gop = -10\n",
        "gex = -2\n",
        "# A function to determine pairwise alignment score\n",
        "def pairwise(x, y):\n",
        "  pair_sum = 0\n",
        "  x_prev = '' # x_prev and y_prev are used to store immediate previous alphabets\n",
        "  y_prev = '' # so that extension gaps will be identified\n",
        "  for i in range(len(x)): # Considering that both x and y have the same length\n",
        "    x_prev = x_prev == '-' and x[i] == '-' # status of extension gap in the first paired sequence\n",
        "    y_prev = y_prev == '-' and y[i] == '-' # status of extension gap in second paired sequence\n",
        "    curr = x[i] == '-' or y[i] == '-' # status of open gap in the paired sequence\n",
        "    if x_prev or y_prev: # extension gap value will be taken if holds\n",
        "      pair_sum = pair_sum + gex\n",
        "    elif curr: # open gap value will be taken if holds\n",
        "      pair_sum = pair_sum + gop\n",
        "    else: # score matrix value will be taken otherwise\n",
        "      pair_sum = pair_sum + score.loc[x[i]][y[i]] \n",
        "    x_prev = x[i]\n",
        "    y_prev = y[i]\n",
        "  return pair_sum\n",
        "\n",
        "pairwise(sequence[0], sequence[1])\n",
        "\n",
        "# A function to find the total sum of pairs score.\n",
        "def sumOfPairs(seq):\n",
        "  sop = 0 # to store sum of pairs value\n",
        "  for i in range(len(seq)-1): # i iterates as long as there is j in seq as its next sequence\n",
        "    for j in range(i+1, len(seq)): # j will be the next seq index to be compared with seq[i]\n",
        "      sop = sop + pairwise(seq[i], seq[j])\n",
        "  return sop\n",
        "print(sumOfPairs(sequence))"
      ],
      "metadata": {
        "id": "UlUbMGY6cAcx",
        "outputId": "8cd6f627-08e1-4780-90b1-0deed7a2c48a",
        "colab": {
          "base_uri": "https://localhost:8080/"
        }
      },
      "execution_count": 6,
      "outputs": [
        {
          "output_type": "stream",
          "name": "stdout",
          "text": [
            "KGVIYALWDYEPQNDDELPMKEGDCMTIIHREDEDEIEWWWARLNDKEGYVPRNLLGLYP\n",
            "KGVIYALWDYEPQNDDELPMKEGDCMTIIHREDEDEI--WWARLNDKEGYVPRNLLGLYP\n",
            "(24, 24)\n",
            "   A  R  N  D   C  Q  E  G  H  I  ...  P  S  T   W   Y  V  B  Z  X  *\n",
            "A  2 -2  0  0  -2  0  0  1 -1 -1  ...  1  1  1  -6  -3  0  0  0  0 -8\n",
            "R -2  6  0 -1  -4  1 -1 -3  2 -2  ...  0  0 -1   2  -4 -2 -1  0 -1 -8\n",
            "N  0  0  2  2  -4  1  1  0  2 -2  ...  0  1  0  -4  -2 -2  2  1  0 -8\n",
            "D  0 -1  2  4  -5  2  3  1  1 -2  ... -1  0  0  -7  -4 -2  3  3 -1 -8\n",
            "C -2 -4 -4 -5  12 -5 -5 -3 -3 -2  ... -3  0 -2  -8   0 -2 -4 -5 -3 -8\n",
            "Q  0  1  1  2  -5  4  2 -1  3 -2  ...  0 -1 -1  -5  -4 -2  1  3 -1 -8\n",
            "E  0 -1  1  3  -5  2  4  0  1 -2  ... -1  0  0  -7  -4 -2  3  3 -1 -8\n",
            "G  1 -3  0  1  -3 -1  0  5 -2 -3  ...  0  1  0  -7  -5 -1  0  0 -1 -8\n",
            "H -1  2  2  1  -3  3  1 -2  6 -2  ...  0 -1 -1  -3   0 -2  1  2 -1 -8\n",
            "I -1 -2 -2 -2  -2 -2 -2 -3 -2  5  ... -2 -1  0  -5  -1  4 -2 -2 -1 -8\n",
            "L -2 -3 -3 -4  -6 -2 -3 -4 -2  2  ... -3 -3 -2  -2  -1  2 -3 -3 -1 -8\n",
            "K -1  3  1  0  -5  1  0 -2  0 -2  ... -1  0  0  -3  -4 -2  1  0 -1 -8\n",
            "M -1  0 -2 -3  -5 -1 -2 -3 -2  2  ... -2 -2 -1  -4  -2  2 -2 -2 -1 -8\n",
            "F -3 -4 -3 -6  -4 -5 -5 -5 -2  1  ... -5 -3 -3   0   7 -1 -4 -5 -2 -8\n",
            "P  1  0  0 -1  -3  0 -1  0  0 -2  ...  6  1  0  -6  -5 -1 -1  0 -1 -8\n",
            "S  1  0  1  0   0 -1  0  1 -1 -1  ...  1  2  1  -2  -3 -1  0  0  0 -8\n",
            "T  1 -1  0  0  -2 -1  0  0 -1  0  ...  0  1  3  -5  -3  0  0 -1  0 -8\n",
            "W -6  2 -4 -7  -8 -5 -7 -7 -3 -5  ... -6 -2 -5  17   0 -6 -5 -6 -4 -8\n",
            "Y -3 -4 -2 -4   0 -4 -4 -5  0 -1  ... -5 -3 -3   0  10 -2 -3 -4 -2 -8\n",
            "V  0 -2 -2 -2  -2 -2 -2 -1 -2  4  ... -1 -1  0  -6  -2  4 -2 -2 -1 -8\n",
            "B  0 -1  2  3  -4  1  3  0  1 -2  ... -1  0  0  -5  -3 -2  3  2 -1 -8\n",
            "Z  0  0  1  3  -5  3  3  0  2 -2  ...  0  0 -1  -6  -4 -2  2  3 -1 -8\n",
            "X  0 -1  0 -1  -3 -1 -1 -1 -1 -1  ... -1  0  0  -4  -2 -1 -1 -1 -1 -8\n",
            "* -8 -8 -8 -8  -8 -8 -8 -8 -8 -8  ... -8 -8 -8  -8  -8 -8 -8 -8 -8  1\n",
            "\n",
            "[24 rows x 24 columns]\n",
            "1047\n"
          ]
        }
      ]
    },
    {
      "cell_type": "markdown",
      "source": [
        "**Homework 3**"
      ],
      "metadata": {
        "id": "whhnJvDTvyh4"
      }
    },
    {
      "cell_type": "code",
      "source": [
        "import numpy as np\n",
        "import pandas as pd\n",
        "\n",
        "from Bio import SeqIO\n",
        "seq_name = []\n",
        "sequence = []\n",
        "# Remember to customize as --input from CLI args\n",
        "for seq_record in SeqIO.parse(\"test3.fasta\", \"fasta\"):\n",
        "  seq_name.append(seq_record.id)\n",
        "  sequence.append(seq_record.seq)\n",
        "print(\"----- Given Sequences ---------\")\n",
        "print(sequence[0], len(sequence[0]))\n",
        "print(sequence[1], len(sequence[1]))\n",
        "\n",
        "def preprocess_score(score):\n",
        "  file = open(score, 'r')\n",
        "  lines = file.readlines()#[10:] # The first 10 lines are strings\n",
        "  file.close()\n",
        "  columns = []\n",
        "  mut = []\n",
        "  for line in lines:\n",
        "    if line.startswith(\"#\") or line.startswith(\" \"):\n",
        "      continue\n",
        "    columns.append(line[0]) # Amino acid alphabets stored for row & column indexing\n",
        "    line = line[1:].strip().split() # remove the letters from left and the spaces\n",
        "    mut.append(line)\n",
        "  mut = np.array(mut).astype(int) # change the string numbers into type int\n",
        "  return pd.DataFrame(mut, index = columns, columns = columns)\n",
        "\n",
        "score = \"pam250.txt\" # score from command line args\n",
        "score = preprocess_score(score) # score made a data frame to access its values with \n",
        "                  # alphabet indices\n",
        "print(\"----- PAM Score Matrix ---------\")\n",
        "#print(score)"
      ],
      "metadata": {
        "id": "e_YVQGnpvxOa",
        "outputId": "17c74360-3e7c-4648-9726-fe7d21fa44e8",
        "colab": {
          "base_uri": "https://localhost:8080/"
        }
      },
      "execution_count": 5,
      "outputs": [
        {
          "output_type": "stream",
          "name": "stdout",
          "text": [
            "----- Given Sequences ---------\n",
            "NLFVALYDFVASGDNTLSITKGEKLRVLGYNHNGEWCEAQTKNGQGWVPSNYITPVN 57\n",
            "KGVIYALWDYEPQNDDELPMKEGDCMTIIHREDEDEIEWWWARLNDKEGYVPRNLLGLYP 60\n",
            "----- PAM Score Matrix ---------\n"
          ]
        }
      ]
    },
    {
      "cell_type": "code",
      "source": [
        "seq1 = sequence[0]\n",
        "seq2 = sequence[1]\n",
        "gap = -10\n",
        "# Find score_m\n",
        "score_m = np.zeros((len(seq2) + 1, len(seq1) + 1))\n",
        "for i in range(len(seq1) + 1):\n",
        "  score_m[0][i] = i * gap\n",
        "for j in range(len(seq2) + 1):\n",
        "  score_m[j][0] = j * gap#score.loc[seq1[i]][seq2[j]]\n",
        "score_m"
      ],
      "metadata": {
        "id": "sc0XdEO5I3dA",
        "outputId": "a33c93b8-248f-4245-b8e2-7a21766554cb",
        "colab": {
          "base_uri": "https://localhost:8080/"
        }
      },
      "execution_count": 6,
      "outputs": [
        {
          "output_type": "execute_result",
          "data": {
            "text/plain": [
              "array([[   0.,  -10.,  -20., ..., -550., -560., -570.],\n",
              "       [ -10.,    0.,    0., ...,    0.,    0.,    0.],\n",
              "       [ -20.,    0.,    0., ...,    0.,    0.,    0.],\n",
              "       ...,\n",
              "       [-580.,    0.,    0., ...,    0.,    0.,    0.],\n",
              "       [-590.,    0.,    0., ...,    0.,    0.,    0.],\n",
              "       [-600.,    0.,    0., ...,    0.,    0.,    0.]])"
            ]
          },
          "metadata": {},
          "execution_count": 6
        }
      ]
    },
    {
      "cell_type": "code",
      "source": [
        "TOP = gap\n",
        "DIAGONAL = 0\n",
        "LEFT = gap\n",
        "col = '-' + seq1\n",
        "row = '-' + seq2\n"
      ],
      "metadata": {
        "id": "zDpZxdHZg1AW"
      },
      "execution_count": 7,
      "outputs": []
    },
    {
      "cell_type": "code",
      "source": [
        "print(col)\n",
        "print(row)"
      ],
      "metadata": {
        "colab": {
          "base_uri": "https://localhost:8080/"
        },
        "id": "XADV67lGBQhK",
        "outputId": "0eb4a7a3-81a5-4aa7-aa03-5614ade920fa"
      },
      "execution_count": 34,
      "outputs": [
        {
          "output_type": "stream",
          "name": "stdout",
          "text": [
            "-NLFVALYDFVASGDNTLSITKGEKLRVLGYNHNGEWCEAQTKNGQGWVPSNYITPVN\n",
            "-KGVIYALWDYEPQNDDELPMKEGDCMTIIHREDEDEIEWWWARLNDKEGYVPRNLLGLYP\n"
          ]
        }
      ]
    },
    {
      "cell_type": "code",
      "source": [
        "score.loc['K']['N']"
      ],
      "metadata": {
        "colab": {
          "base_uri": "https://localhost:8080/"
        },
        "id": "qe106E75--Nq",
        "outputId": "97a401ab-cd76-4cfb-c08a-1277486f2995"
      },
      "execution_count": 37,
      "outputs": [
        {
          "output_type": "execute_result",
          "data": {
            "text/plain": [
              "1"
            ]
          },
          "metadata": {},
          "execution_count": 37
        }
      ]
    },
    {
      "cell_type": "code",
      "source": [
        "direction_m = np.empty((len(row), len(col)), dtype = object)\n",
        "\n",
        "for i in range(1, len(row)):\n",
        "  for j in range(1, len(col)):\n",
        "    TOP = score_m[i,j-1] + gap\n",
        "    DIAGONAL = score_m[i-1][j-1] + score.loc[row[i]][col[j]]\n",
        "    LEFT = score_m[i-1,j] + gap\n",
        "    score_m[i][j] = max(TOP, DIAGONAL, LEFT) \n",
        "\n",
        "    if score_m[i][j] == TOP:\n",
        "      direction_m[i][j] = 'ins'\n",
        "    elif score_m[i][j] == DIAGONAL:\n",
        "      direction_m[i][j] = 'sub'\n",
        "    else:\n",
        "      direction_m[i][j] = 'del'\n",
        "\n",
        "score_m = score_m.astype(int)"
      ],
      "metadata": {
        "id": "aUlneMyU61QK"
      },
      "execution_count": 12,
      "outputs": []
    },
    {
      "cell_type": "code",
      "source": [
        "F = pd.DataFrame(score_m, index = row, columns = col)\n",
        "F"
      ],
      "metadata": {
        "colab": {
          "base_uri": "https://localhost:8080/",
          "height": 468
        },
        "id": "WYpEot9BD3GH",
        "outputId": "46d21f9a-1984-4897-d379-9380fc66d099"
      },
      "execution_count": 13,
      "outputs": [
        {
          "output_type": "execute_result",
          "data": {
            "text/plain": [
              "      -    N    L    F    V    A    L    Y    D    F  ...    V    P    S    N  \\\n",
              "-     0  -10  -20  -30  -40  -50  -60  -70  -80  -90  ... -480 -490 -500 -510   \n",
              "K   -10    1   -9  -19  -29  -39  -49  -59  -69  -79  ... -465 -475 -485 -495   \n",
              "G   -20   -9   -3  -13  -20  -28  -38  -48  -58  -68  ... -450 -460 -470 -480   \n",
              "V   -30  -19   -7   -4   -9  -19  -26  -36  -46  -56  ... -436 -446 -456 -466   \n",
              "I   -40  -29  -17   -6    0  -10  -17  -27  -37  -45  ... -422 -432 -442 -452   \n",
              "..  ...  ...  ...  ...  ...  ...  ...  ...  ...  ...  ...  ...  ...  ...  ...   \n",
              "L  -560 -548 -532 -515 -501 -490 -474 -454 -442 -430  ...   -5    2   11   22   \n",
              "G  -570 -558 -542 -525 -511 -500 -484 -464 -452 -440  ...  -15   -5    3   12   \n",
              "L  -580 -568 -552 -535 -521 -510 -494 -474 -462 -450  ...  -25  -15   -7    2   \n",
              "Y  -590 -578 -562 -545 -531 -520 -504 -484 -472 -455  ...  -35  -25  -17   -8   \n",
              "P  -600 -588 -572 -555 -541 -530 -514 -494 -482 -465  ...  -42  -29  -24  -17   \n",
              "\n",
              "      Y    I    T    P    V    N  \n",
              "-  -520 -530 -540 -550 -560 -570  \n",
              "K  -505 -515 -525 -535 -545 -555  \n",
              "G  -490 -500 -510 -520 -530 -540  \n",
              "V  -476 -486 -496 -506 -516 -526  \n",
              "I  -462 -471 -481 -491 -501 -511  \n",
              "..  ...  ...  ...  ...  ...  ...  \n",
              "L    31   43   33   23   16    6  \n",
              "G    21   33   43   33   23   16  \n",
              "L    11   23   33   40   35   25  \n",
              "Y    12   13   23   30   38   33  \n",
              "P     2   10   13   29   29   38  \n",
              "\n",
              "[61 rows x 58 columns]"
            ],
            "text/html": [
              "\n",
              "  <div id=\"df-83b45901-a223-4d5e-ab62-b4a1dcbe121d\">\n",
              "    <div class=\"colab-df-container\">\n",
              "      <div>\n",
              "<style scoped>\n",
              "    .dataframe tbody tr th:only-of-type {\n",
              "        vertical-align: middle;\n",
              "    }\n",
              "\n",
              "    .dataframe tbody tr th {\n",
              "        vertical-align: top;\n",
              "    }\n",
              "\n",
              "    .dataframe thead th {\n",
              "        text-align: right;\n",
              "    }\n",
              "</style>\n",
              "<table border=\"1\" class=\"dataframe\">\n",
              "  <thead>\n",
              "    <tr style=\"text-align: right;\">\n",
              "      <th></th>\n",
              "      <th>-</th>\n",
              "      <th>N</th>\n",
              "      <th>L</th>\n",
              "      <th>F</th>\n",
              "      <th>V</th>\n",
              "      <th>A</th>\n",
              "      <th>L</th>\n",
              "      <th>Y</th>\n",
              "      <th>D</th>\n",
              "      <th>F</th>\n",
              "      <th>...</th>\n",
              "      <th>V</th>\n",
              "      <th>P</th>\n",
              "      <th>S</th>\n",
              "      <th>N</th>\n",
              "      <th>Y</th>\n",
              "      <th>I</th>\n",
              "      <th>T</th>\n",
              "      <th>P</th>\n",
              "      <th>V</th>\n",
              "      <th>N</th>\n",
              "    </tr>\n",
              "  </thead>\n",
              "  <tbody>\n",
              "    <tr>\n",
              "      <th>-</th>\n",
              "      <td>0</td>\n",
              "      <td>-10</td>\n",
              "      <td>-20</td>\n",
              "      <td>-30</td>\n",
              "      <td>-40</td>\n",
              "      <td>-50</td>\n",
              "      <td>-60</td>\n",
              "      <td>-70</td>\n",
              "      <td>-80</td>\n",
              "      <td>-90</td>\n",
              "      <td>...</td>\n",
              "      <td>-480</td>\n",
              "      <td>-490</td>\n",
              "      <td>-500</td>\n",
              "      <td>-510</td>\n",
              "      <td>-520</td>\n",
              "      <td>-530</td>\n",
              "      <td>-540</td>\n",
              "      <td>-550</td>\n",
              "      <td>-560</td>\n",
              "      <td>-570</td>\n",
              "    </tr>\n",
              "    <tr>\n",
              "      <th>K</th>\n",
              "      <td>-10</td>\n",
              "      <td>1</td>\n",
              "      <td>-9</td>\n",
              "      <td>-19</td>\n",
              "      <td>-29</td>\n",
              "      <td>-39</td>\n",
              "      <td>-49</td>\n",
              "      <td>-59</td>\n",
              "      <td>-69</td>\n",
              "      <td>-79</td>\n",
              "      <td>...</td>\n",
              "      <td>-465</td>\n",
              "      <td>-475</td>\n",
              "      <td>-485</td>\n",
              "      <td>-495</td>\n",
              "      <td>-505</td>\n",
              "      <td>-515</td>\n",
              "      <td>-525</td>\n",
              "      <td>-535</td>\n",
              "      <td>-545</td>\n",
              "      <td>-555</td>\n",
              "    </tr>\n",
              "    <tr>\n",
              "      <th>G</th>\n",
              "      <td>-20</td>\n",
              "      <td>-9</td>\n",
              "      <td>-3</td>\n",
              "      <td>-13</td>\n",
              "      <td>-20</td>\n",
              "      <td>-28</td>\n",
              "      <td>-38</td>\n",
              "      <td>-48</td>\n",
              "      <td>-58</td>\n",
              "      <td>-68</td>\n",
              "      <td>...</td>\n",
              "      <td>-450</td>\n",
              "      <td>-460</td>\n",
              "      <td>-470</td>\n",
              "      <td>-480</td>\n",
              "      <td>-490</td>\n",
              "      <td>-500</td>\n",
              "      <td>-510</td>\n",
              "      <td>-520</td>\n",
              "      <td>-530</td>\n",
              "      <td>-540</td>\n",
              "    </tr>\n",
              "    <tr>\n",
              "      <th>V</th>\n",
              "      <td>-30</td>\n",
              "      <td>-19</td>\n",
              "      <td>-7</td>\n",
              "      <td>-4</td>\n",
              "      <td>-9</td>\n",
              "      <td>-19</td>\n",
              "      <td>-26</td>\n",
              "      <td>-36</td>\n",
              "      <td>-46</td>\n",
              "      <td>-56</td>\n",
              "      <td>...</td>\n",
              "      <td>-436</td>\n",
              "      <td>-446</td>\n",
              "      <td>-456</td>\n",
              "      <td>-466</td>\n",
              "      <td>-476</td>\n",
              "      <td>-486</td>\n",
              "      <td>-496</td>\n",
              "      <td>-506</td>\n",
              "      <td>-516</td>\n",
              "      <td>-526</td>\n",
              "    </tr>\n",
              "    <tr>\n",
              "      <th>I</th>\n",
              "      <td>-40</td>\n",
              "      <td>-29</td>\n",
              "      <td>-17</td>\n",
              "      <td>-6</td>\n",
              "      <td>0</td>\n",
              "      <td>-10</td>\n",
              "      <td>-17</td>\n",
              "      <td>-27</td>\n",
              "      <td>-37</td>\n",
              "      <td>-45</td>\n",
              "      <td>...</td>\n",
              "      <td>-422</td>\n",
              "      <td>-432</td>\n",
              "      <td>-442</td>\n",
              "      <td>-452</td>\n",
              "      <td>-462</td>\n",
              "      <td>-471</td>\n",
              "      <td>-481</td>\n",
              "      <td>-491</td>\n",
              "      <td>-501</td>\n",
              "      <td>-511</td>\n",
              "    </tr>\n",
              "    <tr>\n",
              "      <th>...</th>\n",
              "      <td>...</td>\n",
              "      <td>...</td>\n",
              "      <td>...</td>\n",
              "      <td>...</td>\n",
              "      <td>...</td>\n",
              "      <td>...</td>\n",
              "      <td>...</td>\n",
              "      <td>...</td>\n",
              "      <td>...</td>\n",
              "      <td>...</td>\n",
              "      <td>...</td>\n",
              "      <td>...</td>\n",
              "      <td>...</td>\n",
              "      <td>...</td>\n",
              "      <td>...</td>\n",
              "      <td>...</td>\n",
              "      <td>...</td>\n",
              "      <td>...</td>\n",
              "      <td>...</td>\n",
              "      <td>...</td>\n",
              "      <td>...</td>\n",
              "    </tr>\n",
              "    <tr>\n",
              "      <th>L</th>\n",
              "      <td>-560</td>\n",
              "      <td>-548</td>\n",
              "      <td>-532</td>\n",
              "      <td>-515</td>\n",
              "      <td>-501</td>\n",
              "      <td>-490</td>\n",
              "      <td>-474</td>\n",
              "      <td>-454</td>\n",
              "      <td>-442</td>\n",
              "      <td>-430</td>\n",
              "      <td>...</td>\n",
              "      <td>-5</td>\n",
              "      <td>2</td>\n",
              "      <td>11</td>\n",
              "      <td>22</td>\n",
              "      <td>31</td>\n",
              "      <td>43</td>\n",
              "      <td>33</td>\n",
              "      <td>23</td>\n",
              "      <td>16</td>\n",
              "      <td>6</td>\n",
              "    </tr>\n",
              "    <tr>\n",
              "      <th>G</th>\n",
              "      <td>-570</td>\n",
              "      <td>-558</td>\n",
              "      <td>-542</td>\n",
              "      <td>-525</td>\n",
              "      <td>-511</td>\n",
              "      <td>-500</td>\n",
              "      <td>-484</td>\n",
              "      <td>-464</td>\n",
              "      <td>-452</td>\n",
              "      <td>-440</td>\n",
              "      <td>...</td>\n",
              "      <td>-15</td>\n",
              "      <td>-5</td>\n",
              "      <td>3</td>\n",
              "      <td>12</td>\n",
              "      <td>21</td>\n",
              "      <td>33</td>\n",
              "      <td>43</td>\n",
              "      <td>33</td>\n",
              "      <td>23</td>\n",
              "      <td>16</td>\n",
              "    </tr>\n",
              "    <tr>\n",
              "      <th>L</th>\n",
              "      <td>-580</td>\n",
              "      <td>-568</td>\n",
              "      <td>-552</td>\n",
              "      <td>-535</td>\n",
              "      <td>-521</td>\n",
              "      <td>-510</td>\n",
              "      <td>-494</td>\n",
              "      <td>-474</td>\n",
              "      <td>-462</td>\n",
              "      <td>-450</td>\n",
              "      <td>...</td>\n",
              "      <td>-25</td>\n",
              "      <td>-15</td>\n",
              "      <td>-7</td>\n",
              "      <td>2</td>\n",
              "      <td>11</td>\n",
              "      <td>23</td>\n",
              "      <td>33</td>\n",
              "      <td>40</td>\n",
              "      <td>35</td>\n",
              "      <td>25</td>\n",
              "    </tr>\n",
              "    <tr>\n",
              "      <th>Y</th>\n",
              "      <td>-590</td>\n",
              "      <td>-578</td>\n",
              "      <td>-562</td>\n",
              "      <td>-545</td>\n",
              "      <td>-531</td>\n",
              "      <td>-520</td>\n",
              "      <td>-504</td>\n",
              "      <td>-484</td>\n",
              "      <td>-472</td>\n",
              "      <td>-455</td>\n",
              "      <td>...</td>\n",
              "      <td>-35</td>\n",
              "      <td>-25</td>\n",
              "      <td>-17</td>\n",
              "      <td>-8</td>\n",
              "      <td>12</td>\n",
              "      <td>13</td>\n",
              "      <td>23</td>\n",
              "      <td>30</td>\n",
              "      <td>38</td>\n",
              "      <td>33</td>\n",
              "    </tr>\n",
              "    <tr>\n",
              "      <th>P</th>\n",
              "      <td>-600</td>\n",
              "      <td>-588</td>\n",
              "      <td>-572</td>\n",
              "      <td>-555</td>\n",
              "      <td>-541</td>\n",
              "      <td>-530</td>\n",
              "      <td>-514</td>\n",
              "      <td>-494</td>\n",
              "      <td>-482</td>\n",
              "      <td>-465</td>\n",
              "      <td>...</td>\n",
              "      <td>-42</td>\n",
              "      <td>-29</td>\n",
              "      <td>-24</td>\n",
              "      <td>-17</td>\n",
              "      <td>2</td>\n",
              "      <td>10</td>\n",
              "      <td>13</td>\n",
              "      <td>29</td>\n",
              "      <td>29</td>\n",
              "      <td>38</td>\n",
              "    </tr>\n",
              "  </tbody>\n",
              "</table>\n",
              "<p>61 rows × 58 columns</p>\n",
              "</div>\n",
              "      <button class=\"colab-df-convert\" onclick=\"convertToInteractive('df-83b45901-a223-4d5e-ab62-b4a1dcbe121d')\"\n",
              "              title=\"Convert this dataframe to an interactive table.\"\n",
              "              style=\"display:none;\">\n",
              "        \n",
              "  <svg xmlns=\"http://www.w3.org/2000/svg\" height=\"24px\"viewBox=\"0 0 24 24\"\n",
              "       width=\"24px\">\n",
              "    <path d=\"M0 0h24v24H0V0z\" fill=\"none\"/>\n",
              "    <path d=\"M18.56 5.44l.94 2.06.94-2.06 2.06-.94-2.06-.94-.94-2.06-.94 2.06-2.06.94zm-11 1L8.5 8.5l.94-2.06 2.06-.94-2.06-.94L8.5 2.5l-.94 2.06-2.06.94zm10 10l.94 2.06.94-2.06 2.06-.94-2.06-.94-.94-2.06-.94 2.06-2.06.94z\"/><path d=\"M17.41 7.96l-1.37-1.37c-.4-.4-.92-.59-1.43-.59-.52 0-1.04.2-1.43.59L10.3 9.45l-7.72 7.72c-.78.78-.78 2.05 0 2.83L4 21.41c.39.39.9.59 1.41.59.51 0 1.02-.2 1.41-.59l7.78-7.78 2.81-2.81c.8-.78.8-2.07 0-2.86zM5.41 20L4 18.59l7.72-7.72 1.47 1.35L5.41 20z\"/>\n",
              "  </svg>\n",
              "      </button>\n",
              "      \n",
              "  <style>\n",
              "    .colab-df-container {\n",
              "      display:flex;\n",
              "      flex-wrap:wrap;\n",
              "      gap: 12px;\n",
              "    }\n",
              "\n",
              "    .colab-df-convert {\n",
              "      background-color: #E8F0FE;\n",
              "      border: none;\n",
              "      border-radius: 50%;\n",
              "      cursor: pointer;\n",
              "      display: none;\n",
              "      fill: #1967D2;\n",
              "      height: 32px;\n",
              "      padding: 0 0 0 0;\n",
              "      width: 32px;\n",
              "    }\n",
              "\n",
              "    .colab-df-convert:hover {\n",
              "      background-color: #E2EBFA;\n",
              "      box-shadow: 0px 1px 2px rgba(60, 64, 67, 0.3), 0px 1px 3px 1px rgba(60, 64, 67, 0.15);\n",
              "      fill: #174EA6;\n",
              "    }\n",
              "\n",
              "    [theme=dark] .colab-df-convert {\n",
              "      background-color: #3B4455;\n",
              "      fill: #D2E3FC;\n",
              "    }\n",
              "\n",
              "    [theme=dark] .colab-df-convert:hover {\n",
              "      background-color: #434B5C;\n",
              "      box-shadow: 0px 1px 3px 1px rgba(0, 0, 0, 0.15);\n",
              "      filter: drop-shadow(0px 1px 2px rgba(0, 0, 0, 0.3));\n",
              "      fill: #FFFFFF;\n",
              "    }\n",
              "  </style>\n",
              "\n",
              "      <script>\n",
              "        const buttonEl =\n",
              "          document.querySelector('#df-83b45901-a223-4d5e-ab62-b4a1dcbe121d button.colab-df-convert');\n",
              "        buttonEl.style.display =\n",
              "          google.colab.kernel.accessAllowed ? 'block' : 'none';\n",
              "\n",
              "        async function convertToInteractive(key) {\n",
              "          const element = document.querySelector('#df-83b45901-a223-4d5e-ab62-b4a1dcbe121d');\n",
              "          const dataTable =\n",
              "            await google.colab.kernel.invokeFunction('convertToInteractive',\n",
              "                                                     [key], {});\n",
              "          if (!dataTable) return;\n",
              "\n",
              "          const docLinkHtml = 'Like what you see? Visit the ' +\n",
              "            '<a target=\"_blank\" href=https://colab.research.google.com/notebooks/data_table.ipynb>data table notebook</a>'\n",
              "            + ' to learn more about interactive tables.';\n",
              "          element.innerHTML = '';\n",
              "          dataTable['output_type'] = 'display_data';\n",
              "          await google.colab.output.renderOutput(dataTable, element);\n",
              "          const docLink = document.createElement('div');\n",
              "          docLink.innerHTML = docLinkHtml;\n",
              "          element.appendChild(docLink);\n",
              "        }\n",
              "      </script>\n",
              "    </div>\n",
              "  </div>\n",
              "  "
            ]
          },
          "metadata": {},
          "execution_count": 13
        }
      ]
    },
    {
      "cell_type": "code",
      "source": [
        "score.loc[\"P\"][\"N\"]"
      ],
      "metadata": {
        "id": "6rM70P6PkcOO",
        "outputId": "bb2e64ca-ad91-4153-aad9-ebb5a26db42a",
        "colab": {
          "base_uri": "https://localhost:8080/"
        }
      },
      "execution_count": 27,
      "outputs": [
        {
          "output_type": "execute_result",
          "data": {
            "text/plain": [
              "0"
            ]
          },
          "metadata": {},
          "execution_count": 27
        }
      ]
    },
    {
      "cell_type": "code",
      "source": [
        "direction_m"
      ],
      "metadata": {
        "colab": {
          "base_uri": "https://localhost:8080/"
        },
        "id": "1wdgfVdiSvmR",
        "outputId": "c4fab44d-7e67-49ea-c8b0-d183567d1845"
      },
      "execution_count": 14,
      "outputs": [
        {
          "output_type": "execute_result",
          "data": {
            "text/plain": [
              "array([[None, None, None, ..., None, None, None],\n",
              "       [None, 'sub', 'ins', ..., 'ins', 'ins', 'ins'],\n",
              "       [None, 'del', 'sub', ..., 'ins', 'ins', 'ins'],\n",
              "       ...,\n",
              "       [None, 'del', 'sub', ..., 'sub', 'sub', 'ins'],\n",
              "       [None, 'del', 'del', ..., 'del', 'sub', 'sub'],\n",
              "       [None, 'del', 'del', ..., 'sub', 'sub', 'sub']], dtype=object)"
            ]
          },
          "metadata": {},
          "execution_count": 14
        }
      ]
    },
    {
      "cell_type": "code",
      "source": [
        "len(row)\n",
        "direction_m.shape"
      ],
      "metadata": {
        "colab": {
          "base_uri": "https://localhost:8080/"
        },
        "id": "lppUopZDgmsp",
        "outputId": "be26cc53-33e6-48da-89ed-2f684bb3995a"
      },
      "execution_count": 20,
      "outputs": [
        {
          "output_type": "execute_result",
          "data": {
            "text/plain": [
              "(61, 58)"
            ]
          },
          "metadata": {},
          "execution_count": 20
        }
      ]
    },
    {
      "cell_type": "code",
      "source": [
        "i = len(col) - 1\n",
        "j = len(row) - 1\n",
        "aln1 = ''\n",
        "aln2 = ''\n",
        "\n",
        "while(not (i == 0 and j == 0)):\n",
        "  if(direction_m[j][i] == 'sub'):\n",
        "    aln1 = col[i] + aln1\n",
        "    aln2 = row[j] + aln2\n",
        "    i = i - 1\n",
        "    j = j - 1\n",
        "  elif(direction_m[j][i] == 'del'):\n",
        "    aln1 = col[i] + aln1\n",
        "    aln2 = '-' + aln2\n",
        "    i = i - 1\n",
        "  else:\n",
        "    aln1 = '-' + aln1\n",
        "    aln2 = row[j] + aln2\n",
        "    j = j - 1"
      ],
      "metadata": {
        "id": "OHnh-tyecNN7"
      },
      "execution_count": 23,
      "outputs": []
    },
    {
      "cell_type": "code",
      "source": [
        "print(seq1)\n",
        "print(seq2)\n",
        "print(aln1)\n",
        "print(aln2)\n",
        "print(len(aln1))"
      ],
      "metadata": {
        "colab": {
          "base_uri": "https://localhost:8080/"
        },
        "id": "ePK8zVv6cNVg",
        "outputId": "c4ca618e-ad80-4fad-f5cb-41da551540cd"
      },
      "execution_count": 26,
      "outputs": [
        {
          "output_type": "stream",
          "name": "stdout",
          "text": [
            "NLFVALYDFVASGDNTLSITKGEKLRVLGYNHNGEWCEAQTKNGQGWVPSNYITPVN\n",
            "KGVIYALWDYEPQNDDELPMKEGDCMTIIHREDEDEIEWWWARLNDKEGYVPRNLLGLYP\n",
            "-------------------------NLFVALYDFVASGDNTLSITKGEKLRVLGYNHNGEWCEAQTKNGQGWVPSNYITPVN\n",
            "KGVIYALWDYEPQNDDELPMKEGDC---MT----II---H--R-E-DED--E--I----EWWWARLNDKEGYVPRNLLGLYP\n",
            "82\n"
          ]
        }
      ]
    },
    {
      "cell_type": "markdown",
      "source": [
        "Trace Back\n",
        "From our slide.\n",
        "\n",
        "while (!(i==0 && j==0)):\n",
        "  if (direc_m[i][j]== ‘sub’): #SUBSTITUTION\n",
        "    aln1[aln_len]=pro1Seq[--i]\n",
        "    aln2[aln_len]=pro2Seq[--j]\n",
        "  elif (direc_m[i][j]==‘del’): #DELETION\n",
        "    aln1[aln_len]='-'\n",
        "    aln2[aln_len]=pro2Seq[--j]\n",
        "  elif (direc_m[i][j]==‘ins’): #INSERTION\n",
        "    aln1[aln_len]=pro1Seq[0][--i]\n",
        "    aln2[aln_len]='-'\n",
        "  aln_len++\n",
        "}"
      ],
      "metadata": {
        "id": "_qqhwQbRGT0U"
      }
    },
    {
      "cell_type": "code",
      "source": [
        ""
      ],
      "metadata": {
        "id": "LfGW6jI-EaUf"
      },
      "execution_count": 11,
      "outputs": []
    }
  ]
}