{
  "nbformat": 4,
  "nbformat_minor": 0,
  "metadata": {
    "colab": {
      "name": "hw1_110761504.ipynb",
      "provenance": [],
      "authorship_tag": "ABX9TyNJQg+S1b/nW8nYe5aVcasq",
      "include_colab_link": true
    },
    "kernelspec": {
      "name": "python3",
      "display_name": "Python 3"
    },
    "language_info": {
      "name": "python"
    }
  },
  "cells": [
    {
      "cell_type": "markdown",
      "metadata": {
        "id": "view-in-github",
        "colab_type": "text"
      },
      "source": [
        "<a href=\"https://colab.research.google.com/github/mequanent/Bioinformatics-hw2/blob/main/hws_110761504.ipynb\" target=\"_parent\"><img src=\"https://colab.research.google.com/assets/colab-badge.svg\" alt=\"Open In Colab\"/></a>"
      ]
    },
    {
      "cell_type": "code",
      "source": [
        "# Clone the repository first using the following command\n",
        "!npx degit https://github.com/mequanent/Bioinformatics-hw2 -f"
      ],
      "metadata": {
        "colab": {
          "base_uri": "https://localhost:8080/"
        },
        "id": "Eim-tkyVaZrg",
        "outputId": "fd012f2d-2216-4028-9c3c-9a64452e60eb"
      },
      "execution_count": 2,
      "outputs": [
        {
          "output_type": "stream",
          "name": "stdout",
          "text": [
            "\u001b[K\u001b[?25hnpx: installed 1 in 2.324s\n",
            "\u001b[36m> destination directory is not empty. Using --force, continuing\u001b[39m\n",
            "\u001b[36m> cloned \u001b[1mmequanent/Bioinformatics-hw2\u001b[22m#\u001b[1mHEAD\u001b[22m\u001b[39m\n"
          ]
        }
      ]
    },
    {
      "cell_type": "markdown",
      "source": [
        "**Homework 2**"
      ],
      "metadata": {
        "id": "GCOZucxBv9DA"
      }
    },
    {
      "cell_type": "code",
      "source": [
        "#pip install Bio   # Please uncomment for the .py format"
      ],
      "metadata": {
        "id": "Tba1tOZ5vhIb"
      },
      "execution_count": 4,
      "outputs": []
    },
    {
      "cell_type": "code",
      "source": [
        "import numpy as np\n",
        "import pandas as pd\n",
        "np.set_printoptions(suppress=True) # Suppress displaying the scientific notation\n",
        "\n",
        "#To install the Bio library into my IDLE python editor I used the following two steps.\n",
        "#    1. cd C:\\Users\\USER\\AppData\\Local\\Programs\\Python\\Python39\\Scripts\n",
        "#    2. pip install Bio\n",
        "#pip install Bio\n",
        "\n",
        "# Read fasta and parse the seq_names and the sequences\n",
        "# Reference for parsing the fasta is the original biopython library documentation\n",
        "# (https://biopython.org/DIST/docs/tutorial/Tutorial.html#htoc11 section 2.4.1)\n",
        "\n",
        "from Bio import SeqIO\n",
        "seq_name = []\n",
        "sequence = []\n",
        "# Remember to customize as --input from CLI args\n",
        "for seq_record in SeqIO.parse(\"test.fasta\", \"fasta\"):\n",
        "  seq_name.append(seq_record.id)\n",
        "  #sequence.append(repr(seq_record.seq))\n",
        "  sequence.append(seq_record.seq)\n",
        "  #print(len(seq_record))\n",
        "print(sequence[1])\n",
        "print(sequence[2])\n",
        "\n",
        "def preprocess_score(score):\n",
        "  file = open(score, 'r')\n",
        "  lines = file.readlines()#[10:] # The first 10 lines are strings\n",
        "  file.close()\n",
        "  columns = []\n",
        "  mut = []\n",
        "  for line in lines:\n",
        "    if line.startswith(\"#\") or line.startswith(\" \"):\n",
        "      continue\n",
        "    columns.append(line[0]) # Amino acid alphabets stored for row & column indexing\n",
        "    line = line[1:].strip().split() # remove the letters from left and the spaces\n",
        "    mut.append(line)\n",
        "  mut = np.array(mut).astype(int) # change the string numbers into type int\n",
        "  print(mut.shape)\n",
        "  size = len(mut) # save the size of the array for future usages to come below\n",
        "  return pd.DataFrame(mut, index = columns, columns = columns)\n",
        "\n",
        "score = \"pam250.txt\" # score from command line args\n",
        "score = preprocess_score(score) # score made a data frame to access its values with \n",
        "                  # alphabet indices\n",
        "print(score)\n",
        "\n",
        "gop = -10\n",
        "gex = -2\n",
        "# A function to determine pairwise alignment score\n",
        "def pairwise(x, y):\n",
        "  pair_sum = 0\n",
        "  x_prev = '' # x_prev and y_prev are used to store immediate previous alphabets\n",
        "  y_prev = '' # so that extension gaps will be identified\n",
        "  for i in range(len(x)): # Considering that both x and y have the same length\n",
        "    x_prev = x_prev == '-' and x[i] == '-' # status of extension gap in the first paired sequence\n",
        "    y_prev = y_prev == '-' and y[i] == '-' # status of extension gap in second paired sequence\n",
        "    curr = x[i] == '-' or y[i] == '-' # status of open gap in the paired sequence\n",
        "    if x_prev or y_prev: # extension gap value will be taken if holds\n",
        "      pair_sum = pair_sum + gex\n",
        "    elif curr: # open gap value will be taken if holds\n",
        "      pair_sum = pair_sum + gop\n",
        "    else: # score matrix value will be taken otherwise\n",
        "      pair_sum = pair_sum + score.loc[x[i]][y[i]] \n",
        "    x_prev = x[i]\n",
        "    y_prev = y[i]\n",
        "  return pair_sum\n",
        "\n",
        "pairwise(sequence[0], sequence[1])\n",
        "\n",
        "# A function to find the total sum of pairs score.\n",
        "def sumOfPairs(seq):\n",
        "  sop = 0 # to store sum of pairs value\n",
        "  for i in range(len(seq)-1): # i iterates as long as there is j in seq as its next sequence\n",
        "    for j in range(i+1, len(seq)): # j will be the next seq index to be compared with seq[i]\n",
        "      sop = sop + pairwise(seq[i], seq[j])\n",
        "  return sop\n",
        "print(sumOfPairs(sequence))"
      ],
      "metadata": {
        "id": "UlUbMGY6cAcx",
        "outputId": "212ea9e4-0a4b-4b82-c2ad-460c4fbc6db8",
        "colab": {
          "base_uri": "https://localhost:8080/"
        }
      },
      "execution_count": 5,
      "outputs": [
        {
          "output_type": "stream",
          "name": "stdout",
          "text": [
            "KGVIYALWDYEPQNDDELPMKEGDCMTIIHREDEDEIEWWWARLNDKEGYVPRNLLGLYP\n",
            "KGVIYALWDYEPQNDDELPMKEGDCMTIIHREDEDEI--WWARLNDKEGYVPRNLLGLYP\n",
            "(24, 24)\n",
            "   A  R  N  D   C  Q  E  G  H  I  ...  P  S  T   W   Y  V  B  Z  X  *\n",
            "A  2 -2  0  0  -2  0  0  1 -1 -1  ...  1  1  1  -6  -3  0  0  0  0 -8\n",
            "R -2  6  0 -1  -4  1 -1 -3  2 -2  ...  0  0 -1   2  -4 -2 -1  0 -1 -8\n",
            "N  0  0  2  2  -4  1  1  0  2 -2  ...  0  1  0  -4  -2 -2  2  1  0 -8\n",
            "D  0 -1  2  4  -5  2  3  1  1 -2  ... -1  0  0  -7  -4 -2  3  3 -1 -8\n",
            "C -2 -4 -4 -5  12 -5 -5 -3 -3 -2  ... -3  0 -2  -8   0 -2 -4 -5 -3 -8\n",
            "Q  0  1  1  2  -5  4  2 -1  3 -2  ...  0 -1 -1  -5  -4 -2  1  3 -1 -8\n",
            "E  0 -1  1  3  -5  2  4  0  1 -2  ... -1  0  0  -7  -4 -2  3  3 -1 -8\n",
            "G  1 -3  0  1  -3 -1  0  5 -2 -3  ...  0  1  0  -7  -5 -1  0  0 -1 -8\n",
            "H -1  2  2  1  -3  3  1 -2  6 -2  ...  0 -1 -1  -3   0 -2  1  2 -1 -8\n",
            "I -1 -2 -2 -2  -2 -2 -2 -3 -2  5  ... -2 -1  0  -5  -1  4 -2 -2 -1 -8\n",
            "L -2 -3 -3 -4  -6 -2 -3 -4 -2  2  ... -3 -3 -2  -2  -1  2 -3 -3 -1 -8\n",
            "K -1  3  1  0  -5  1  0 -2  0 -2  ... -1  0  0  -3  -4 -2  1  0 -1 -8\n",
            "M -1  0 -2 -3  -5 -1 -2 -3 -2  2  ... -2 -2 -1  -4  -2  2 -2 -2 -1 -8\n",
            "F -3 -4 -3 -6  -4 -5 -5 -5 -2  1  ... -5 -3 -3   0   7 -1 -4 -5 -2 -8\n",
            "P  1  0  0 -1  -3  0 -1  0  0 -2  ...  6  1  0  -6  -5 -1 -1  0 -1 -8\n",
            "S  1  0  1  0   0 -1  0  1 -1 -1  ...  1  2  1  -2  -3 -1  0  0  0 -8\n",
            "T  1 -1  0  0  -2 -1  0  0 -1  0  ...  0  1  3  -5  -3  0  0 -1  0 -8\n",
            "W -6  2 -4 -7  -8 -5 -7 -7 -3 -5  ... -6 -2 -5  17   0 -6 -5 -6 -4 -8\n",
            "Y -3 -4 -2 -4   0 -4 -4 -5  0 -1  ... -5 -3 -3   0  10 -2 -3 -4 -2 -8\n",
            "V  0 -2 -2 -2  -2 -2 -2 -1 -2  4  ... -1 -1  0  -6  -2  4 -2 -2 -1 -8\n",
            "B  0 -1  2  3  -4  1  3  0  1 -2  ... -1  0  0  -5  -3 -2  3  2 -1 -8\n",
            "Z  0  0  1  3  -5  3  3  0  2 -2  ...  0  0 -1  -6  -4 -2  2  3 -1 -8\n",
            "X  0 -1  0 -1  -3 -1 -1 -1 -1 -1  ... -1  0  0  -4  -2 -1 -1 -1 -1 -8\n",
            "* -8 -8 -8 -8  -8 -8 -8 -8 -8 -8  ... -8 -8 -8  -8  -8 -8 -8 -8 -8  1\n",
            "\n",
            "[24 rows x 24 columns]\n",
            "1047\n"
          ]
        }
      ]
    },
    {
      "cell_type": "markdown",
      "source": [
        "**Homework 3**"
      ],
      "metadata": {
        "id": "whhnJvDTvyh4"
      }
    },
    {
      "cell_type": "code",
      "source": [
        "import numpy as np\n",
        "import pandas as pd\n",
        "\n",
        "from Bio import SeqIO\n",
        "seq_name = []\n",
        "sequence = []\n",
        "# Remember to customize as --input from CLI args\n",
        "for seq_record in SeqIO.parse(\"test3.fasta\", \"fasta\"):\n",
        "  seq_name.append(seq_record.id)\n",
        "  sequence.append(seq_record.seq)\n",
        "print(\"----- Given Sequences ---------\")\n",
        "print(sequence[0], len(sequence[0]))\n",
        "print(sequence[1], len(sequence[1]))\n",
        "\n",
        "gap = -10\n",
        "score = \"pam250.txt\" # score from command line args\n",
        "\n",
        "def preprocess_score(score):\n",
        "  file = open(score, 'r')\n",
        "  lines = file.readlines()\n",
        "  file.close()\n",
        "  columns = []\n",
        "  mut = []\n",
        "  for line in lines:\n",
        "    if line.startswith(\"#\") or line.startswith(\" \"):\n",
        "      continue\n",
        "    columns.append(line[0]) # Amino acid alphabets stored for row & column indexing\n",
        "    line = line[1:].strip().split() # remove the letters from left and the spaces\n",
        "    mut.append(line)\n",
        "  mut = np.array(mut).astype(int) # change the string numbers into type int\n",
        "  return pd.DataFrame(mut, index = columns, columns = columns)\n",
        "\n",
        "score = preprocess_score(score) # score made a data frame to access its values with \n",
        "                  # alphabet indices\n",
        "#print(\"----- PAM Score Matrix ---------\")\n",
        "#print(score)"
      ],
      "metadata": {
        "id": "e_YVQGnpvxOa",
        "outputId": "f9080f74-526e-4baf-ad99-3f152a099a18",
        "colab": {
          "base_uri": "https://localhost:8080/"
        }
      },
      "execution_count": 6,
      "outputs": [
        {
          "output_type": "stream",
          "name": "stdout",
          "text": [
            "----- Given Sequences ---------\n",
            "NLFVALYDFVASGDNTLSITKGEKLRVLGYNHNGEWCEAQTKNGQGWVPSNYITPVN 57\n",
            "KGVIYALWDYEPQNDDELPMKEGDCMTIIHREDEDEIEWWWARLNDKEGYVPRNLLGLYP 60\n"
          ]
        }
      ]
    },
    {
      "cell_type": "code",
      "source": [
        "seq1 = sequence[0]\n",
        "seq2 = sequence[1]\n",
        "\n",
        "TOP = gap\n",
        "DIAGONAL = 0\n",
        "LEFT = gap\n",
        "col = '-' + seq1 # This if for simplicity to avoid repeated use of (len(seq1) + 1)\n",
        "row = '-' + seq2 # For the same reason"
      ],
      "metadata": {
        "id": "sc0XdEO5I3dA"
      },
      "execution_count": 7,
      "outputs": []
    },
    {
      "cell_type": "markdown",
      "source": [
        "**Global Alignment Section**"
      ],
      "metadata": {
        "id": "3F0MlcygZWpw"
      }
    },
    {
      "cell_type": "code",
      "source": [
        "# Filling score_m and keeping track of the direction for each cell\n",
        "score_m = np.zeros((len(row), len(col)))\n",
        "direction_m = np.empty((len(row), len(col)), dtype = object)\n",
        "for i in range(len(col)):\n",
        "  score_m[0][i] = i * gap\n",
        "for j in range(len(row)):\n",
        "  score_m[j][0] = j * gap\n",
        "\n",
        "for i in range(1, len(row)):\n",
        "  for j in range(1, len(col)):\n",
        "    TOP = score_m[i-1,j] + gap\n",
        "    DIAGONAL = score_m[i-1][j-1] + score.loc[row[i]][col[j]]\n",
        "    LEFT = score_m[i,j-1] + gap\n",
        "    score_m[i][j] = max(TOP, DIAGONAL, LEFT) \n",
        "    # ------ Let the direction for each cell be saved as follows \n",
        "    if score_m[i][j] == TOP:\n",
        "      direction_m[i][j] = 'ins'\n",
        "    elif score_m[i][j] == DIAGONAL:\n",
        "      direction_m[i][j] = 'sub' \n",
        "    else:\n",
        "      direction_m[i][j] = 'del'\n",
        "\n",
        "score_m = score_m.astype(int)\n",
        "F = pd.DataFrame(score_m, index = row, columns = col)\n",
        "# End of filling the scoring matrix and tracking the direction\n",
        "\n",
        "# Trace back section for global alignment\n",
        "i = len(seq1)\n",
        "j = len(seq2)\n",
        "aln1 = ''\n",
        "aln2 = ''\n",
        "\n",
        "while(not (i == 0 and j == 0)):\n",
        "  if(direction_m[j][i] == 'sub'):\n",
        "    aln1 = col[i] + aln1\n",
        "    aln2 = row[j] + aln2\n",
        "    i = i - 1\n",
        "    j = j - 1\n",
        "  elif(direction_m[j][i] == 'del'):\n",
        "    aln1 = col[i] + aln1\n",
        "    aln2 = '-' + aln2\n",
        "    i = i - 1\n",
        "  else:\n",
        "    aln1 = '-' + aln1\n",
        "    aln2 = row[j] + aln2\n",
        "    j = j - 1\n",
        "# End of Trace Back for the Global Alignment\n",
        "# --------------------------------------------\n",
        "# Displaying Section for the Global alignment\n",
        "print(\"+------- Given sequences ------------+\")\n",
        "print(seq1)\n",
        "print(seq2)\n",
        "print(\"+------- Global Alignment -----------+\")\n",
        "print(aln1)\n",
        "print(aln2)\n",
        "print(\"Sum of pairs (SoP) score of the alignment: \", pairwise(aln1, aln2)) \n",
        "# The SoP value verifies the correctness of our alignment\n",
        "                            # if it becomes equal to the right bottom value."
      ],
      "metadata": {
        "id": "TLZFq7i3Hzx-",
        "outputId": "c490f6ad-545b-4f1c-a5d1-0541e530b3f0",
        "colab": {
          "base_uri": "https://localhost:8080/"
        }
      },
      "execution_count": 8,
      "outputs": [
        {
          "output_type": "stream",
          "name": "stdout",
          "text": [
            "+------- Given sequences ------------+\n",
            "NLFVALYDFVASGDNTLSITKGEKLRVLGYNHNGEWCEAQTKNGQGWVPSNYITPVN\n",
            "KGVIYALWDYEPQNDDELPMKEGDCMTIIHREDEDEIEWWWARLNDKEGYVPRNLLGLYP\n",
            "+------- Global Alignment -----------+\n",
            "N-LFVALYDFVASGDNTLSITKGEKLRVLGY-NHNG-EWCEAQTKNGQGWVPSNYITPVN\n",
            "KGVIYALWDYEPQNDDELPMKEGDCMTIIHREDEDEIEWWWARLNDKEGYVPRNLLGLYP\n",
            "Sum of pairs (SoP) score of the alignment:  38\n"
          ]
        }
      ]
    },
    {
      "cell_type": "code",
      "source": [
        ""
      ],
      "metadata": {
        "id": "OHnh-tyecNN7"
      },
      "execution_count": 48,
      "outputs": []
    },
    {
      "cell_type": "markdown",
      "source": [
        "**Local Alignment**"
      ],
      "metadata": {
        "id": "V59YILM5EoxQ"
      }
    },
    {
      "cell_type": "code",
      "source": [
        "score_local = np.zeros((len(row), len(col))).astype(int)\n",
        "bestScore = 0\n",
        "bestScoreCell = (0, 0)\n",
        "direction_l = np.zeros((len(row), len(col)), dtype = object)\n",
        "\n",
        "for i in range(1, len(row)):\n",
        "  for j in range(1, len(col)):\n",
        "    TOP = score_local[i-1,j] + gap\n",
        "    DIAGONAL = score_local[i-1][j-1] + score.loc[row[i]][col[j]]\n",
        "    LEFT = score_local[i,j-1] + gap\n",
        "    score_local[i][j] = max(TOP, DIAGONAL, LEFT, 0)\n",
        "\n",
        "    if score_local[i][j] >= bestScore:\n",
        "      bestScore = score_local[i][j]\n",
        "      bestScoreCell = (i, j)\n",
        "    \n",
        "    if score_local[i][j] == TOP:\n",
        "      direction_l[i][j] = 'ins'\n",
        "    elif score_local[i][j] == DIAGONAL:\n",
        "      direction_l[i][j] = 'sub' \n",
        "    else:\n",
        "      direction_l[i][j] = 'del'\n",
        "\n",
        "local_df = pd.DataFrame(score_local, index = row, columns = col)\n",
        "local_df\n",
        "direction_l"
      ],
      "metadata": {
        "id": "LfGW6jI-EaUf",
        "colab": {
          "base_uri": "https://localhost:8080/"
        },
        "outputId": "72629fae-c20f-4476-c009-873319f9ac20"
      },
      "execution_count": 15,
      "outputs": [
        {
          "output_type": "execute_result",
          "data": {
            "text/plain": [
              "array([[0, 0, 0, ..., 0, 0, 0],\n",
              "       [0, 'sub', 'del', ..., 'del', 'del', 'sub'],\n",
              "       [0, 'sub', 'del', ..., 'sub', 'del', 'sub'],\n",
              "       ...,\n",
              "       [0, 'del', 'sub', ..., 'sub', 'sub', 'del'],\n",
              "       [0, 'del', 'del', ..., 'ins', 'sub', 'sub'],\n",
              "       [0, 'sub', 'del', ..., 'sub', 'sub', 'sub']], dtype=object)"
            ]
          },
          "metadata": {},
          "execution_count": 15
        }
      ]
    },
    {
      "cell_type": "code",
      "source": [
        "print(bestScore)\n",
        "print(bestScoreCell)"
      ],
      "metadata": {
        "id": "e-G5P65DFDU_",
        "outputId": "1ddaf04a-27e5-450b-968a-ac4232cc5679",
        "colab": {
          "base_uri": "https://localhost:8080/"
        }
      },
      "execution_count": 50,
      "outputs": [
        {
          "output_type": "stream",
          "name": "stdout",
          "text": [
            "52\n",
            "(57, 54)\n"
          ]
        }
      ]
    },
    {
      "cell_type": "code",
      "source": [
        "# Trace back the local alignment\n",
        "i = bestScoreCell[0]\n",
        "j = bestScoreCell[1]\n",
        "print('Best from row: ', row[i])\n",
        "print('Best from col: ', col[i])\n",
        "al1 = ''\n",
        "al2 = ''\n",
        "\n",
        "while i > 0 and j > 0:\n",
        "  TOP = score_local[i-1][j]\n",
        "  DIAGONAL = score_local[i-1][j-1]\n",
        "  LEFT = score_local[i][j-1]\n",
        "\n",
        "  if min(TOP, DIAGONAL, LEFT) == DIAGONAL:\n",
        "    #break\n",
        "    al1 = '-' + al1\n",
        "    al2 = '-' + al2\n",
        "    i = i - 1\n",
        "    j = j - 1\n",
        "  else:\n",
        "    al1 = col[j] + al1\n",
        "    al2 = row[i] + al2\n",
        "    i = i - 1\n",
        "    j = j - 1\n",
        "\n",
        "print('+------------------ Given Sequences ------------------+')\n",
        "print(seq1)\n",
        "#print(seq2)\n",
        "#print('+------------------ Local Alignment ------------------+')\n",
        "print(al1)\n",
        "print(al2)\n",
        "print(seq2)\n",
        "print(pairwise(al1, al2))"
      ],
      "metadata": {
        "id": "vVr54VLjBCDV",
        "outputId": "2815350e-7100-41c3-d073-77a5ea64f06b",
        "colab": {
          "base_uri": "https://localhost:8080/"
        }
      },
      "execution_count": 10,
      "outputs": [
        {
          "output_type": "stream",
          "name": "stdout",
          "text": [
            "Best from row:  G\n",
            "Best from col:  N\n",
            "+------------------ Given Sequences ------------------+\n",
            "NLFVALYDFVASGDNTLSITKGEKLRVLGYNHNGEWCEAQTKNGQGWVPSNYITPVN\n",
            "----A--DFVASGDNTLSITKGEKLRVLGYNHNGEWCEAQTKNGQGWVPSNYIT\n",
            "----W--EPQNDDELPMKEGDCMTIIHREDEDEIEWWWARLNDKEGYVPRNLLG\n",
            "KGVIYALWDYEPQNDDELPMKEGDCMTIIHREDEDEIEWWWARLNDKEGYVPRNLLGLYP\n",
            "-21\n"
          ]
        }
      ]
    },
    {
      "cell_type": "code",
      "source": [
        "i = bestScoreCell[0]\n",
        "j = bestScoreCell[1]\n",
        "print('Best from row: ', row[i])\n",
        "print('Best from col: ', col[j])"
      ],
      "metadata": {
        "id": "AVg2l_VcpsE6",
        "outputId": "fb2d75e0-c8bf-4dea-8805-2d6740ca3afe",
        "colab": {
          "base_uri": "https://localhost:8080/"
        }
      },
      "execution_count": 13,
      "outputs": [
        {
          "output_type": "stream",
          "name": "stdout",
          "text": [
            "Best from row:  G\n",
            "Best from col:  T\n"
          ]
        }
      ]
    },
    {
      "cell_type": "code",
      "source": [
        "# Trace back the local alignment\n",
        "i = bestScoreCell[0]\n",
        "j = bestScoreCell[1]\n",
        "print('Best from row: ', row[i])\n",
        "print('Best from col: ', col[j])\n",
        "print('Best score: ', bestScore)\n",
        "#print(len(col))\n",
        "al1 = ''\n",
        "al2 = ''\n",
        "\n",
        "while((i > 0 and j > 0) and score_local[i][j]> 0):\n",
        "  if(direction_l[i][j] == 'sub'):\n",
        "    al1 = col[i] + al1\n",
        "    al2 = row[j] + al2\n",
        "    i = i - 1\n",
        "    j = j - 1\n",
        "  elif(direction_l[i][j] == 'del'):\n",
        "    al1 = col[i] + al1\n",
        "    al2 = '-' + al2\n",
        "    i = i - 1\n",
        "    j = j - 1\n",
        "  else:\n",
        "    al1 = '-' + al1\n",
        "    al2 = row[j] + al2\n",
        "    i = i - 1\n",
        "    j = j - 1\n",
        "\n",
        "print('+------------------ Given Sequences ------------------+')\n",
        "print(seq1)\n",
        "#print(seq2)\n",
        "#print('+------------------ Local Alignment ------------------+')\n",
        "print(al1)\n",
        "print(al2)\n",
        "print(seq2)"
      ],
      "metadata": {
        "id": "WWDP7Gupb767",
        "outputId": "7202beca-5f2a-4278-9d19-a98b3273c5af",
        "colab": {
          "base_uri": "https://localhost:8080/"
        }
      },
      "execution_count": 18,
      "outputs": [
        {
          "output_type": "stream",
          "name": "stdout",
          "text": [
            "Best from row:  G\n",
            "Best from col:  T\n",
            "Best score:  52\n",
            "+------------------ Given Sequences ------------------+\n",
            "NLFVALYDFVASGDNTLSITKGEKLRVLGYNHNGEWCEAQTKNGQGWVPSNYITPVN\n",
            "VASGDNTLSIT-------LG--HNGE--EAQTKNGQGWVPSNYITPVN\n",
            "LWDYEPQNDDELPMKEGDCMTIIHREDEDEIEWWWARLNDKEGYVPRN\n",
            "KGVIYALWDYEPQNDDELPMKEGDCMTIIHREDEDEIEWWWARLNDKEGYVPRNLLGLYP\n"
          ]
        }
      ]
    },
    {
      "cell_type": "code",
      "source": [
        "local_df"
      ],
      "metadata": {
        "id": "WbXwBZCOmVQg",
        "outputId": "609750af-ff8e-4768-d1f9-5bd6df075b60",
        "colab": {
          "base_uri": "https://localhost:8080/",
          "height": 423
        }
      },
      "execution_count": 32,
      "outputs": [
        {
          "output_type": "execute_result",
          "data": {
            "text/plain": [
              "    -  N  L   F   V  A   L   Y   D   F  ...  V   P   S   N   Y   I   T   P  \\\n",
              "-   0  0  0   0   0  0   0   0   0   0  ...  0   0   0   0   0   0   0   0   \n",
              "K   0  1  0   0   0  0   0   0   0   0  ...  0   0   0   1   0   0   0   0   \n",
              "G   0  0  0   0   0  1   0   0   1   0  ...  0   0   1   0   0   0   0   0   \n",
              "V   0  0  2   0   4  0   3   0   0   0  ...  4   0   0   0   0   4   0   0   \n",
              "I   0  0  2   3   4  3   2   2   0   1  ...  4   2   0   0   0   5   4   0   \n",
              ".. .. .. ..  ..  .. ..  ..  ..  ..  ..  ... ..  ..  ..  ..  ..  ..  ..  ..   \n",
              "L   0  0  6  10   4  0   6   5   0   5  ...  4  11  20  31  40  52  42  32   \n",
              "G   0  0  0   1   9  5   0   1   6   0  ...  0   4  12  21  30  42  52  42   \n",
              "L   0  0  6   2   3  7  11   1   0   8  ...  2   0   2  11  20  32  42  49   \n",
              "Y   0  0  0  13   3  0   6  21  11   7  ...  1   0   0   1  21  22  32  39   \n",
              "P   0  0  0   3  12  4   0  11  20  10  ...  0   7   1   0  11  19  22  38   \n",
              "\n",
              "     V   N  \n",
              "-    0   0  \n",
              "K    0   1  \n",
              "G    0   0  \n",
              "V    4   0  \n",
              "I    4   2  \n",
              "..  ..  ..  \n",
              "L   25  15  \n",
              "G   32  25  \n",
              "L   44  34  \n",
              "Y   47  42  \n",
              "P   38  47  \n",
              "\n",
              "[61 rows x 58 columns]"
            ],
            "text/html": [
              "\n",
              "  <div id=\"df-5e064479-9c93-424e-a4a4-977fa9c900e5\">\n",
              "    <div class=\"colab-df-container\">\n",
              "      <div>\n",
              "<style scoped>\n",
              "    .dataframe tbody tr th:only-of-type {\n",
              "        vertical-align: middle;\n",
              "    }\n",
              "\n",
              "    .dataframe tbody tr th {\n",
              "        vertical-align: top;\n",
              "    }\n",
              "\n",
              "    .dataframe thead th {\n",
              "        text-align: right;\n",
              "    }\n",
              "</style>\n",
              "<table border=\"1\" class=\"dataframe\">\n",
              "  <thead>\n",
              "    <tr style=\"text-align: right;\">\n",
              "      <th></th>\n",
              "      <th>-</th>\n",
              "      <th>N</th>\n",
              "      <th>L</th>\n",
              "      <th>F</th>\n",
              "      <th>V</th>\n",
              "      <th>A</th>\n",
              "      <th>L</th>\n",
              "      <th>Y</th>\n",
              "      <th>D</th>\n",
              "      <th>F</th>\n",
              "      <th>...</th>\n",
              "      <th>V</th>\n",
              "      <th>P</th>\n",
              "      <th>S</th>\n",
              "      <th>N</th>\n",
              "      <th>Y</th>\n",
              "      <th>I</th>\n",
              "      <th>T</th>\n",
              "      <th>P</th>\n",
              "      <th>V</th>\n",
              "      <th>N</th>\n",
              "    </tr>\n",
              "  </thead>\n",
              "  <tbody>\n",
              "    <tr>\n",
              "      <th>-</th>\n",
              "      <td>0</td>\n",
              "      <td>0</td>\n",
              "      <td>0</td>\n",
              "      <td>0</td>\n",
              "      <td>0</td>\n",
              "      <td>0</td>\n",
              "      <td>0</td>\n",
              "      <td>0</td>\n",
              "      <td>0</td>\n",
              "      <td>0</td>\n",
              "      <td>...</td>\n",
              "      <td>0</td>\n",
              "      <td>0</td>\n",
              "      <td>0</td>\n",
              "      <td>0</td>\n",
              "      <td>0</td>\n",
              "      <td>0</td>\n",
              "      <td>0</td>\n",
              "      <td>0</td>\n",
              "      <td>0</td>\n",
              "      <td>0</td>\n",
              "    </tr>\n",
              "    <tr>\n",
              "      <th>K</th>\n",
              "      <td>0</td>\n",
              "      <td>1</td>\n",
              "      <td>0</td>\n",
              "      <td>0</td>\n",
              "      <td>0</td>\n",
              "      <td>0</td>\n",
              "      <td>0</td>\n",
              "      <td>0</td>\n",
              "      <td>0</td>\n",
              "      <td>0</td>\n",
              "      <td>...</td>\n",
              "      <td>0</td>\n",
              "      <td>0</td>\n",
              "      <td>0</td>\n",
              "      <td>1</td>\n",
              "      <td>0</td>\n",
              "      <td>0</td>\n",
              "      <td>0</td>\n",
              "      <td>0</td>\n",
              "      <td>0</td>\n",
              "      <td>1</td>\n",
              "    </tr>\n",
              "    <tr>\n",
              "      <th>G</th>\n",
              "      <td>0</td>\n",
              "      <td>0</td>\n",
              "      <td>0</td>\n",
              "      <td>0</td>\n",
              "      <td>0</td>\n",
              "      <td>1</td>\n",
              "      <td>0</td>\n",
              "      <td>0</td>\n",
              "      <td>1</td>\n",
              "      <td>0</td>\n",
              "      <td>...</td>\n",
              "      <td>0</td>\n",
              "      <td>0</td>\n",
              "      <td>1</td>\n",
              "      <td>0</td>\n",
              "      <td>0</td>\n",
              "      <td>0</td>\n",
              "      <td>0</td>\n",
              "      <td>0</td>\n",
              "      <td>0</td>\n",
              "      <td>0</td>\n",
              "    </tr>\n",
              "    <tr>\n",
              "      <th>V</th>\n",
              "      <td>0</td>\n",
              "      <td>0</td>\n",
              "      <td>2</td>\n",
              "      <td>0</td>\n",
              "      <td>4</td>\n",
              "      <td>0</td>\n",
              "      <td>3</td>\n",
              "      <td>0</td>\n",
              "      <td>0</td>\n",
              "      <td>0</td>\n",
              "      <td>...</td>\n",
              "      <td>4</td>\n",
              "      <td>0</td>\n",
              "      <td>0</td>\n",
              "      <td>0</td>\n",
              "      <td>0</td>\n",
              "      <td>4</td>\n",
              "      <td>0</td>\n",
              "      <td>0</td>\n",
              "      <td>4</td>\n",
              "      <td>0</td>\n",
              "    </tr>\n",
              "    <tr>\n",
              "      <th>I</th>\n",
              "      <td>0</td>\n",
              "      <td>0</td>\n",
              "      <td>2</td>\n",
              "      <td>3</td>\n",
              "      <td>4</td>\n",
              "      <td>3</td>\n",
              "      <td>2</td>\n",
              "      <td>2</td>\n",
              "      <td>0</td>\n",
              "      <td>1</td>\n",
              "      <td>...</td>\n",
              "      <td>4</td>\n",
              "      <td>2</td>\n",
              "      <td>0</td>\n",
              "      <td>0</td>\n",
              "      <td>0</td>\n",
              "      <td>5</td>\n",
              "      <td>4</td>\n",
              "      <td>0</td>\n",
              "      <td>4</td>\n",
              "      <td>2</td>\n",
              "    </tr>\n",
              "    <tr>\n",
              "      <th>...</th>\n",
              "      <td>...</td>\n",
              "      <td>...</td>\n",
              "      <td>...</td>\n",
              "      <td>...</td>\n",
              "      <td>...</td>\n",
              "      <td>...</td>\n",
              "      <td>...</td>\n",
              "      <td>...</td>\n",
              "      <td>...</td>\n",
              "      <td>...</td>\n",
              "      <td>...</td>\n",
              "      <td>...</td>\n",
              "      <td>...</td>\n",
              "      <td>...</td>\n",
              "      <td>...</td>\n",
              "      <td>...</td>\n",
              "      <td>...</td>\n",
              "      <td>...</td>\n",
              "      <td>...</td>\n",
              "      <td>...</td>\n",
              "      <td>...</td>\n",
              "    </tr>\n",
              "    <tr>\n",
              "      <th>L</th>\n",
              "      <td>0</td>\n",
              "      <td>0</td>\n",
              "      <td>6</td>\n",
              "      <td>10</td>\n",
              "      <td>4</td>\n",
              "      <td>0</td>\n",
              "      <td>6</td>\n",
              "      <td>5</td>\n",
              "      <td>0</td>\n",
              "      <td>5</td>\n",
              "      <td>...</td>\n",
              "      <td>4</td>\n",
              "      <td>11</td>\n",
              "      <td>20</td>\n",
              "      <td>31</td>\n",
              "      <td>40</td>\n",
              "      <td>52</td>\n",
              "      <td>42</td>\n",
              "      <td>32</td>\n",
              "      <td>25</td>\n",
              "      <td>15</td>\n",
              "    </tr>\n",
              "    <tr>\n",
              "      <th>G</th>\n",
              "      <td>0</td>\n",
              "      <td>0</td>\n",
              "      <td>0</td>\n",
              "      <td>1</td>\n",
              "      <td>9</td>\n",
              "      <td>5</td>\n",
              "      <td>0</td>\n",
              "      <td>1</td>\n",
              "      <td>6</td>\n",
              "      <td>0</td>\n",
              "      <td>...</td>\n",
              "      <td>0</td>\n",
              "      <td>4</td>\n",
              "      <td>12</td>\n",
              "      <td>21</td>\n",
              "      <td>30</td>\n",
              "      <td>42</td>\n",
              "      <td>52</td>\n",
              "      <td>42</td>\n",
              "      <td>32</td>\n",
              "      <td>25</td>\n",
              "    </tr>\n",
              "    <tr>\n",
              "      <th>L</th>\n",
              "      <td>0</td>\n",
              "      <td>0</td>\n",
              "      <td>6</td>\n",
              "      <td>2</td>\n",
              "      <td>3</td>\n",
              "      <td>7</td>\n",
              "      <td>11</td>\n",
              "      <td>1</td>\n",
              "      <td>0</td>\n",
              "      <td>8</td>\n",
              "      <td>...</td>\n",
              "      <td>2</td>\n",
              "      <td>0</td>\n",
              "      <td>2</td>\n",
              "      <td>11</td>\n",
              "      <td>20</td>\n",
              "      <td>32</td>\n",
              "      <td>42</td>\n",
              "      <td>49</td>\n",
              "      <td>44</td>\n",
              "      <td>34</td>\n",
              "    </tr>\n",
              "    <tr>\n",
              "      <th>Y</th>\n",
              "      <td>0</td>\n",
              "      <td>0</td>\n",
              "      <td>0</td>\n",
              "      <td>13</td>\n",
              "      <td>3</td>\n",
              "      <td>0</td>\n",
              "      <td>6</td>\n",
              "      <td>21</td>\n",
              "      <td>11</td>\n",
              "      <td>7</td>\n",
              "      <td>...</td>\n",
              "      <td>1</td>\n",
              "      <td>0</td>\n",
              "      <td>0</td>\n",
              "      <td>1</td>\n",
              "      <td>21</td>\n",
              "      <td>22</td>\n",
              "      <td>32</td>\n",
              "      <td>39</td>\n",
              "      <td>47</td>\n",
              "      <td>42</td>\n",
              "    </tr>\n",
              "    <tr>\n",
              "      <th>P</th>\n",
              "      <td>0</td>\n",
              "      <td>0</td>\n",
              "      <td>0</td>\n",
              "      <td>3</td>\n",
              "      <td>12</td>\n",
              "      <td>4</td>\n",
              "      <td>0</td>\n",
              "      <td>11</td>\n",
              "      <td>20</td>\n",
              "      <td>10</td>\n",
              "      <td>...</td>\n",
              "      <td>0</td>\n",
              "      <td>7</td>\n",
              "      <td>1</td>\n",
              "      <td>0</td>\n",
              "      <td>11</td>\n",
              "      <td>19</td>\n",
              "      <td>22</td>\n",
              "      <td>38</td>\n",
              "      <td>38</td>\n",
              "      <td>47</td>\n",
              "    </tr>\n",
              "  </tbody>\n",
              "</table>\n",
              "<p>61 rows × 58 columns</p>\n",
              "</div>\n",
              "      <button class=\"colab-df-convert\" onclick=\"convertToInteractive('df-5e064479-9c93-424e-a4a4-977fa9c900e5')\"\n",
              "              title=\"Convert this dataframe to an interactive table.\"\n",
              "              style=\"display:none;\">\n",
              "        \n",
              "  <svg xmlns=\"http://www.w3.org/2000/svg\" height=\"24px\"viewBox=\"0 0 24 24\"\n",
              "       width=\"24px\">\n",
              "    <path d=\"M0 0h24v24H0V0z\" fill=\"none\"/>\n",
              "    <path d=\"M18.56 5.44l.94 2.06.94-2.06 2.06-.94-2.06-.94-.94-2.06-.94 2.06-2.06.94zm-11 1L8.5 8.5l.94-2.06 2.06-.94-2.06-.94L8.5 2.5l-.94 2.06-2.06.94zm10 10l.94 2.06.94-2.06 2.06-.94-2.06-.94-.94-2.06-.94 2.06-2.06.94z\"/><path d=\"M17.41 7.96l-1.37-1.37c-.4-.4-.92-.59-1.43-.59-.52 0-1.04.2-1.43.59L10.3 9.45l-7.72 7.72c-.78.78-.78 2.05 0 2.83L4 21.41c.39.39.9.59 1.41.59.51 0 1.02-.2 1.41-.59l7.78-7.78 2.81-2.81c.8-.78.8-2.07 0-2.86zM5.41 20L4 18.59l7.72-7.72 1.47 1.35L5.41 20z\"/>\n",
              "  </svg>\n",
              "      </button>\n",
              "      \n",
              "  <style>\n",
              "    .colab-df-container {\n",
              "      display:flex;\n",
              "      flex-wrap:wrap;\n",
              "      gap: 12px;\n",
              "    }\n",
              "\n",
              "    .colab-df-convert {\n",
              "      background-color: #E8F0FE;\n",
              "      border: none;\n",
              "      border-radius: 50%;\n",
              "      cursor: pointer;\n",
              "      display: none;\n",
              "      fill: #1967D2;\n",
              "      height: 32px;\n",
              "      padding: 0 0 0 0;\n",
              "      width: 32px;\n",
              "    }\n",
              "\n",
              "    .colab-df-convert:hover {\n",
              "      background-color: #E2EBFA;\n",
              "      box-shadow: 0px 1px 2px rgba(60, 64, 67, 0.3), 0px 1px 3px 1px rgba(60, 64, 67, 0.15);\n",
              "      fill: #174EA6;\n",
              "    }\n",
              "\n",
              "    [theme=dark] .colab-df-convert {\n",
              "      background-color: #3B4455;\n",
              "      fill: #D2E3FC;\n",
              "    }\n",
              "\n",
              "    [theme=dark] .colab-df-convert:hover {\n",
              "      background-color: #434B5C;\n",
              "      box-shadow: 0px 1px 3px 1px rgba(0, 0, 0, 0.15);\n",
              "      filter: drop-shadow(0px 1px 2px rgba(0, 0, 0, 0.3));\n",
              "      fill: #FFFFFF;\n",
              "    }\n",
              "  </style>\n",
              "\n",
              "      <script>\n",
              "        const buttonEl =\n",
              "          document.querySelector('#df-5e064479-9c93-424e-a4a4-977fa9c900e5 button.colab-df-convert');\n",
              "        buttonEl.style.display =\n",
              "          google.colab.kernel.accessAllowed ? 'block' : 'none';\n",
              "\n",
              "        async function convertToInteractive(key) {\n",
              "          const element = document.querySelector('#df-5e064479-9c93-424e-a4a4-977fa9c900e5');\n",
              "          const dataTable =\n",
              "            await google.colab.kernel.invokeFunction('convertToInteractive',\n",
              "                                                     [key], {});\n",
              "          if (!dataTable) return;\n",
              "\n",
              "          const docLinkHtml = 'Like what you see? Visit the ' +\n",
              "            '<a target=\"_blank\" href=https://colab.research.google.com/notebooks/data_table.ipynb>data table notebook</a>'\n",
              "            + ' to learn more about interactive tables.';\n",
              "          element.innerHTML = '';\n",
              "          dataTable['output_type'] = 'display_data';\n",
              "          await google.colab.output.renderOutput(dataTable, element);\n",
              "          const docLink = document.createElement('div');\n",
              "          docLink.innerHTML = docLinkHtml;\n",
              "          element.appendChild(docLink);\n",
              "        }\n",
              "      </script>\n",
              "    </div>\n",
              "  </div>\n",
              "  "
            ]
          },
          "metadata": {},
          "execution_count": 32
        }
      ]
    },
    {
      "cell_type": "code",
      "source": [
        "bestScoreCell[1]"
      ],
      "metadata": {
        "id": "ubBWol8kmX1P",
        "outputId": "e50121a7-079b-4a19-e0ad-bfe9e57bce1e",
        "colab": {
          "base_uri": "https://localhost:8080/"
        }
      },
      "execution_count": 39,
      "outputs": [
        {
          "output_type": "execute_result",
          "data": {
            "text/plain": [
              "54"
            ]
          },
          "metadata": {},
          "execution_count": 39
        }
      ]
    },
    {
      "cell_type": "code",
      "source": [
        ""
      ],
      "metadata": {
        "id": "inNezNqdofDC"
      },
      "execution_count": 47,
      "outputs": []
    }
  ]
}