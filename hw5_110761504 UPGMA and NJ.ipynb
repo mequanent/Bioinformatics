{
  "nbformat": 4,
  "nbformat_minor": 0,
  "metadata": {
    "colab": {
      "name": "hw5_110761504 UPGMA and NJ.ipynb",
      "provenance": [],
      "include_colab_link": true
    },
    "kernelspec": {
      "name": "python3",
      "display_name": "Python 3"
    },
    "language_info": {
      "name": "python"
    }
  },
  "cells": [
    {
      "cell_type": "markdown",
      "metadata": {
        "id": "view-in-github",
        "colab_type": "text"
      },
      "source": [
        "<a href=\"https://colab.research.google.com/github/mequanent/Bioinformatics-hws/blob/main/hw5_110761504%20UPGMA%20and%20NJ.ipynb\" target=\"_parent\"><img src=\"https://colab.research.google.com/assets/colab-badge.svg\" alt=\"Open In Colab\"/></a>"
      ]
    },
    {
      "cell_type": "markdown",
      "source": [
        "**HW5: UPGMA and NJ** "
      ],
      "metadata": {
        "id": "LHYwDzaGBhN8"
      }
    },
    {
      "cell_type": "code",
      "source": [
        "!npx degit https://github.com/mequanent/Bioinformatics-hws -f"
      ],
      "metadata": {
        "colab": {
          "base_uri": "https://localhost:8080/"
        },
        "id": "OiONMNipPs98",
        "outputId": "f83fbee0-5660-45fd-9610-41e9da61147e"
      },
      "execution_count": 1,
      "outputs": [
        {
          "output_type": "stream",
          "name": "stdout",
          "text": [
            "\u001b[K\u001b[?25hnpx: installed 1 in 2.704s\n",
            "\u001b[36m> destination directory is not empty. Using --force, continuing\u001b[39m\n",
            "\u001b[36m> cloned \u001b[1mmequanent/Bioinformatics-hws\u001b[22m#\u001b[1mHEAD\u001b[22m\u001b[39m\n"
          ]
        }
      ]
    },
    {
      "cell_type": "code",
      "source": [
        "import numpy as np\n",
        "import pandas as pd\n",
        "pd.set_option('display.max_colwidth', None)\n",
        "\n",
        "input = \"pro5_test4.txt\"\n",
        "#input = \"distanceMatrix1.txt\"\n",
        "input = open(input, 'r')\n",
        "lines = input.readlines()[1:]\n",
        "input.close()\n",
        "\n",
        "# Get the matrix in numpy form and then in pandas form\n",
        "def getD(lines):\n",
        "  distance = []\n",
        "  indices = []\n",
        "  i = 0\n",
        "  for line in lines:\n",
        "    line = line.split()\n",
        "    distance.append(line)\n",
        "    indices.append(i)\n",
        "    i += 1\n",
        "  # numpy and then pandas form of the distance matrix\n",
        "  indices = [(chr(i+65)) for i in indices]\n",
        "  distance = np.array(distance).astype(float)\n",
        "  dist = pd.DataFrame(distance, index = indices, columns = indices)\n",
        "  # Add additional column to store the combined entities \n",
        "  \n",
        "  return dist, indices\n",
        "dist, indices = getD(lines)"
      ],
      "metadata": {
        "id": "6PUll19PBd_o"
      },
      "execution_count": 2,
      "outputs": []
    },
    {
      "cell_type": "code",
      "source": [
        "def modifyD(d):\n",
        "  indices = getD(lines)[1]\n",
        "  d['paired'] = indices # Column for paired taxas with their corresponding distances\n",
        "  #d['paired_no_dist'] = indices # Without distance for simplified view of combination\n",
        "  return d"
      ],
      "metadata": {
        "id": "37-i6tGBmolI"
      },
      "execution_count": 16,
      "outputs": []
    },
    {
      "cell_type": "code",
      "source": [
        "def mini(a):\n",
        "  loc = (0, 0)\n",
        "  min = np.Inf \n",
        "  cols = [c for c in a.columns if a.columns.get_loc(c) < a.columns.get_loc('paired')]\n",
        "  for i in cols:\n",
        "    for j in cols: \n",
        "      if i != j:\n",
        "        if a.loc[i][j] < min:\n",
        "          min = a.loc[i][j]\n",
        "          loc = (i, j)  \n",
        "  return min, loc"
      ],
      "metadata": {
        "id": "RkRVf75nGgQp"
      },
      "execution_count": 17,
      "outputs": []
    },
    {
      "cell_type": "code",
      "source": [
        "# A function to update the distance in UPGMA \n",
        "# Reference for updating table: http://www.slimsuite.unsw.edu.au/teaching/upgma/\n",
        "def updateD(D):\n",
        "  d = getD(lines)[0]\n",
        "\n",
        "  i, j = mini(D)[1]\n",
        "\n",
        "  D = D.rename(columns={j: i + j}, index={j: i + j}) # Rename index and column\n",
        "  D.drop(i, inplace = True) # drop one\n",
        "  D.drop(i, inplace = True, axis = 1)\n",
        "  j = i + j\n",
        "\n",
        "  cols = [c for c in D.columns if D.columns.get_loc(c) < D.columns.get_loc('paired')]\n",
        "  for u in cols:\n",
        "    if u == j:\n",
        "      D.loc[u, j] = 0\n",
        "    else:\n",
        "      sum = 0\n",
        "      l = len(j) * len(u)\n",
        "      for x in j:\n",
        "        for y in u:\n",
        "          sum = sum + d.loc[x, y]\n",
        "      D.loc[j, u] = D.loc[u, j] = sum/l\n",
        "  return D "
      ],
      "metadata": {
        "id": "cvkygsc6htrl"
      },
      "execution_count": 26,
      "outputs": []
    },
    {
      "cell_type": "markdown",
      "source": [
        "You should consider the # of elements when recalculating the distance matrix after merging two taxa.\n",
        "Taking merging (a,b) & e as an example, how to calculate the distance between a cluster, ((a,b),e), and c = (D((a,b),c)x2 + D(e,c)x1) / (2+1) instead of (D((a,b),c) + D(e,c)) / 2.\n",
        "I would discuss this in the next lecture.\n",
        "Therefore, the deadline for pro5 is postponed to 00:00 10th of June. \n",
        "\n",
        "Thanks, Mequanent for pointing out the difference between Average linkage clustering: WPGMA and  Average linkage clustering: UPGMA."
      ],
      "metadata": {
        "id": "OlyPXEuNYtS0"
      }
    },
    {
      "cell_type": "code",
      "source": [
        "def UPGMA():\n",
        "  D = getD(lines)[0]\n",
        "  D = modifyD(D)\n",
        "  D['Dso_far'] = 0 # distance accumulated  so far\n",
        "  while len(D) > 1:\n",
        "    min_dist, loc = mini(D)\n",
        "    i, j = loc#min(loc), max(loc)\n",
        "    half = round(min_dist / 2, 4) # round result to 4 decimal places\n",
        "    #print(i, j)\n",
        "    print(min_dist, i, D.loc[i]['Dso_far'], j, D.loc[j]['Dso_far'])\n",
        "    #print(j, D.loc[j]['Dso_far'])\n",
        "    #print(D)\n",
        "    \n",
        "    d1, d2 = half - D.loc[i]['Dso_far'], half - D.loc[j]['Dso_far']\n",
        "    d1, d2 = str(round(d1, 3)), str(round(d2, 3)) # rounded to 3 as in the expected output\n",
        "    \n",
        "    p1, p2 = D.loc[i]['paired'], D.loc[j]['paired']\n",
        "    #p11, p22 = D.loc[i]['paired_no_dist'], D.loc[j]['paired_no_dist']\n",
        "\n",
        "    #cols = [c for c in D.columns if D.columns.get_loc(c) < D.columns.get_loc('paired')]\n",
        "    D = updateD(D)\n",
        "\n",
        "    pair = \"(\" + p1 + ':' + d1 + \", \" + p2 + ':' + d2 + \")\"  # form paired string\n",
        "    #pair_no_dist = \"(\" + p11 +  \", \" + p22 + \")\" \n",
        "\n",
        "    D.loc[i+j, 'paired'] = pair\n",
        "    #D.loc[i+j, 'paired_no_dist'] = pair_no_dist\n",
        "    D.loc[i+j, 'Dso_far'] = half\n",
        "\n",
        "  #D['paired'] = D['paired'] + \";\"\n",
        "  #D['paired_no_dist'] = D['paired_no_dist'] + \";\"\n",
        "  return D['paired'][0]#, D['paired_no_dist'][0]\n",
        "print('With distance:')\n",
        "print(UPGMA())#[0])\n",
        "print('Without distance:')\n",
        "#print(UPGMA()[1]) "
      ],
      "metadata": {
        "colab": {
          "base_uri": "https://localhost:8080/"
        },
        "id": "U30N1ecbhNX4",
        "outputId": "73521c8e-f58c-4631-cc82-5ce6f94d3168"
      },
      "execution_count": 30,
      "outputs": [
        {
          "output_type": "stream",
          "name": "stdout",
          "text": [
            "With distance:\n",
            "0.0824 A 0 B 0\n",
            "0.1532 D 0.0 G 0.0\n",
            "0.3121 C 0.0 F 0.0\n",
            "0.4175 AB 0.0412 H 0.0\n",
            "0.4881 E 0.0 DG 0.0766\n",
            "0.5602666666666666 CF 0.156 ABH 0.2088\n",
            "0.6146266666666667 EDG 0.244 CFABH 0.2801\n",
            "((E:0.244, (D:0.077, G:0.077):0.167):0.063, ((C:0.156, F:0.156):0.124, ((A:0.041, B:0.041):0.168, H:0.209):0.071):0.027)\n",
            "Without distance:\n"
          ]
        }
      ]
    },
    {
      "cell_type": "markdown",
      "source": [
        "![image.png](data:image/png;base64,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)"
      ],
      "metadata": {
        "id": "Re0CbAttYKBU"
      }
    },
    {
      "cell_type": "code",
      "source": [
        "# Get the sum of all distances for each taxa \n",
        "def getsum(d): \n",
        "  cols = [col for col in d.index]\n",
        "  sums = dict()\n",
        "  for i in cols:\n",
        "    sums[i] = d.loc[i, :'paired'][:-1].sum()\n",
        "  return sums"
      ],
      "metadata": {
        "id": "czy9xW-XbCgD"
      },
      "execution_count": null,
      "outputs": []
    },
    {
      "cell_type": "code",
      "source": [
        "# Calculate Q for the a distance matrix\n",
        "def getQ(D):\n",
        "  n = len(D) \n",
        "  Q = D.copy()\n",
        "\n",
        "  cols = [c for c in D.columns if D.columns.get_loc(c) < D.columns.get_loc('paired')]\n",
        "  for i in cols:\n",
        "    for j in cols:  \n",
        "      if i != j:  \n",
        "        dif = getsum(D)[i] + getsum(D)[j]\n",
        "        Q.loc[i, j] = round(((n-2) * D.loc[i][j] - dif), 3)\n",
        "        Q.loc[j, i] = Q.loc[i, j]\n",
        "  return Q    "
      ],
      "metadata": {
        "id": "QuXdcy8PWvBe"
      },
      "execution_count": null,
      "outputs": []
    },
    {
      "cell_type": "code",
      "source": [
        "# The neighbor joining method\n",
        "def NJ():\n",
        "  D = getD(lines)[0]\n",
        "  D = modifyD(D)  \n",
        "  #D = getD(lines)\n",
        "  while len(D) > 1:\n",
        "    n = len(D)\n",
        "    q = getQ(D)\n",
        "    min_dist, loc = mini(q)\n",
        "    f, g = min(loc), max(loc)\n",
        "\n",
        "    p1, p2 = D.loc[f]['paired'], D.loc[g]['paired']\n",
        "    p11, p22 = D.loc[f]['paired_no_dist'], D.loc[g]['paired_no_dist']\n",
        "\n",
        "    dist1 = getsum(D)[f]\n",
        "    dist2 = getsum(D)[g]\n",
        "    if len(D) > 2:\n",
        "      dif = (dist1 - dist2) / (n-2)\n",
        "      delta_fu = round((0.5 * (D.loc[f][g] + dif)), 2)\n",
        "      delta_gu = round((D.loc[f][g] - delta_fu), 2)\n",
        "    else:\n",
        "      delta_gu = round((0.5 * (D.loc[f][g] + dist1)), 2)\n",
        "      delta_fu = ''\n",
        "\n",
        "    if len(D) == 2:\n",
        "      pair = \"(\" + p2 + ':' + str(delta_gu) + \", \" + p1  + \")\"  # form paired string\n",
        "      pair_no_dist = \"(\" + p22 +  \", \" + p11 + \")\" \n",
        "    elif len(D) == 3:\n",
        "      pair = p2 + ':' + str(delta_gu) + \", \" + p1 + ':' + str(delta_fu)# + \")\"  # form paired string\n",
        "      pair_no_dist = p22 +  \", \" + p11 \n",
        "    else:\n",
        "      pair = \"(\" + p2 + ':' + str(delta_gu) + \", \" + p1 + ':' + str(delta_fu) + \")\"  # form paired string\n",
        "      pair_no_dist = \"(\" + p22 +  \", \" + p11 + \")\"\n",
        "\n",
        "    tmp = D.copy()\n",
        "    D.drop(g, inplace = True) # Remove one row considering f as u\n",
        "    D.drop(g, inplace = True, axis = 1) # Remove one column\n",
        "    \n",
        "    cols = [col for col in D.columns if col not in [f, 'paired', 'paired_no_dist']]\n",
        "    for k in cols:    \n",
        "      D.loc[f, k] = round((0.5 * (tmp.loc[f, k] + tmp.loc[g, k] - tmp.loc[f, g])), 3)\n",
        "      D.loc[k, f] = D.loc[f, k]    # Column \n",
        "\n",
        "    D.loc[f, 'paired'] = pair\n",
        "    D.loc[f, 'paired_no_dist'] = pair_no_dist\n",
        "  return D['paired'][0], D['paired_no_dist'][0]\n",
        "print('With distance:')\n",
        "print(NJ()[0])\n",
        "print('Without distance:')\n",
        "print(NJ()[1])"
      ],
      "metadata": {
        "colab": {
          "base_uri": "https://localhost:8080/"
        },
        "id": "7_NQYDQNYCnO",
        "outputId": "7567b6f2-6c9f-499e-f934-0bc6264b0f13"
      },
      "execution_count": null,
      "outputs": [
        {
          "output_type": "stream",
          "name": "stdout",
          "text": [
            "With distance:\n",
            "((G:0.12, F:0.15):0.04, E:0.15, (D:0.28, (C:0.36, (B:0.77, A:0.92):0.42):0.05):0.03)\n",
            "Without distance:\n",
            "((G, F), E, (D, (C, (B, A))))\n"
          ]
        }
      ]
    },
    {
      "cell_type": "code",
      "source": [
        "method = 'UPGMA'\n",
        "tree = []\n",
        "if method == 'UPGMA':\n",
        "  tree = UPGMA()\n",
        "elif method == 'NJ':\n",
        "  tree = NJ()\n",
        "print(tree[0])\n",
        "print(tree[1])"
      ],
      "metadata": {
        "colab": {
          "base_uri": "https://localhost:8080/"
        },
        "id": "yBZgRXdUYCaN",
        "outputId": "1a10ad55-67a0-4a7b-e71d-a0b72f685869"
      },
      "execution_count": 24,
      "outputs": [
        {
          "output_type": "stream",
          "name": "stdout",
          "text": [
            "(\n",
            "(\n"
          ]
        }
      ]
    },
    {
      "cell_type": "code",
      "source": [
        "!pip install Bio -q\n",
        "from Bio import Phylo\n",
        "from io import StringIO"
      ],
      "metadata": {
        "id": "LB6G1U4nVW9q",
        "outputId": "a5f1e6d0-eace-4da2-b294-5f01b687b639",
        "colab": {
          "base_uri": "https://localhost:8080/"
        }
      },
      "execution_count": null,
      "outputs": [
        {
          "output_type": "stream",
          "name": "stdout",
          "text": [
            "\u001b[K     |████████████████████████████████| 270 kB 4.2 MB/s \n",
            "\u001b[K     |████████████████████████████████| 2.3 MB 55.2 MB/s \n",
            "\u001b[?25h"
          ]
        }
      ]
    },
    {
      "cell_type": "code",
      "source": [
        "tree = Phylo.read(StringIO(tree[0]), \"newick\")\n",
        "print(tree)\n",
        "Phylo.draw(tree, branch_labels=lambda c: c.branch_length)\n",
        "#Phylo.write(tree, \"example-both.nwk\", \"newick\")"
      ],
      "metadata": {
        "id": "-blGlzy8PONQ",
        "outputId": "76711fdd-d566-447e-c217-bc15f6ca63d1",
        "colab": {
          "base_uri": "https://localhost:8080/",
          "height": 514
        }
      },
      "execution_count": null,
      "outputs": [
        {
          "output_type": "stream",
          "name": "stdout",
          "text": [
            "Tree(rooted=False, weight=1.0)\n",
            "    Clade()\n",
            "        Clade(branch_length=0.04)\n",
            "            Clade(branch_length=0.12, name='G')\n",
            "            Clade(branch_length=0.15, name='F')\n",
            "        Clade(branch_length=0.15, name='E')\n",
            "        Clade(branch_length=0.03)\n",
            "            Clade(branch_length=0.28, name='D')\n",
            "            Clade(branch_length=0.05)\n",
            "                Clade(branch_length=0.36, name='C')\n",
            "                Clade(branch_length=0.42)\n",
            "                    Clade(branch_length=0.77, name='B')\n",
            "                    Clade(branch_length=0.92, name='A')\n"
          ]
        },
        {
          "output_type": "display_data",
          "data": {
            "text/plain": [
              "<Figure size 432x288 with 1 Axes>"
            ],
            "image/png": "[encoded data removed]"
          },
          "metadata": {
            "needs_background": "light"
          }
        }
      ]
    },
    {
      "cell_type": "markdown",
      "source": [
        "![image.png](data:image/png;base64,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)"
      ],
      "metadata": {
        "id": "Pjj7NsvCG0hT"
      }
    },
    {
      "cell_type": "markdown",
      "source": [
        "![image.png](data:image/png;base64,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)"
      ],
      "metadata": {
        "id": "rSF7Fe6KGlxK"
      }
    }
  ]
}